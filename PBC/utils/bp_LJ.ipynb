{
 "cells": [
  {
   "cell_type": "code",
   "execution_count": 2,
   "metadata": {},
   "outputs": [
    {
     "name": "stderr",
     "output_type": "stream",
     "text": [
      "/home/sijingdu/anaconda3/envs/tnmpa/lib/python3.11/site-packages/numba/np/ufunc/parallel.py:371: NumbaWarning: The TBB threading layer requires TBB version 2021 update 6 or later i.e., TBB_INTERFACE_VERSION >= 12060. Found TBB_INTERFACE_VERSION = 12050. The TBB threading layer is disabled.\n",
      "  warnings.warn(problem)\n"
     ]
    }
   ],
   "source": [
    "import quimb as qu\n",
    "import quimb.tensor as qtn\n",
    "import numpy as np\n",
    "import tnmpa.solvers.quimb_vbp as qbp\n",
    "\n",
    "def contract_HTN_partition(tn):\n",
    "    \"\"\"\n",
    "    Exactly contract the hyper tensor network to get the partition function.\n",
    "    \"\"\"\n",
    "    import quimb.tensor as qtn\n",
    "    tensor_list = []\n",
    "    for tensor in tn.tensor_map.values():\n",
    "        tensor_list.append(tensor)\n",
    "    value = qtn.tensor_contract(*tensor_list, output_inds=[])\n",
    "    return value\n",
    "\n",
    "def compare_bp_exact_HTN_tree(Lx,Ly,Lz=0,Nx=10,Ny=10,Nz=10,beta=0.5,tol=1e-10,damping=False,eta=1e-2):\n",
    "    \"\"\"\"\"\"\n",
    "    if Lz==0:\n",
    "        # 2D\n",
    "        tn = qtn.tensor_builder.HTN2D_classical_LennardJones_partition_function_spinrep(Lx=Lx,Ly=Ly,Nx=Nx,Ny=Ny,beta=beta)\n",
    "    else:\n",
    "        # 3D\n",
    "        tn = qtn.tensor_builder.HTN3D_classical_LennardJones_partition_function_spinrep(Lx=Lx,Ly=Ly,Lz=Lz,Nx=Nx,Ny=Ny,Nz=Nz,beta=beta)\n",
    "        \n",
    "    tn.hyperinds_resolve_('tree','clustering')\n",
    "    # Exact\n",
    "    Z_exact = contract_HTN_partition(tn)\n",
    "    entropy_exact = np.log(Z_exact)\n",
    "\n",
    "    # BP\n",
    "    messages, converged = qbp.run_belief_propagation(\n",
    "    tn, \n",
    "    tol=tol,\n",
    "    max_iterations=2000, \n",
    "    progbar=True,\n",
    "    # you can parallelize but its not super efficient\n",
    "    thread_pool=8,\n",
    "    uniform=False,\n",
    "    damping=damping,\n",
    "    eta=eta,\n",
    "    )\n",
    "    entropy_bp = qbp.compute_free_entropy_from_messages(tn, messages)\n",
    "    Z_bp =np.exp(entropy_bp)\n",
    "\n",
    "    err = np.abs(entropy_exact-entropy_bp)/entropy_exact\n",
    "\n",
    "    return err, Z_bp, Z_exact, entropy_bp, entropy_exact\n",
    "\n",
    "def compare_bp_exact_HTN_dense(Lx,Ly,Lz=0,Nx=10,Ny=10,Nz=10,beta=0.5,tol=1e-10,damping=False,eta=1e-2):\n",
    "    \"\"\"\"\"\"\n",
    "    if Lz==0:\n",
    "        # 2D\n",
    "        tn = qtn.tensor_builder.HTN2D_classical_LennardJones_partition_function_spinrep(Lx=Lx,Ly=Ly,Nx=Nx,Ny=Ny,beta=beta)\n",
    "    else:\n",
    "        # 3D\n",
    "        tn = qtn.tensor_builder.HTN3D_classical_LennardJones_partition_function_spinrep(Lx=Lx,Ly=Ly,Lz=Lz,Nx=Nx,Ny=Ny,Nz=Nz,beta=beta)\n",
    "        \n",
    "    tn.hyperinds_resolve_('dense','clustering')\n",
    "    # Exact\n",
    "    Z_exact = contract_HTN_partition(tn)\n",
    "    entropy_exact = np.log(Z_exact)\n",
    "\n",
    "    # BP\n",
    "    messages, converged = qbp.run_belief_propagation(\n",
    "    tn, \n",
    "    tol=tol,\n",
    "    max_iterations=2000, \n",
    "    progbar=True,\n",
    "    # you can parallelize but its not super efficient\n",
    "    thread_pool=8,\n",
    "    uniform=False,\n",
    "    damping=damping,\n",
    "    eta=eta,\n",
    "    )\n",
    "    entropy_bp = qbp.compute_free_entropy_from_messages(tn, messages)\n",
    "    Z_bp =np.exp(entropy_bp)\n",
    "\n",
    "    err = np.abs(entropy_exact-entropy_bp)/entropy_exact\n",
    "\n",
    "    return err, Z_bp, Z_exact, entropy_bp, entropy_exact\n",
    "\n",
    "def compare_bp_exact_HTN(Lx,Ly,Lz=0,Nx=10,Ny=10,Nz=10,beta=0.5,tol=1e-10,damping=False,eta=1e-2):\n",
    "    \"\"\"\"\"\"\n",
    "    if Lz==0:\n",
    "        # 2D\n",
    "        tn = qtn.tensor_builder.HTN2D_classical_LennardJones_partition_function_spinrep(Lx=Lx,Ly=Ly,Nx=Nx,Ny=Ny,beta=beta)\n",
    "    else:\n",
    "        # 3D\n",
    "        tn = qtn.tensor_builder.HTN3D_classical_LennardJones_partition_function_spinrep(Lx=Lx,Ly=Ly,Lz=Lz,Nx=Nx,Ny=Ny,Nz=Nz,beta=beta)\n",
    "        \n",
    "\n",
    "    # Exact\n",
    "    Z_exact = contract_HTN_partition(tn)\n",
    "    entropy_exact = np.log(Z_exact)\n",
    "\n",
    "    # BP\n",
    "    messages, converged = qbp.run_belief_propagation(\n",
    "    tn, \n",
    "    tol=tol,\n",
    "    max_iterations=2000, \n",
    "    progbar=True,\n",
    "    # you can parallelize but its not super efficient\n",
    "    thread_pool=8,\n",
    "    uniform=False,\n",
    "    damping=damping,\n",
    "    eta=eta,\n",
    "    )\n",
    "    entropy_bp = qbp.compute_free_entropy_from_messages(tn, messages)\n",
    "    Z_bp =np.exp(entropy_bp)\n",
    "\n",
    "    err = np.abs(entropy_exact-entropy_bp)/entropy_exact\n",
    "\n",
    "    return err, Z_bp, Z_exact, entropy_bp, entropy_exact\n",
    "\n",
    "def compare_bp_exact_HTN_mps(Lx,Ly,Lz=0,Nx=10,Ny=10,Nz=10,beta=0.5,tol=1e-10,damping=False,eta=1e-2):\n",
    "    \"\"\"\"\"\"\n",
    "    if Lz==0:\n",
    "        # 2D\n",
    "        tn = qtn.tensor_builder.HTN2D_classical_LennardJones_partition_function_spinrep(Lx=Lx,Ly=Ly,Nx=Nx,Ny=Ny,beta=beta)\n",
    "    else:\n",
    "        # 3D\n",
    "        tn = qtn.tensor_builder.HTN3D_classical_LennardJones_partition_function_spinrep(Lx=Lx,Ly=Ly,Lz=Lz,Nx=Nx,Ny=Ny,Nz=Nz,beta=beta)\n",
    "        \n",
    "    tn.hyperinds_resolve_('mps','clustering')\n",
    "    # Exact\n",
    "    Z_exact = contract_HTN_partition(tn)\n",
    "    entropy_exact = np.log(Z_exact)\n",
    "\n",
    "    # BP\n",
    "    messages, converged = qbp.run_belief_propagation(\n",
    "    tn, \n",
    "    tol=tol,\n",
    "    max_iterations=2000, \n",
    "    progbar=True,\n",
    "    # you can parallelize but its not super efficient\n",
    "    thread_pool=8,\n",
    "    uniform=False,\n",
    "    damping=damping,\n",
    "    eta=eta,\n",
    "    )\n",
    "    entropy_bp = qbp.compute_free_entropy_from_messages(tn, messages)\n",
    "    Z_bp =np.exp(entropy_bp)\n",
    "\n",
    "    err = np.abs(entropy_exact-entropy_bp)/entropy_exact\n",
    "\n",
    "    return err, Z_bp, Z_exact, entropy_bp, entropy_exact\n",
    "\n",
    "def BP_HTN(Lx,Ly,Lz=0,Nx=10,Ny=10,Nz=10,beta=0.5,tol=1e-10,damping=False,eta=1e-2,mode=None):\n",
    "    \"\"\"\n",
    "        mode: 'tree','dense','mps'\n",
    "    \"\"\"\n",
    "    if Lz==0:\n",
    "        # 2D\n",
    "        tn = qtn.tensor_builder.HTN2D_classical_LennardJones_partition_function_spinrep(Lx=Lx,Ly=Ly,Nx=Nx,Ny=Ny,beta=beta)\n",
    "    else:\n",
    "        # 3D\n",
    "        tn = qtn.tensor_builder.HTN3D_classical_LennardJones_partition_function_spinrep(Lx=Lx,Ly=Ly,Lz=Lz,Nx=Nx,Ny=Ny,Nz=Nz,beta=beta)\n",
    "        \n",
    "\n",
    "    if mode is not None:\n",
    "        tn.hyperinds_resolve_(mode,'clustering')\n",
    "\n",
    "    # BP\n",
    "    messages, converged = qbp.run_belief_propagation(\n",
    "    tn, \n",
    "    tol=tol,\n",
    "    max_iterations=2000, \n",
    "    progbar=True,\n",
    "    # you can parallelize but its not super efficient\n",
    "    thread_pool=8,\n",
    "    uniform=False,\n",
    "    damping=damping,\n",
    "    eta=eta,\n",
    "    )\n",
    "    entropy_bp = qbp.compute_free_entropy_from_messages(tn, messages)\n",
    "    Z_bp =np.exp(entropy_bp)\n",
    "\n",
    "\n",
    "    return Z_bp, entropy_bp"
   ]
  },
  {
   "cell_type": "code",
   "execution_count": 9,
   "metadata": {},
   "outputs": [
    {
     "name": "stderr",
     "output_type": "stream",
     "text": [
      "max_dm=9.001824550214366e-07:   1%|▏         | 27/2000 [00:00<00:20, 97.05it/s]  \n"
     ]
    }
   ],
   "source": [
    "tn = qtn.tensor_builder.HTN3D_classical_LennardJones_partition_function_spinrep(\n",
    "    Lx=7,Ly=7,Lz=7,\n",
    "    beta=1e-2,\n",
    "    Nx=8,Ny=8,Nz=8,\n",
    "    cutoff=2.0,\n",
    "    epsilon=1.0,\n",
    "    sigma=1.0\n",
    "    )\n",
    "# partition.hyperinds_resolve_('dense')\n",
    "# for tensor in partition.tensors:\n",
    "#     if len(tensor.inds)>2:\n",
    "#         tensor.modify(tags='COPY')\n",
    "# partition.draw(color='COPY')\n",
    "# BP\n",
    "\n",
    "messages, converged = qbp.run_belief_propagation(\n",
    "tn, \n",
    "tol=1e-6,\n",
    "max_iterations=2000, \n",
    "progbar=True,\n",
    "# you can parallelize but its not super efficient\n",
    "thread_pool=8,\n",
    "uniform=False,\n",
    "damping=True,\n",
    "eta=1e-2,\n",
    ")\n",
    "entropy_bp = qbp.compute_free_entropy_from_messages(tn, messages)\n",
    "\n",
    "\n",
    "# Z_bp =np.exp(entropy_bp)"
   ]
  },
  {
   "cell_type": "markdown",
   "metadata": {},
   "source": [
    "### Computing the marginals from BP and magnetization"
   ]
  },
  {
   "cell_type": "code",
   "execution_count": 1,
   "metadata": {},
   "outputs": [
    {
     "name": "stderr",
     "output_type": "stream",
     "text": [
      "/home/sijingdu/anaconda3/envs/tnmpa/lib/python3.11/site-packages/numba/np/ufunc/parallel.py:371: NumbaWarning: The TBB threading layer requires TBB version 2021 update 6 or later i.e., TBB_INTERFACE_VERSION >= 12060. Found TBB_INTERFACE_VERSION = 12050. The TBB threading layer is disabled.\n",
      "  warnings.warn(problem)\n",
      "max_dm=2.3314683517128287e-15:   3%|▎         | 15/500 [00:00<00:00, 486.14it/s]\n"
     ]
    }
   ],
   "source": [
    "import quimb as qu\n",
    "import quimb.tensor as qtn\n",
    "import numpy as np\n",
    "import tnmpa.solvers.quimb_vbp as qbp\n",
    "import sys\n",
    "\n",
    "L = 1\n",
    "N_a = 2\n",
    "N = N_a**3  # Total number of lattice\n",
    "T = 2\n",
    "beta = 1/T\n",
    "\n",
    "cutoff = 3.0  # Cutoff distance for LJ potential\n",
    "epsilon = 1.0  # Depth of the potential well/ Energy scale\n",
    "sigma = 1.0  # Length scale in LJ potential, also the distance at which the potential becomes zero\n",
    "\n",
    "def contract_HTN_partition(tn):\n",
    "    \"\"\"\n",
    "    Exactly contract the hyper tensor network to get the partition function.\n",
    "    \"\"\"\n",
    "    import quimb.tensor as qtn\n",
    "    tensor_list = []\n",
    "    for tensor in tn.tensor_map.values():\n",
    "        tensor_list.append(tensor)\n",
    "    value = qtn.tensor_contract(*tensor_list, output_inds=[])\n",
    "    return value\n",
    "\n",
    "def fix_ind(TN,ind,ind_value):\n",
    "    \"\"\"\n",
    "        Fix the value of an index in a tensor network. Return the modified tensor network with corresponding index dimension reduced to 1.\n",
    "    \"\"\"\n",
    "    tn = TN.copy()\n",
    "    tn_no_list = list(tn.ind_map[(ind)])\n",
    "    for tn_no in tn_no_list:\n",
    "        temp_ind_list = list(tn.tensors[tn_no].inds)\n",
    "        ind_pos = temp_ind_list.index(ind)\n",
    "        inds = list(tn.tensors[tn_no].inds)\n",
    "        inds.pop(ind_pos) # Remove the fixed index\n",
    "        shape = list(tn.tensors[tn_no].shape)\n",
    "        shape.pop(ind_pos) # Remove the dimension of the fixed index\n",
    "        data = tn.tensors[tn_no].data\n",
    "        # Create a list of slices\n",
    "        slices = [slice(None)] * data.ndim  # Start with all slices set to ':'\n",
    "        slices[ind_pos] = slice(ind_value, ind_value + 1)  # Fix the i-th dimension\n",
    "        new_data = data[tuple(slices)].reshape(shape) # Reduce the dimension of the tensor data\n",
    "        tn.tensors[tn_no].modify(data=new_data,inds=tuple(inds))\n",
    "    return tn\n",
    "\n",
    "def marginals_from_messages(messages):\n",
    "    marginals = []\n",
    "    # first half of messages is the factor to index messages\n",
    "    fac_ind_messages = list(messages.items())[:len(messages)//2]\n",
    "    ind_messages = dict() # dictionary of ind:list of incoming messages\n",
    "    list_cache = []\n",
    "    ind_cache = None\n",
    "    for pair_message in fac_ind_messages: # pair_message: ((factor,ind),message)\n",
    "        ind = pair_message[0][1]\n",
    "        message = pair_message[1]\n",
    "        # Initial step\n",
    "        if ind_cache is None:\n",
    "            ind_cache = ind\n",
    "            list_cache.append(message)\n",
    "        else:\n",
    "            if ind_cache==ind:\n",
    "                list_cache.append(message)\n",
    "            else:\n",
    "                ind_messages[ind_cache] = list_cache.copy()\n",
    "                # Compute the marginals for this ind_cache\n",
    "                local_Z = 0\n",
    "                message_product = np.ones((2))\n",
    "                for messagex in ind_messages[ind_cache]:\n",
    "                    message_product *= np.array(messagex)\n",
    "                local_Z = np.sum(message_product)\n",
    "                marginals.append(message_product[0]/local_Z)\n",
    "                # Reset\n",
    "                ind_cache = ind\n",
    "                list_cache = [message]\n",
    "                \n",
    "    # Last ind\n",
    "    ind_messages[ind_cache] = list_cache.copy()\n",
    "    # Compute the marginals for last ind_cache\n",
    "    local_Z = 0\n",
    "    message_product = np.ones((2))\n",
    "    for message in ind_messages[ind_cache]:\n",
    "        message_product *= np.array(message)\n",
    "    local_Z = np.sum(message_product)\n",
    "    marginals.append(message_product[0]/local_Z)\n",
    "    \n",
    "    return marginals\n",
    "\n",
    "def magnetization_LJ_BP(T, L=L, N_a=N_a, cutoff=cutoff, epsilon=epsilon, sigma=sigma):\n",
    "    \"\"\"\n",
    "        Compute the magnetization of the Lennard-Jones model using belief propagation.\n",
    "    \"\"\"\n",
    "    beta = 1/T\n",
    "    tn = qtn.tensor_builder.HTN3D_classical_LennardJones_partition_function_spinrep(\n",
    "    Lx=L,Ly=L,Lz=L,\n",
    "    beta=beta,\n",
    "    Nx=N_a,Ny=N_a,Nz=N_a,\n",
    "    cutoff=cutoff,\n",
    "    epsilon=epsilon,\n",
    "    sigma=sigma,\n",
    "    )\n",
    "\n",
    "    # BP\n",
    "    converged = False\n",
    "    tol = 3e-15\n",
    "    count = 0\n",
    "\n",
    "    while not converged:\n",
    "        if count > 0:\n",
    "            tol *= 10\n",
    "\n",
    "        messages, converged = qbp.run_belief_propagation(\n",
    "        tn, \n",
    "        tol=tol,\n",
    "        max_iterations=500, \n",
    "        progbar=False,\n",
    "        thread_pool=8,\n",
    "        uniform=False,\n",
    "        damping=False,\n",
    "        eta=1e-2,\n",
    "        )\n",
    "        count += 1\n",
    "    entropy_bp = qbp.compute_free_entropy_from_messages(tn, messages)\n",
    "\n",
    "    marginals = []\n",
    "\n",
    "    for ind in list(tn.ind_map.keys()):\n",
    "        partial_tn = fix_ind(tn,ind,0)\n",
    "\n",
    "        # BP\n",
    "        converged = False\n",
    "        tol = 3e-15\n",
    "        count = 0\n",
    "\n",
    "        while not converged:\n",
    "            if count > 0:\n",
    "                tol *= 10\n",
    "\n",
    "            messages, converged = qbp.run_belief_propagation(\n",
    "            partial_tn, \n",
    "            tol=tol,\n",
    "            max_iterations=500, \n",
    "            progbar=False,\n",
    "            thread_pool=8,\n",
    "            uniform=False,\n",
    "            damping=False,\n",
    "            eta=1e-2,\n",
    "            )\n",
    "            count += 1\n",
    "        partial_entropy_bp = qbp.compute_free_entropy_from_messages(partial_tn, messages)\n",
    "        marginals.append(np.exp(partial_entropy_bp-entropy_bp))\n",
    "\n",
    "    total_m = 0\n",
    "    for p in marginals:\n",
    "        total_m += 1-2*p\n",
    "    M = total_m/N\n",
    "\n",
    "    marginals_messages = marginals_from_messages(messages)\n",
    "\n",
    "    M_from_messages = np.sum(np.ones(len(marginals_messages))-2*np.array(marginals_messages))/N\n",
    "    return M, M_from_messages\n",
    "\n",
    "tn = qtn.tensor_builder.HTN3D_classical_LennardJones_partition_function_spinrep(\n",
    "Lx=L,Ly=L,Lz=L,\n",
    "beta=beta,\n",
    "Nx=N_a,Ny=N_a,Nz=N_a,\n",
    "cutoff=cutoff,\n",
    "epsilon=epsilon,\n",
    "sigma=sigma,\n",
    ")\n",
    "\n",
    "# BP\n",
    "converged = False\n",
    "tol = 3e-15\n",
    "count = 0\n",
    "\n",
    "while not converged:\n",
    "    if count > 0:\n",
    "        tol *= 10\n",
    "\n",
    "    messages, converged = qbp.run_belief_propagation(\n",
    "    tn, \n",
    "    tol=tol,\n",
    "    max_iterations=500, \n",
    "    progbar=True,\n",
    "    thread_pool=8,\n",
    "    uniform=False,\n",
    "    damping=False,\n",
    "    eta=1e-2,\n",
    "    )\n",
    "    count += 1\n",
    "# entropy_bp = qbp.compute_free_entropy_from_messages(tn, messages)"
   ]
  },
  {
   "cell_type": "code",
   "execution_count": 172,
   "metadata": {},
   "outputs": [],
   "source": [
    "marginals = marginals_from_messages(messages)"
   ]
  },
  {
   "cell_type": "code",
   "execution_count": 173,
   "metadata": {},
   "outputs": [
    {
     "data": {
      "text/plain": [
       "[0.7048267943968808,\n",
       " 0.7048267943968808,\n",
       " 0.7048267943968809,\n",
       " 0.7048267943968809,\n",
       " 0.7048267943968808,\n",
       " 0.7048267943968808,\n",
       " 0.7048267943968809,\n",
       " 0.7048267943968809]"
      ]
     },
     "execution_count": 173,
     "metadata": {},
     "output_type": "execute_result"
    }
   ],
   "source": [
    "marginals"
   ]
  },
  {
   "cell_type": "code",
   "execution_count": 126,
   "metadata": {},
   "outputs": [
    {
     "name": "stdout",
     "output_type": "stream",
     "text": [
      "T=5, M=-0.34084636948493713, M_from_messages=-0.33491909584016066\n",
      "T=6, M=-0.28160818754703976, M_from_messages=-0.2770768630732056\n",
      "T=7, M=-0.23917350942127993, M_from_messages=-0.2355332896130509\n",
      "T=8, M=-0.2075183175486494, M_from_messages=-0.20448692549455139\n",
      "T=9, M=-0.18309594883756067, M_from_messages=-0.1805033662358973\n",
      "T=10, M=-0.16372644698065789, M_from_messages=-0.1614636922033511\n",
      "T=11, M=-0.1480110376922703, M_from_messages=-0.14600459805824698\n",
      "T=12, M=-0.13501675741557853, M_from_messages=-0.13321492860293785\n",
      "T=13, M=-0.12409992422768255, M_from_messages=-0.12246506277762019\n",
      "T=14, M=-0.11480322890074351, M_from_messages=-0.11330712697714301\n",
      "T=15, M=-0.10679340326303997, M_from_messages=-0.10541440329665132\n",
      "T=16, M=-0.09982213307812889, M_from_messages=-0.09854325848953815\n",
      "T=17, M=-0.09370077440095276, M_from_messages=-0.09250847839166819\n",
      "T=18, M=-0.08828354000195696, M_from_messages=-0.08716684392134054\n",
      "T=19, M=-0.08345603909595066, M_from_messages=-0.08240592414249297\n",
      "T=20, M=-0.07912729169395648, M_from_messages=-0.07813625994887864\n",
      "T=21, M=-0.0752240528594428, M_from_messages=-0.07428580429826971\n",
      "T=22, M=-0.0716867061216623, M_from_messages=-0.07079589680649417\n",
      "T=23, M=-0.06846624390324989, M_from_messages=-0.06761830211599285\n",
      "T=24, M=-0.06552201446154934, M_from_messages=-0.06471299892262274\n",
      "T=25, M=-0.06282001816209705, M_from_messages=-0.06204650730768268\n",
      "T=26, M=-0.0603316033122192, M_from_messages=-0.05959060782310222\n",
      "T=27, M=-0.05803245658676356, M_from_messages=-0.05732134955643234\n",
      "T=28, M=-0.05590181338928274, M_from_messages=-0.05521827403330238\n",
      "T=29, M=-0.053921834312433914, M_from_messages=-0.05326380219043879\n",
      "T=30, M=-0.05207710838851408, M_from_messages=-0.05144274586988072\n",
      "T=31, M=-0.05035425408644762, M_from_messages=-0.049741915341335846\n",
      "T=32, M=-0.04874159636079019, M_from_messages=-0.04814980156282945\n",
      "T=33, M=-0.04722890338674314, M_from_messages=-0.046656317110381755\n",
      "T=34, M=-0.04580717051203083, M_from_messages=-0.04525258353279149\n",
      "T=35, M=-0.044468441845517, M_from_messages=-0.04393075571948431\n",
      "T=36, M=-0.04320566205738082, M_from_messages=-0.04268387598605817\n",
      "T=37, M=-0.04201255259256932, M_from_messages=-0.041505752178611875\n",
      "T=38, M=-0.040883507736179665, M_from_messages=-0.04039085531225511\n",
      "T=39, M=-0.03981350691604083, M_from_messages=-0.03933423319031295\n"
     ]
    },
    {
     "ename": "FileNotFoundError",
     "evalue": "[Errno 2] No such file or directory: './magnetization/M_L=2_N_a=3.npy'",
     "output_type": "error",
     "traceback": [
      "\u001b[0;31m---------------------------------------------------------------------------\u001b[0m",
      "\u001b[0;31mFileNotFoundError\u001b[0m                         Traceback (most recent call last)",
      "\u001b[1;32m/home/sijingdu/BP/bp_LJ.ipynb Cell 9\u001b[0m line \u001b[0;36m2\n\u001b[1;32m     <a href='vscode-notebook-cell://wsl%2Bubuntu/home/sijingdu/BP/bp_LJ.ipynb#X23sdnNjb2RlLXJlbW90ZQ%3D%3D?line=18'>19</a>\u001b[0m M_from_messages_list \u001b[39m=\u001b[39m np\u001b[39m.\u001b[39marray(M_from_messages_list)\n\u001b[1;32m     <a href='vscode-notebook-cell://wsl%2Bubuntu/home/sijingdu/BP/bp_LJ.ipynb#X23sdnNjb2RlLXJlbW90ZQ%3D%3D?line=19'>20</a>\u001b[0m T_list \u001b[39m=\u001b[39m np\u001b[39m.\u001b[39marray(T_list)\n\u001b[0;32m---> <a href='vscode-notebook-cell://wsl%2Bubuntu/home/sijingdu/BP/bp_LJ.ipynb#X23sdnNjb2RlLXJlbW90ZQ%3D%3D?line=20'>21</a>\u001b[0m np\u001b[39m.\u001b[39;49msave(\u001b[39mf\u001b[39;49m\u001b[39m'\u001b[39;49m\u001b[39m./magnetization/M_L=\u001b[39;49m\u001b[39m{\u001b[39;49;00mL\u001b[39m}\u001b[39;49;00m\u001b[39m_N_a=\u001b[39;49m\u001b[39m{\u001b[39;49;00mN_a\u001b[39m}\u001b[39;49;00m\u001b[39m.npy\u001b[39;49m\u001b[39m'\u001b[39;49m, M_list)\n\u001b[1;32m     <a href='vscode-notebook-cell://wsl%2Bubuntu/home/sijingdu/BP/bp_LJ.ipynb#X23sdnNjb2RlLXJlbW90ZQ%3D%3D?line=21'>22</a>\u001b[0m np\u001b[39m.\u001b[39msave(\u001b[39mf\u001b[39m\u001b[39m'\u001b[39m\u001b[39m./magnetization/M_from_messages_L=\u001b[39m\u001b[39m{\u001b[39;00mL\u001b[39m}\u001b[39;00m\u001b[39m_N_a=\u001b[39m\u001b[39m{\u001b[39;00mN_a\u001b[39m}\u001b[39;00m\u001b[39m.npy\u001b[39m\u001b[39m'\u001b[39m, M_from_messages_list)\n\u001b[1;32m     <a href='vscode-notebook-cell://wsl%2Bubuntu/home/sijingdu/BP/bp_LJ.ipynb#X23sdnNjb2RlLXJlbW90ZQ%3D%3D?line=22'>23</a>\u001b[0m np\u001b[39m.\u001b[39msave(\u001b[39mf\u001b[39m\u001b[39m'\u001b[39m\u001b[39m./magnetization/T_L=\u001b[39m\u001b[39m{\u001b[39;00mL\u001b[39m}\u001b[39;00m\u001b[39m_N_a=\u001b[39m\u001b[39m{\u001b[39;00mN_a\u001b[39m}\u001b[39;00m\u001b[39m.npy\u001b[39m\u001b[39m'\u001b[39m, T_list)\n",
      "File \u001b[0;32m<__array_function__ internals>:200\u001b[0m, in \u001b[0;36msave\u001b[0;34m(*args, **kwargs)\u001b[0m\n",
      "File \u001b[0;32m~/anaconda3/envs/tnmpa/lib/python3.11/site-packages/numpy/lib/npyio.py:518\u001b[0m, in \u001b[0;36msave\u001b[0;34m(file, arr, allow_pickle, fix_imports)\u001b[0m\n\u001b[1;32m    516\u001b[0m     \u001b[39mif\u001b[39;00m \u001b[39mnot\u001b[39;00m file\u001b[39m.\u001b[39mendswith(\u001b[39m'\u001b[39m\u001b[39m.npy\u001b[39m\u001b[39m'\u001b[39m):\n\u001b[1;32m    517\u001b[0m         file \u001b[39m=\u001b[39m file \u001b[39m+\u001b[39m \u001b[39m'\u001b[39m\u001b[39m.npy\u001b[39m\u001b[39m'\u001b[39m\n\u001b[0;32m--> 518\u001b[0m     file_ctx \u001b[39m=\u001b[39m \u001b[39mopen\u001b[39;49m(file, \u001b[39m\"\u001b[39;49m\u001b[39mwb\u001b[39;49m\u001b[39m\"\u001b[39;49m)\n\u001b[1;32m    520\u001b[0m \u001b[39mwith\u001b[39;00m file_ctx \u001b[39mas\u001b[39;00m fid:\n\u001b[1;32m    521\u001b[0m     arr \u001b[39m=\u001b[39m np\u001b[39m.\u001b[39masanyarray(arr)\n",
      "\u001b[0;31mFileNotFoundError\u001b[0m: [Errno 2] No such file or directory: './magnetization/M_L=2_N_a=3.npy'"
     ]
    }
   ],
   "source": [
    "L = 2\n",
    "N_a = 3\n",
    "N = N_a**3  # Total number of lattice\n",
    "cutoff = 3.0  # Cutoff distance for LJ potential\n",
    "epsilon = 1.0  # Depth of the potential well/ Energy scale\n",
    "sigma = 1.0  # Length scale in LJ potential, also the distance at which the potential becomes zero\n",
    "\n",
    "T_list = np.arange(5, 40, 1)\n",
    "M_list=[]\n",
    "M_from_messages_list=[]\n",
    "for T in T_list:\n",
    "    M, M_from_messages = magnetization_LJ_BP(T=T, L=L, N_a=N_a, cutoff=cutoff, epsilon=epsilon, sigma=sigma)\n",
    "    print(f'T={T}, M={M}, M_from_messages={M_from_messages}')\n",
    "    M_list.append(M)\n",
    "    M_from_messages_list.append(M_from_messages)"
   ]
  },
  {
   "cell_type": "code",
   "execution_count": 132,
   "metadata": {},
   "outputs": [],
   "source": [
    "#Save data\n",
    "M_list = np.array(M_list)\n",
    "M_from_messages_list = np.array(M_from_messages_list)\n",
    "T_list = np.array(T_list)\n",
    "np.save(f'./magnetization_BP/M_L={L}_N_a={N_a}.npy', M_list)\n",
    "np.save(f'./magnetization_BP/M_from_messages_L={L}_N_a={N_a}.npy', M_from_messages_list)\n",
    "np.save(f'./magnetization_BP/T_L={L}_N_a={N_a}.npy', T_list)"
   ]
  },
  {
   "cell_type": "markdown",
   "metadata": {},
   "source": [
    "### Occupation number basis BP\n",
    "\n",
    "About 1 min to construct a 15x15x15 LJ spin basis partition function TN."
   ]
  },
  {
   "cell_type": "code",
   "execution_count": 247,
   "metadata": {},
   "outputs": [
    {
     "name": "stdout",
     "output_type": "stream",
     "text": [
      "Successfully built the HTN.\n"
     ]
    },
    {
     "name": "stderr",
     "output_type": "stream",
     "text": [
      "max_dm=2.9746373420014294e-10:  10%|▉         | 96/1000 [00:09<01:29, 10.12it/s]\n"
     ]
    },
    {
     "name": "stdout",
     "output_type": "stream",
     "text": [
      "T=2, Entropy = 5642.672776694702, Converged=True, damping=0.0\n"
     ]
    }
   ],
   "source": [
    "import quimb as qu\n",
    "import quimb.tensor as qtn\n",
    "import numpy as np\n",
    "import tnmpa.solvers.quimb_vbp as qbp\n",
    "\n",
    "a = 0.75\n",
    "N_a = 15\n",
    "L = N_a*a - a\n",
    "N = N_a**3  # Total number of lattice\n",
    "T = 2\n",
    "\n",
    "cutoff = 3.0  # Cutoff distance for LJ potential\n",
    "epsilon = 1.0  # Depth of the potential well/ Energy scale\n",
    "sigma = 1.0  # Length scale in LJ potential, also the distance at which the potential becomes zero\n",
    "\n",
    "tn = qtn.tensor_builder.HTN3D_classical_LennardJones_partition_function(\n",
    "Lx=L,Ly=L,Lz=L,\n",
    "beta=beta,\n",
    "Nx=N_a,Ny=N_a,Nz=N_a,\n",
    "cutoff=cutoff,\n",
    "epsilon=epsilon,\n",
    "sigma=sigma,\n",
    ")\n",
    "\n",
    "# BP\n",
    "converged = False\n",
    "tol = 1e-9\n",
    "count = 0\n",
    "max_dm = 0\n",
    "damping_eta = 0\n",
    "max_dm_cache = 0\n",
    "messages_cache = None\n",
    "\n",
    "beta = 1/T\n",
    "\n",
    "while not converged:\n",
    "\n",
    "    tn = qtn.tensor_builder.HTN3D_classical_LennardJones_partition_function(\n",
    "    Lx=L,Ly=L,Lz=L,\n",
    "    beta=beta,\n",
    "    Nx=N_a,Ny=N_a,Nz=N_a,\n",
    "    cutoff=cutoff,\n",
    "    epsilon=epsilon,\n",
    "    sigma=sigma,\n",
    "    uv_cutoff=False,\n",
    "    )\n",
    "\n",
    "    print('Successfully built the HTN.')\n",
    "\n",
    "    messages, converged, max_dm = qbp.run_belief_propagation(\n",
    "    tn, \n",
    "    tol=tol,\n",
    "    max_iterations=1000, \n",
    "    messages=messages_cache,\n",
    "    progbar=True,\n",
    "    thread_pool=8,\n",
    "    uniform=False,\n",
    "    damping=True,\n",
    "    eta=damping_eta,\n",
    "    show_max_dm=True,\n",
    "    )\n",
    "\n",
    "    count += 1\n",
    "    if count % 5 == 0:\n",
    "        tol *= 10\n",
    "    if count > 0:\n",
    "        damping_eta += 2e-3\n",
    "\n",
    "    if count > 5 and max_dm > max_dm_cache or tol >= 1e-1:\n",
    "        print(f'T={T}, Max_dm={max_dm}, Entropy={qbp.compute_free_entropy_from_messages(tn, messages)}, Not Converged!')\n",
    "        converged = False\n",
    "        break\n",
    "\n",
    "    max_dm_cache = max_dm\n",
    "\n",
    "    messages_cache = messages\n",
    "\n",
    "entropy_bp = qbp.compute_free_entropy_from_messages(tn, messages)\n",
    "\n",
    "if converged:\n",
    "    print(f'T={T}, Entropy = {entropy_bp}, Converged={converged}, damping={damping_eta - 2e-3}')"
   ]
  },
  {
   "cell_type": "code",
   "execution_count": 212,
   "metadata": {},
   "outputs": [
    {
     "name": "stderr",
     "output_type": "stream",
     "text": [
      "max_dm=0.9999995678623068: 100%|██████████| 100/100 [00:00<00:00, 691.11it/s]\n"
     ]
    },
    {
     "name": "stdout",
     "output_type": "stream",
     "text": [
      "L=0.1, T=1, Entropy = -82.26134638288741, Converged=False\n"
     ]
    },
    {
     "name": "stderr",
     "output_type": "stream",
     "text": [
      "max_dm=0.9999995678623068: 100%|██████████| 100/100 [00:00<00:00, 746.34it/s]\n"
     ]
    },
    {
     "name": "stdout",
     "output_type": "stream",
     "text": [
      "L=0.25263157894736843, T=1, Entropy = -82.26134638288741, Converged=False\n"
     ]
    },
    {
     "name": "stderr",
     "output_type": "stream",
     "text": [
      "max_dm=0.9999995678623068: 100%|██████████| 100/100 [00:00<00:00, 746.46it/s]\n"
     ]
    },
    {
     "name": "stdout",
     "output_type": "stream",
     "text": [
      "L=0.4052631578947369, T=1, Entropy = -82.26134638288741, Converged=False\n"
     ]
    },
    {
     "name": "stderr",
     "output_type": "stream",
     "text": [
      "max_dm=0.999999538747795: 100%|██████████| 100/100 [00:00<00:00, 679.37it/s]\n"
     ]
    },
    {
     "name": "stdout",
     "output_type": "stream",
     "text": [
      "L=0.5578947368421052, T=1, Entropy = -81.84914773396261, Converged=False\n"
     ]
    },
    {
     "name": "stderr",
     "output_type": "stream",
     "text": [
      "max_dm=0.9999320310647342: 100%|██████████| 100/100 [00:00<00:00, 722.96it/s]\n"
     ]
    },
    {
     "name": "stdout",
     "output_type": "stream",
     "text": [
      "L=0.7105263157894737, T=1, Entropy = -60.27334627548185, Converged=False\n"
     ]
    },
    {
     "name": "stderr",
     "output_type": "stream",
     "text": [
      "max_dm=0.9873497380290182: 100%|██████████| 100/100 [00:00<00:00, 731.40it/s]\n"
     ]
    },
    {
     "name": "stdout",
     "output_type": "stream",
     "text": [
      "L=0.8631578947368421, T=1, Entropy = -22.23945026987352, Converged=False\n"
     ]
    },
    {
     "name": "stderr",
     "output_type": "stream",
     "text": [
      "max_dm=1.9987681316060353: 100%|██████████| 100/100 [00:00<00:00, 737.68it/s]\n"
     ]
    },
    {
     "name": "stdout",
     "output_type": "stream",
     "text": [
      "L=1.0157894736842106, T=1, Entropy = -85.13670474238415, Converged=False\n"
     ]
    },
    {
     "name": "stderr",
     "output_type": "stream",
     "text": [
      "max_dm=0.7614648034024281: 100%|██████████| 100/100 [00:00<00:00, 736.84it/s]\n"
     ]
    },
    {
     "name": "stdout",
     "output_type": "stream",
     "text": [
      "L=1.168421052631579, T=1, Entropy = 17.176384245682694, Converged=False\n"
     ]
    },
    {
     "name": "stderr",
     "output_type": "stream",
     "text": [
      "max_dm=7.688434611186068e-11:  20%|██        | 20/100 [00:00<00:00, 715.62it/s]\n"
     ]
    },
    {
     "name": "stdout",
     "output_type": "stream",
     "text": [
      "L=1.3210526315789475, T=1, Entropy = 16.823912098888016, Converged=True\n"
     ]
    },
    {
     "name": "stderr",
     "output_type": "stream",
     "text": [
      "max_dm=1.082538399199695e-11:  16%|█▌        | 16/100 [00:00<00:00, 694.97it/s]\n"
     ]
    },
    {
     "name": "stdout",
     "output_type": "stream",
     "text": [
      "L=1.473684210526316, T=1, Entropy = 31.963222585439595, Converged=True\n"
     ]
    },
    {
     "name": "stderr",
     "output_type": "stream",
     "text": [
      "max_dm=1.7745582347322708e-11:  13%|█▎        | 13/100 [00:00<00:00, 589.93it/s]\n"
     ]
    },
    {
     "name": "stdout",
     "output_type": "stream",
     "text": [
      "L=1.6263157894736844, T=1, Entropy = 39.514349406738084, Converged=True\n"
     ]
    },
    {
     "name": "stderr",
     "output_type": "stream",
     "text": [
      "max_dm=8.356368375039835e-11:  13%|█▎        | 13/100 [00:00<00:00, 470.03it/s]\n"
     ]
    },
    {
     "name": "stdout",
     "output_type": "stream",
     "text": [
      "L=1.7789473684210528, T=1, Entropy = 30.581378283749203, Converged=True\n"
     ]
    },
    {
     "name": "stderr",
     "output_type": "stream",
     "text": [
      "max_dm=7.131803481108534e-11:  33%|███▎      | 33/100 [00:00<00:00, 464.01it/s]"
     ]
    },
    {
     "name": "stdout",
     "output_type": "stream",
     "text": [
      "L=1.931578947368421, T=1, Entropy = 21.68763570982084, Converged=True\n"
     ]
    },
    {
     "name": "stderr",
     "output_type": "stream",
     "text": [
      "\n",
      "max_dm=4.4805825716309755e-12:   9%|▉         | 9/100 [00:00<00:00, 337.68it/s]\n"
     ]
    },
    {
     "name": "stdout",
     "output_type": "stream",
     "text": [
      "L=2.0842105263157893, T=1, Entropy = 70.13085297481152, Converged=True\n"
     ]
    },
    {
     "name": "stderr",
     "output_type": "stream",
     "text": [
      "max_dm=2.8001823082490773e-11:   8%|▊         | 8/100 [00:00<00:00, 345.37it/s]"
     ]
    },
    {
     "name": "stdout",
     "output_type": "stream",
     "text": [
      "L=2.236842105263158, T=1, Entropy = 76.2483022909768, Converged=True"
     ]
    },
    {
     "name": "stderr",
     "output_type": "stream",
     "text": [
      "\n"
     ]
    },
    {
     "name": "stdout",
     "output_type": "stream",
     "text": [
      "\n"
     ]
    },
    {
     "name": "stderr",
     "output_type": "stream",
     "text": [
      "max_dm=6.61282140157482e-12:  10%|█         | 10/100 [00:00<00:00, 360.38it/s]\n"
     ]
    },
    {
     "name": "stdout",
     "output_type": "stream",
     "text": [
      "L=2.3894736842105266, T=1, Entropy = 64.26290266548814, Converged=True\n"
     ]
    },
    {
     "name": "stderr",
     "output_type": "stream",
     "text": [
      "max_dm=4.804412423453641e-11:  11%|█         | 11/100 [00:00<00:00, 328.48it/s]\n"
     ]
    },
    {
     "name": "stdout",
     "output_type": "stream",
     "text": [
      "L=2.542105263157895, T=1, Entropy = 50.40671771835026, Converged=True\n"
     ]
    },
    {
     "name": "stderr",
     "output_type": "stream",
     "text": [
      "max_dm=2.42633968472461e-11:  14%|█▍        | 14/100 [00:00<00:00, 353.38it/s]\n"
     ]
    },
    {
     "name": "stdout",
     "output_type": "stream",
     "text": [
      "L=2.694736842105263, T=1, Entropy = 39.25050636699228, Converged=True\n"
     ]
    },
    {
     "name": "stderr",
     "output_type": "stream",
     "text": [
      "max_dm=9.815948054381352e-11:  15%|█▌        | 15/100 [00:00<00:00, 384.07it/s]\n"
     ]
    },
    {
     "name": "stdout",
     "output_type": "stream",
     "text": [
      "L=2.8473684210526318, T=1, Entropy = 31.912322834711986, Converged=True\n"
     ]
    },
    {
     "name": "stderr",
     "output_type": "stream",
     "text": [
      "max_dm=4.299538503005351e-11:  16%|█▌        | 16/100 [00:00<00:00, 355.57it/s]\n"
     ]
    },
    {
     "name": "stdout",
     "output_type": "stream",
     "text": [
      "L=3.0, T=1, Entropy = 27.20943424135909, Converged=True\n"
     ]
    },
    {
     "data": {
      "image/png": "[encoded data removed]",
      "text/plain": [
       "<Figure size 640x480 with 1 Axes>"
      ]
     },
     "metadata": {},
     "output_type": "display_data"
    },
    {
     "name": "stderr",
     "output_type": "stream",
     "text": [
      "max_dm=0.9999995678623068: 100%|██████████| 100/100 [00:00<00:00, 760.01it/s]\n"
     ]
    },
    {
     "name": "stdout",
     "output_type": "stream",
     "text": [
      "L=0.1, T=5, Entropy = -82.26134638288741, Converged=False\n"
     ]
    },
    {
     "name": "stderr",
     "output_type": "stream",
     "text": [
      "max_dm=0.9999995678623068: 100%|██████████| 100/100 [00:00<00:00, 757.72it/s]\n"
     ]
    },
    {
     "name": "stdout",
     "output_type": "stream",
     "text": [
      "L=0.25263157894736843, T=5, Entropy = -82.26134638288741, Converged=False\n"
     ]
    },
    {
     "name": "stderr",
     "output_type": "stream",
     "text": [
      "max_dm=0.9999995678623068: 100%|██████████| 100/100 [00:00<00:00, 743.26it/s]\n"
     ]
    },
    {
     "name": "stdout",
     "output_type": "stream",
     "text": [
      "L=0.4052631578947369, T=5, Entropy = -82.26134638288741, Converged=False\n"
     ]
    },
    {
     "name": "stderr",
     "output_type": "stream",
     "text": [
      "max_dm=0.9999994854764529: 100%|██████████| 100/100 [00:00<00:00, 701.72it/s]\n"
     ]
    },
    {
     "name": "stdout",
     "output_type": "stream",
     "text": [
      "L=0.5578947368421052, T=5, Entropy = -81.22366556752142, Converged=False\n"
     ]
    },
    {
     "name": "stderr",
     "output_type": "stream",
     "text": [
      "max_dm=0.9999808207755496: 100%|██████████| 100/100 [00:00<00:00, 720.95it/s]\n"
     ]
    },
    {
     "name": "stdout",
     "output_type": "stream",
     "text": [
      "L=0.7105263157894737, T=5, Entropy = -66.20681162277197, Converged=False\n"
     ]
    },
    {
     "name": "stderr",
     "output_type": "stream",
     "text": [
      "max_dm=0.9969551427080696: 100%|██████████| 100/100 [00:00<00:00, 728.32it/s]\n"
     ]
    },
    {
     "name": "stdout",
     "output_type": "stream",
     "text": [
      "L=0.8631578947368421, T=5, Entropy = -33.451481915418604, Converged=False\n"
     ]
    },
    {
     "name": "stderr",
     "output_type": "stream",
     "text": [
      "max_dm=0.9282407292705259: 100%|██████████| 100/100 [00:00<00:00, 721.89it/s]\n"
     ]
    },
    {
     "name": "stdout",
     "output_type": "stream",
     "text": [
      "L=1.0157894736842106, T=5, Entropy = -8.489557809150066, Converged=False\n"
     ]
    },
    {
     "name": "stderr",
     "output_type": "stream",
     "text": [
      "max_dm=0.8808037973590532: 100%|██████████| 100/100 [00:00<00:00, 728.16it/s]\n"
     ]
    },
    {
     "name": "stdout",
     "output_type": "stream",
     "text": [
      "L=1.168421052631579, T=5, Entropy = -2.4536587889840353, Converged=False\n"
     ]
    },
    {
     "name": "stderr",
     "output_type": "stream",
     "text": [
      "max_dm=0.04775426775073796: 100%|██████████| 100/100 [00:00<00:00, 708.67it/s]\n"
     ]
    },
    {
     "name": "stdout",
     "output_type": "stream",
     "text": [
      "L=1.3210526315789475, T=5, Entropy = 10.355328355507526, Converged=False\n"
     ]
    },
    {
     "name": "stderr",
     "output_type": "stream",
     "text": [
      "max_dm=8.27008461712353e-09: 100%|██████████| 100/100 [00:00<00:00, 721.63it/s] \n"
     ]
    },
    {
     "name": "stdout",
     "output_type": "stream",
     "text": [
      "L=1.473684210526316, T=5, Entropy = 12.28136418312258, Converged=False\n"
     ]
    },
    {
     "name": "stderr",
     "output_type": "stream",
     "text": [
      "max_dm=2.437423041179443e-10: 100%|██████████| 100/100 [00:00<00:00, 686.91it/s]\n"
     ]
    },
    {
     "name": "stdout",
     "output_type": "stream",
     "text": [
      "L=1.6263157894736844, T=5, Entropy = 12.293698713580216, Converged=False\n"
     ]
    },
    {
     "name": "stderr",
     "output_type": "stream",
     "text": [
      "max_dm=1.4719300125476398e-05: 100%|██████████| 100/100 [00:00<00:00, 490.08it/s]\n"
     ]
    },
    {
     "name": "stdout",
     "output_type": "stream",
     "text": [
      "L=1.7789473684210528, T=5, Entropy = 12.858755346334373, Converged=False\n"
     ]
    },
    {
     "name": "stderr",
     "output_type": "stream",
     "text": [
      "max_dm=6.776568195476784e-11:  19%|█▉        | 19/100 [00:00<00:00, 443.60it/s]\n"
     ]
    },
    {
     "name": "stdout",
     "output_type": "stream",
     "text": [
      "L=1.931578947368421, T=5, Entropy = 18.238824112618765, Converged=True\n"
     ]
    },
    {
     "name": "stderr",
     "output_type": "stream",
     "text": [
      "max_dm=4.728106794971154e-11:  15%|█▌        | 15/100 [00:00<00:00, 397.14it/s]\n"
     ]
    },
    {
     "name": "stdout",
     "output_type": "stream",
     "text": [
      "L=2.0842105263157893, T=5, Entropy = 23.53264503297239, Converged=True\n"
     ]
    },
    {
     "name": "stderr",
     "output_type": "stream",
     "text": [
      "max_dm=3.352376709564453e-11:  15%|█▌        | 15/100 [00:00<00:00, 363.02it/s]\n"
     ]
    },
    {
     "name": "stdout",
     "output_type": "stream",
     "text": [
      "L=2.236842105263158, T=5, Entropy = 24.121752415303426, Converged=True\n"
     ]
    },
    {
     "name": "stderr",
     "output_type": "stream",
     "text": [
      "max_dm=2.3973600882243318e-11:  14%|█▍        | 14/100 [00:00<00:00, 367.44it/s]\n"
     ]
    },
    {
     "name": "stdout",
     "output_type": "stream",
     "text": [
      "L=2.3894736842105266, T=5, Entropy = 22.993718086379467, Converged=True\n"
     ]
    },
    {
     "name": "stderr",
     "output_type": "stream",
     "text": [
      "max_dm=3.374650558995995e-11:  12%|█▏        | 12/100 [00:00<00:00, 362.52it/s]\n"
     ]
    },
    {
     "name": "stdout",
     "output_type": "stream",
     "text": [
      "L=2.542105263157895, T=5, Entropy = 21.804359631557286, Converged=True\n"
     ]
    },
    {
     "name": "stderr",
     "output_type": "stream",
     "text": [
      "max_dm=3.095385059381783e-11:  11%|█         | 11/100 [00:00<00:00, 353.52it/s]\n"
     ]
    },
    {
     "name": "stdout",
     "output_type": "stream",
     "text": [
      "L=2.694736842105263, T=5, Entropy = 20.899448688270063, Converged=True\n"
     ]
    },
    {
     "name": "stderr",
     "output_type": "stream",
     "text": [
      "max_dm=2.0819734825039404e-11:   9%|▉         | 9/100 [00:00<00:00, 351.84it/s]\n"
     ]
    },
    {
     "name": "stdout",
     "output_type": "stream",
     "text": [
      "L=2.8473684210526318, T=5, Entropy = 20.289762560065085, Converged=True\n"
     ]
    },
    {
     "name": "stderr",
     "output_type": "stream",
     "text": [
      "max_dm=8.745948409938364e-12:   9%|▉         | 9/100 [00:00<00:00, 308.26it/s]\n"
     ]
    },
    {
     "name": "stdout",
     "output_type": "stream",
     "text": [
      "L=3.0, T=5, Entropy = 19.85659075010038, Converged=True\n"
     ]
    },
    {
     "data": {
      "image/png": "[encoded data removed]",
      "text/plain": [
       "<Figure size 640x480 with 1 Axes>"
      ]
     },
     "metadata": {},
     "output_type": "display_data"
    },
    {
     "name": "stderr",
     "output_type": "stream",
     "text": [
      "max_dm=0.9999995678623068: 100%|██████████| 100/100 [00:00<00:00, 732.31it/s]\n"
     ]
    },
    {
     "name": "stdout",
     "output_type": "stream",
     "text": [
      "L=0.1, T=10, Entropy = -82.26134638288741, Converged=False\n"
     ]
    },
    {
     "name": "stderr",
     "output_type": "stream",
     "text": [
      "max_dm=0.9999995678623068: 100%|██████████| 100/100 [00:00<00:00, 756.15it/s]\n"
     ]
    },
    {
     "name": "stdout",
     "output_type": "stream",
     "text": [
      "L=0.25263157894736843, T=10, Entropy = -82.26134638288741, Converged=False\n"
     ]
    },
    {
     "name": "stderr",
     "output_type": "stream",
     "text": [
      "max_dm=0.9999995678623068: 100%|██████████| 100/100 [00:00<00:00, 763.48it/s]\n"
     ]
    },
    {
     "name": "stdout",
     "output_type": "stream",
     "text": [
      "L=0.4052631578947369, T=10, Entropy = -82.26134638286014, Converged=False\n"
     ]
    },
    {
     "name": "stderr",
     "output_type": "stream",
     "text": [
      "max_dm=0.9999993705877569: 100%|██████████| 100/100 [00:00<00:00, 698.34it/s]\n"
     ]
    },
    {
     "name": "stdout",
     "output_type": "stream",
     "text": [
      "L=0.5578947368421052, T=10, Entropy = -80.33746061233965, Converged=False\n"
     ]
    },
    {
     "name": "stderr",
     "output_type": "stream",
     "text": [
      "max_dm=0.999970251044408: 100%|██████████| 100/100 [00:00<00:00, 694.24it/s]\n"
     ]
    },
    {
     "name": "stdout",
     "output_type": "stream",
     "text": [
      "L=0.7105263157894737, T=10, Entropy = -63.548596799113085, Converged=False\n"
     ]
    },
    {
     "name": "stderr",
     "output_type": "stream",
     "text": [
      "max_dm=0.9957885141597793: 100%|██████████| 100/100 [00:00<00:00, 689.33it/s]\n"
     ]
    },
    {
     "name": "stdout",
     "output_type": "stream",
     "text": [
      "L=0.8631578947368421, T=10, Entropy = -31.68716083481873, Converged=False\n"
     ]
    },
    {
     "name": "stderr",
     "output_type": "stream",
     "text": [
      "max_dm=0.9581793311103814: 100%|██████████| 100/100 [00:00<00:00, 757.34it/s]\n"
     ]
    },
    {
     "name": "stdout",
     "output_type": "stream",
     "text": [
      "L=1.0157894736842106, T=10, Entropy = -14.211145798281724, Converged=False\n"
     ]
    },
    {
     "name": "stderr",
     "output_type": "stream",
     "text": [
      "max_dm=0.9267737866056301: 100%|██████████| 100/100 [00:00<00:00, 752.24it/s]\n"
     ]
    },
    {
     "name": "stdout",
     "output_type": "stream",
     "text": [
      "L=1.168421052631579, T=10, Entropy = -6.702128556739842, Converged=False\n"
     ]
    },
    {
     "name": "stderr",
     "output_type": "stream",
     "text": [
      "max_dm=0.0008439504017490329: 100%|██████████| 100/100 [00:00<00:00, 725.31it/s]\n"
     ]
    },
    {
     "name": "stdout",
     "output_type": "stream",
     "text": [
      "L=1.3210526315789475, T=10, Entropy = 10.543076892541649, Converged=False\n"
     ]
    },
    {
     "name": "stderr",
     "output_type": "stream",
     "text": [
      "max_dm=1.1213322071990106e-06: 100%|██████████| 100/100 [00:00<00:00, 661.64it/s]\n"
     ]
    },
    {
     "name": "stdout",
     "output_type": "stream",
     "text": [
      "L=1.473684210526316, T=10, Entropy = 11.469041488739888, Converged=False\n"
     ]
    },
    {
     "name": "stderr",
     "output_type": "stream",
     "text": [
      "max_dm=1.3422370978566356e-05: 100%|██████████| 100/100 [00:00<00:00, 643.39it/s]\n"
     ]
    },
    {
     "name": "stdout",
     "output_type": "stream",
     "text": [
      "L=1.6263157894736844, T=10, Entropy = 11.650187835508353, Converged=False\n"
     ]
    },
    {
     "name": "stderr",
     "output_type": "stream",
     "text": [
      "max_dm=6.681222242121976e-11:  39%|███▉      | 39/100 [00:00<00:00, 458.93it/s]\n"
     ]
    },
    {
     "name": "stdout",
     "output_type": "stream",
     "text": [
      "L=1.7789473684210528, T=10, Entropy = 14.002855492755563, Converged=True\n"
     ]
    },
    {
     "name": "stderr",
     "output_type": "stream",
     "text": [
      "max_dm=3.7034986188899666e-11:  12%|█▏        | 12/100 [00:00<00:00, 409.73it/s]\n"
     ]
    },
    {
     "name": "stdout",
     "output_type": "stream",
     "text": [
      "L=1.931578947368421, T=10, Entropy = 18.440753050739332, Converged=True\n"
     ]
    },
    {
     "name": "stderr",
     "output_type": "stream",
     "text": [
      "max_dm=1.7575163546723616e-11:  11%|█         | 11/100 [00:00<00:00, 381.79it/s]\n"
     ]
    },
    {
     "name": "stdout",
     "output_type": "stream",
     "text": [
      "L=2.0842105263157893, T=10, Entropy = 20.75110596541762, Converged=True\n"
     ]
    },
    {
     "name": "stderr",
     "output_type": "stream",
     "text": [
      "max_dm=1.9645729487649533e-11:  11%|█         | 11/100 [00:00<00:00, 304.31it/s]\n"
     ]
    },
    {
     "name": "stdout",
     "output_type": "stream",
     "text": [
      "L=2.236842105263158, T=10, Entropy = 20.965786887634177, Converged=True\n"
     ]
    },
    {
     "name": "stderr",
     "output_type": "stream",
     "text": [
      "max_dm=1.5112966433861175e-11:  10%|█         | 10/100 [00:00<00:00, 329.90it/s]\n"
     ]
    },
    {
     "name": "stdout",
     "output_type": "stream",
     "text": [
      "L=2.3894736842105266, T=10, Entropy = 20.552898064552096, Converged=True\n"
     ]
    },
    {
     "name": "stderr",
     "output_type": "stream",
     "text": [
      "max_dm=3.815359139736074e-11:   9%|▉         | 9/100 [00:00<00:00, 308.02it/s]\n"
     ]
    },
    {
     "name": "stdout",
     "output_type": "stream",
     "text": [
      "L=2.542105263157895, T=10, Entropy = 20.091481967557026, Converged=True\n"
     ]
    },
    {
     "name": "stderr",
     "output_type": "stream",
     "text": [
      "max_dm=9.517003851655659e-11:   8%|▊         | 8/100 [00:00<00:00, 351.71it/s]\n"
     ]
    },
    {
     "name": "stdout",
     "output_type": "stream",
     "text": [
      "L=2.694736842105263, T=10, Entropy = 19.718388042842065, Converged=True\n"
     ]
    },
    {
     "name": "stderr",
     "output_type": "stream",
     "text": [
      "max_dm=4.119149465964256e-11:   7%|▋         | 7/100 [00:00<00:00, 333.99it/s]\n"
     ]
    },
    {
     "name": "stdout",
     "output_type": "stream",
     "text": [
      "L=2.8473684210526318, T=10, Entropy = 19.45452377839674, Converged=True\n"
     ]
    },
    {
     "name": "stderr",
     "output_type": "stream",
     "text": [
      "max_dm=7.889722208886951e-11:   6%|▌         | 6/100 [00:00<00:00, 376.37it/s]\n"
     ]
    },
    {
     "name": "stdout",
     "output_type": "stream",
     "text": [
      "L=3.0, T=10, Entropy = 19.25991727074161, Converged=True\n"
     ]
    },
    {
     "data": {
      "image/png": "[encoded data removed]",
      "text/plain": [
       "<Figure size 640x480 with 1 Axes>"
      ]
     },
     "metadata": {},
     "output_type": "display_data"
    },
    {
     "name": "stderr",
     "output_type": "stream",
     "text": [
      "max_dm=0.9999995678623068: 100%|██████████| 100/100 [00:00<00:00, 748.15it/s]\n"
     ]
    },
    {
     "name": "stdout",
     "output_type": "stream",
     "text": [
      "L=0.1, T=20, Entropy = -82.26134638288741, Converged=False\n"
     ]
    },
    {
     "name": "stderr",
     "output_type": "stream",
     "text": [
      "max_dm=0.9999995678623068: 100%|██████████| 100/100 [00:00<00:00, 740.53it/s]\n"
     ]
    },
    {
     "name": "stdout",
     "output_type": "stream",
     "text": [
      "L=0.25263157894736843, T=20, Entropy = -82.26134638288741, Converged=False\n"
     ]
    },
    {
     "name": "stderr",
     "output_type": "stream",
     "text": [
      "max_dm=0.9999995678619025: 100%|██████████| 100/100 [00:00<00:00, 744.11it/s]\n"
     ]
    },
    {
     "name": "stdout",
     "output_type": "stream",
     "text": [
      "L=0.4052631578947369, T=20, Entropy = -82.2613403522521, Converged=False\n"
     ]
    },
    {
     "name": "stderr",
     "output_type": "stream",
     "text": [
      "max_dm=0.9999989703134725: 100%|██████████| 100/100 [00:00<00:00, 751.31it/s]\n"
     ]
    },
    {
     "name": "stdout",
     "output_type": "stream",
     "text": [
      "L=0.5578947368421052, T=20, Entropy = -78.23491197223105, Converged=False\n"
     ]
    },
    {
     "name": "stderr",
     "output_type": "stream",
     "text": [
      "max_dm=0.9999294551791377: 100%|██████████| 100/100 [00:00<00:00, 693.20it/s]\n"
     ]
    },
    {
     "name": "stdout",
     "output_type": "stream",
     "text": [
      "L=0.7105263157894737, T=20, Entropy = -58.412475443283036, Converged=False\n"
     ]
    },
    {
     "name": "stderr",
     "output_type": "stream",
     "text": [
      "max_dm=0.9933918093456182: 100%|██████████| 100/100 [00:00<00:00, 646.56it/s]\n"
     ]
    },
    {
     "name": "stdout",
     "output_type": "stream",
     "text": [
      "L=0.8631578947368421, T=20, Entropy = -29.11872505500657, Converged=False\n"
     ]
    },
    {
     "name": "stderr",
     "output_type": "stream",
     "text": [
      "max_dm=0.9604057551191842: 100%|██████████| 100/100 [00:00<00:00, 696.72it/s]\n"
     ]
    },
    {
     "name": "stdout",
     "output_type": "stream",
     "text": [
      "L=1.0157894736842106, T=20, Entropy = -14.755312799345107, Converged=False\n"
     ]
    },
    {
     "name": "stderr",
     "output_type": "stream",
     "text": [
      "max_dm=0.8940937929335142: 100%|██████████| 100/100 [00:00<00:00, 701.50it/s]\n"
     ]
    },
    {
     "name": "stdout",
     "output_type": "stream",
     "text": [
      "L=1.168421052631579, T=20, Entropy = -3.274473833331883, Converged=False\n"
     ]
    },
    {
     "name": "stderr",
     "output_type": "stream",
     "text": [
      "max_dm=1.0319185496293626e-05: 100%|██████████| 100/100 [00:00<00:00, 698.89it/s]\n"
     ]
    },
    {
     "name": "stdout",
     "output_type": "stream",
     "text": [
      "L=1.3210526315789475, T=20, Entropy = 10.709905294684653, Converged=False\n"
     ]
    },
    {
     "name": "stderr",
     "output_type": "stream",
     "text": [
      "max_dm=1.628663237607242e-08: 100%|██████████| 100/100 [00:00<00:00, 685.69it/s]\n"
     ]
    },
    {
     "name": "stdout",
     "output_type": "stream",
     "text": [
      "L=1.473684210526316, T=20, Entropy = 11.199636371401452, Converged=False\n"
     ]
    },
    {
     "name": "stderr",
     "output_type": "stream",
     "text": [
      "max_dm=9.696290992344814e-11:  75%|███████▌  | 75/100 [00:00<00:00, 706.74it/s]\n"
     ]
    },
    {
     "name": "stdout",
     "output_type": "stream",
     "text": [
      "L=1.6263157894736844, T=20, Entropy = 12.116595208415204, Converged=True\n"
     ]
    },
    {
     "name": "stderr",
     "output_type": "stream",
     "text": [
      "max_dm=6.657624451733568e-11:  18%|█▊        | 18/100 [00:00<00:00, 450.17it/s]\n"
     ]
    },
    {
     "name": "stdout",
     "output_type": "stream",
     "text": [
      "L=1.7789473684210528, T=20, Entropy = 15.526127493183857, Converged=True\n"
     ]
    },
    {
     "name": "stderr",
     "output_type": "stream",
     "text": [
      "max_dm=1.4790668689812492e-11:   8%|▊         | 8/100 [00:00<00:00, 382.98it/s]\n"
     ]
    },
    {
     "name": "stdout",
     "output_type": "stream",
     "text": [
      "L=1.931578947368421, T=20, Entropy = 18.568684196477122, Converged=True\n"
     ]
    },
    {
     "name": "stderr",
     "output_type": "stream",
     "text": [
      "max_dm=3.168176831991332e-11:   8%|▊         | 8/100 [00:00<00:00, 350.45it/s]\n"
     ]
    },
    {
     "name": "stdout",
     "output_type": "stream",
     "text": [
      "L=2.0842105263157893, T=20, Entropy = 19.65558061329336, Converged=True\n"
     ]
    },
    {
     "name": "stderr",
     "output_type": "stream",
     "text": [
      "max_dm=2.6242841233425906e-11:   8%|▊         | 8/100 [00:00<00:00, 290.20it/s]\n"
     ]
    },
    {
     "name": "stdout",
     "output_type": "stream",
     "text": [
      "L=2.236842105263158, T=20, Entropy = 19.74688469540603, Converged=True\n"
     ]
    },
    {
     "name": "stderr",
     "output_type": "stream",
     "text": [
      "max_dm=8.145351060306893e-11:   7%|▋         | 7/100 [00:00<00:00, 364.72it/s]\n"
     ]
    },
    {
     "name": "stdout",
     "output_type": "stream",
     "text": [
      "L=2.3894736842105266, T=20, Entropy = 19.57006617807466, Converged=True\n"
     ]
    },
    {
     "name": "stderr",
     "output_type": "stream",
     "text": [
      "max_dm=2.7126745294481225e-11:   7%|▋         | 7/100 [00:00<00:00, 307.93it/s]\n"
     ]
    },
    {
     "name": "stdout",
     "output_type": "stream",
     "text": [
      "L=2.542105263157895, T=20, Entropy = 19.36637753148115, Converged=True\n"
     ]
    },
    {
     "name": "stderr",
     "output_type": "stream",
     "text": [
      "max_dm=4.653943896926194e-12:   7%|▋         | 7/100 [00:00<00:00, 336.72it/s]\n"
     ]
    },
    {
     "name": "stdout",
     "output_type": "stream",
     "text": [
      "L=2.694736842105263, T=20, Entropy = 19.19659686220648, Converged=True\n"
     ]
    },
    {
     "name": "stderr",
     "output_type": "stream",
     "text": [
      "max_dm=4.4409476096518574e-11:   6%|▌         | 6/100 [00:00<00:00, 361.37it/s]\n"
     ]
    },
    {
     "name": "stdout",
     "output_type": "stream",
     "text": [
      "L=2.8473684210526318, T=20, Entropy = 19.07366377803935, Converged=True\n"
     ]
    },
    {
     "name": "stderr",
     "output_type": "stream",
     "text": [
      "max_dm=5.420369708630801e-11:   5%|▌         | 5/100 [00:00<00:00, 302.92it/s]"
     ]
    },
    {
     "name": "stdout",
     "output_type": "stream",
     "text": [
      "L=3.0, T=20, Entropy = 18.98133824608271, Converged=True\n"
     ]
    },
    {
     "name": "stderr",
     "output_type": "stream",
     "text": [
      "\n"
     ]
    },
    {
     "data": {
      "image/png": "[encoded data removed]",
      "text/plain": [
       "<Figure size 640x480 with 1 Axes>"
      ]
     },
     "metadata": {},
     "output_type": "display_data"
    }
   ],
   "source": [
    "import quimb as qu\n",
    "import quimb.tensor as qtn\n",
    "import numpy as np\n",
    "import tnmpa.solvers.quimb_vbp as qbp\n",
    "import sys\n",
    "\n",
    "L_list = np.linspace(0.1, 3, 20)\n",
    "T_list = [1, 5, 10, 20]\n",
    "\n",
    "for T in T_list:\n",
    "    max_dm_list = []\n",
    "    spaceing_list = []\n",
    "    for L in L_list:\n",
    "    # L = 1.5\n",
    "        N_a = 3\n",
    "        N = N_a**3  # Total number of lattice\n",
    "        # T = 10\n",
    "        beta = 1/T\n",
    "\n",
    "        cutoff = 3.0  # Cutoff distance for LJ potential\n",
    "        epsilon = 1.0  # Depth of the potential well/ Energy unit scale\n",
    "        sigma = 1.0  # Length scale in LJ potential, also the distance at which the potential becomes zero\n",
    "\n",
    "        def contract_HTN_partition(tn):\n",
    "            \"\"\"\n",
    "            Exactly contract the hyper tensor network to get the partition function.\n",
    "            \"\"\"\n",
    "            import quimb.tensor as qtn\n",
    "            tensor_list = []\n",
    "            for tensor in tn.tensor_map.values():\n",
    "                tensor_list.append(tensor)\n",
    "            value = qtn.tensor_contract(*tensor_list, output_inds=[])\n",
    "            return value\n",
    "\n",
    "        tn = qtn.tensor_builder.HTN3D_classical_LennardJones_partition_function(\n",
    "            Lx=L,Ly=L,Lz=L,\n",
    "            beta=beta,\n",
    "            Nx=N_a,Ny=N_a,Nz=N_a,\n",
    "            cutoff=cutoff,\n",
    "            epsilon=epsilon,\n",
    "            sigma=sigma,\n",
    "            uv_cutoff=False,\n",
    "            )\n",
    "\n",
    "        # print('Successfully built the HTN.')\n",
    "\n",
    "        # entropy_exact = np.log(contract_HTN_partition(tn))\n",
    "\n",
    "        for _ in range(1):\n",
    "            # BP\n",
    "            converged = False\n",
    "            tol = 1e-10\n",
    "            count = 0\n",
    "            max_dm = 0\n",
    "            damping_eta = 0\n",
    "            max_dm_cache = 0\n",
    "\n",
    "            messages, converged, max_dm = qbp.run_belief_propagation(\n",
    "            tn, \n",
    "            tol=tol,\n",
    "            max_iterations=100, \n",
    "            progbar=True,\n",
    "            thread_pool=8,\n",
    "            uniform=False,\n",
    "            damping=True,\n",
    "            eta=damping_eta,\n",
    "            show_max_dm=True,\n",
    "            )\n",
    "            max_dm_list.append(max_dm)\n",
    "            spaceing_list.append(L/(N_a-1))\n",
    "\n",
    "            entropy_bp = qbp.compute_free_entropy_from_messages(tn, messages)\n",
    "\n",
    "            if damping_eta > 0:\n",
    "                print(f'L={L}, T={T}, Entropy = {entropy_bp}, Converged={converged}, damping={damping_eta}')\n",
    "            else:\n",
    "                print(f'L={L}, T={T}, Entropy = {entropy_bp}, Converged={converged}')\n",
    "\n",
    "            # print('Exact Entropy:',entropy_exact)\n",
    "\n",
    "    # Plot max_dm vs L\n",
    "    import matplotlib.pyplot as plt\n",
    "    fig = plt.figure()\n",
    "    ax = fig.add_subplot(111)\n",
    "    ax.plot(spaceing_list, max_dm_list, 'o-', label=f'BP max distance T={T}')\n",
    "    ax.set_xlabel(r'lattice constant $a$')\n",
    "    ax.set_ylabel('max_dm')\n",
    "    ax.set_title(f'N_a={N_a}, T={T}, cutoff={cutoff}, epsilon={epsilon}, sigma={sigma}')\n",
    "    ax.legend()\n",
    "    plt.show()\n",
    "\n"
   ]
  },
  {
   "cell_type": "code",
   "execution_count": 1,
   "metadata": {},
   "outputs": [
    {
     "name": "stderr",
     "output_type": "stream",
     "text": [
      "/home/sijingdu/anaconda3/envs/tnmpa/lib/python3.11/site-packages/numba/np/ufunc/parallel.py:371: NumbaWarning: The TBB threading layer requires TBB version 2021 update 6 or later i.e., TBB_INTERFACE_VERSION >= 12060. Found TBB_INTERFACE_VERSION = 12050. The TBB threading layer is disabled.\n",
      "  warnings.warn(problem)\n"
     ]
    },
    {
     "name": "stdout",
     "output_type": "stream",
     "text": [
      "Successfully built the HTN.\n"
     ]
    },
    {
     "name": "stderr",
     "output_type": "stream",
     "text": [
      "max_dm=1.0577695912214085: 100%|██████████| 100/100 [00:10<00:00,  9.62it/s]\n"
     ]
    },
    {
     "name": "stdout",
     "output_type": "stream",
     "text": [
      "L=5.0, T=1, Entropy = -55679.982190093695, Converged=False\n",
      "Successfully built the HTN.\n"
     ]
    },
    {
     "name": "stderr",
     "output_type": "stream",
     "text": [
      "max_dm=1.0148258518702948: 100%|██████████| 100/100 [00:08<00:00, 11.16it/s]\n"
     ]
    },
    {
     "name": "stdout",
     "output_type": "stream",
     "text": [
      "L=5.2631578947368425, T=1, Entropy = -45364.98146960225, Converged=False\n",
      "Successfully built the HTN.\n"
     ]
    },
    {
     "name": "stderr",
     "output_type": "stream",
     "text": [
      "max_dm=1.427139422474831: 100%|██████████| 100/100 [00:07<00:00, 12.78it/s]\n"
     ]
    },
    {
     "name": "stdout",
     "output_type": "stream",
     "text": [
      "L=5.526315789473684, T=1, Entropy = -32567.916282527905, Converged=False\n",
      "Successfully built the HTN.\n"
     ]
    },
    {
     "name": "stderr",
     "output_type": "stream",
     "text": [
      "max_dm=1.2242200157017638: 100%|██████████| 100/100 [00:07<00:00, 12.63it/s]\n"
     ]
    },
    {
     "name": "stdout",
     "output_type": "stream",
     "text": [
      "L=5.7894736842105265, T=1, Entropy = -15059.239793468627, Converged=False\n",
      "Successfully built the HTN.\n"
     ]
    },
    {
     "name": "stderr",
     "output_type": "stream",
     "text": [
      "max_dm=7.949529923223508e-12:  41%|████      | 41/100 [00:03<00:04, 12.69it/s] \n"
     ]
    },
    {
     "name": "stdout",
     "output_type": "stream",
     "text": [
      "L=6.052631578947368, T=1, Entropy = 1197.3367964455724, Converged=True\n",
      "Successfully built the HTN.\n"
     ]
    },
    {
     "name": "stderr",
     "output_type": "stream",
     "text": [
      "max_dm=1.9993441567290893: 100%|██████████| 100/100 [00:07<00:00, 12.76it/s]\n"
     ]
    },
    {
     "name": "stdout",
     "output_type": "stream",
     "text": [
      "L=6.315789473684211, T=1, Entropy = 1034.2293255103007, Converged=False\n",
      "Successfully built the HTN.\n"
     ]
    },
    {
     "name": "stderr",
     "output_type": "stream",
     "text": [
      "max_dm=6.794999285464343e-11:  38%|███▊      | 38/100 [00:02<00:04, 14.59it/s] \n"
     ]
    },
    {
     "name": "stdout",
     "output_type": "stream",
     "text": [
      "L=6.578947368421053, T=1, Entropy = 2612.720857957617, Converged=True\n",
      "Successfully built the HTN.\n"
     ]
    },
    {
     "name": "stderr",
     "output_type": "stream",
     "text": [
      "max_dm=1.2435250312109458e-12:  32%|███▏      | 32/100 [00:01<00:03, 18.59it/s]\n"
     ]
    },
    {
     "name": "stdout",
     "output_type": "stream",
     "text": [
      "L=6.842105263157895, T=1, Entropy = 3152.4114458088334, Converged=True\n",
      "Successfully built the HTN.\n"
     ]
    },
    {
     "name": "stderr",
     "output_type": "stream",
     "text": [
      "max_dm=9.468592359826444e-12:  36%|███▌      | 36/100 [00:01<00:03, 20.96it/s] \n"
     ]
    },
    {
     "name": "stdout",
     "output_type": "stream",
     "text": [
      "L=7.105263157894736, T=1, Entropy = 3178.787334509454, Converged=True\n",
      "Successfully built the HTN.\n"
     ]
    },
    {
     "name": "stderr",
     "output_type": "stream",
     "text": [
      "max_dm=6.13223577819455e-12:  42%|████▏     | 42/100 [00:01<00:02, 24.20it/s] \n"
     ]
    },
    {
     "name": "stdout",
     "output_type": "stream",
     "text": [
      "L=7.368421052631579, T=1, Entropy = 2938.983916115176, Converged=True\n",
      "Successfully built the HTN.\n"
     ]
    },
    {
     "name": "stderr",
     "output_type": "stream",
     "text": [
      "max_dm=0.33148830058746814: 100%|██████████| 100/100 [00:04<00:00, 22.51it/s]\n"
     ]
    },
    {
     "name": "stdout",
     "output_type": "stream",
     "text": [
      "L=7.631578947368421, T=1, Entropy = 2218.1160142392064, Converged=False\n",
      "Successfully built the HTN.\n"
     ]
    },
    {
     "name": "stderr",
     "output_type": "stream",
     "text": [
      "max_dm=0.1468393459386627: 100%|██████████| 100/100 [00:04<00:00, 22.35it/s]\n"
     ]
    },
    {
     "name": "stdout",
     "output_type": "stream",
     "text": [
      "L=7.894736842105263, T=1, Entropy = 1908.8972223234148, Converged=False\n",
      "Successfully built the HTN.\n"
     ]
    },
    {
     "name": "stderr",
     "output_type": "stream",
     "text": [
      "max_dm=0.21815226011591637: 100%|██████████| 100/100 [00:04<00:00, 22.73it/s]\n"
     ]
    },
    {
     "name": "stdout",
     "output_type": "stream",
     "text": [
      "L=8.157894736842106, T=1, Entropy = 1689.3190414156168, Converged=False\n",
      "Successfully built the HTN.\n"
     ]
    },
    {
     "name": "stderr",
     "output_type": "stream",
     "text": [
      "max_dm=3.4986930019798024e-11:  35%|███▌      | 35/100 [00:01<00:02, 25.95it/s]\n"
     ]
    },
    {
     "name": "stdout",
     "output_type": "stream",
     "text": [
      "L=8.421052631578947, T=1, Entropy = 1736.2532325436111, Converged=True\n",
      "Successfully built the HTN.\n"
     ]
    },
    {
     "name": "stderr",
     "output_type": "stream",
     "text": [
      "max_dm=9.995868022194543e-11:  71%|███████   | 71/100 [00:02<00:01, 23.83it/s] \n"
     ]
    },
    {
     "name": "stdout",
     "output_type": "stream",
     "text": [
      "L=8.68421052631579, T=1, Entropy = 1481.4006771488089, Converged=True\n",
      "Successfully built the HTN.\n"
     ]
    },
    {
     "name": "stderr",
     "output_type": "stream",
     "text": [
      "max_dm=1.1416700917976641e-11:  10%|█         | 10/100 [00:00<00:03, 24.84it/s]\n"
     ]
    },
    {
     "name": "stdout",
     "output_type": "stream",
     "text": [
      "L=8.947368421052632, T=1, Entropy = 2900.6776868274005, Converged=True\n",
      "Successfully built the HTN.\n"
     ]
    },
    {
     "name": "stderr",
     "output_type": "stream",
     "text": [
      "max_dm=1.595090726169701e-11:   8%|▊         | 8/100 [00:00<00:01, 49.68it/s] \n"
     ]
    },
    {
     "name": "stdout",
     "output_type": "stream",
     "text": [
      "L=9.210526315789473, T=1, Entropy = 3987.357950248609, Converged=True\n",
      "Successfully built the HTN.\n"
     ]
    },
    {
     "name": "stderr",
     "output_type": "stream",
     "text": [
      "max_dm=6.554407017134167e-11:   7%|▋         | 7/100 [00:00<00:02, 41.94it/s] \n"
     ]
    },
    {
     "name": "stdout",
     "output_type": "stream",
     "text": [
      "L=9.473684210526315, T=1, Entropy = 4473.476939693929, Converged=True\n",
      "Successfully built the HTN.\n"
     ]
    },
    {
     "name": "stderr",
     "output_type": "stream",
     "text": [
      "max_dm=3.261979575341911e-11:   7%|▋         | 7/100 [00:00<00:01, 49.13it/s]\n"
     ]
    },
    {
     "name": "stdout",
     "output_type": "stream",
     "text": [
      "L=9.736842105263158, T=1, Entropy = 4549.74082771911, Converged=True\n",
      "Successfully built the HTN.\n"
     ]
    },
    {
     "name": "stderr",
     "output_type": "stream",
     "text": [
      "max_dm=4.4917458641435815e-11:   7%|▋         | 7/100 [00:00<00:01, 47.46it/s]\n"
     ]
    },
    {
     "name": "stdout",
     "output_type": "stream",
     "text": [
      "L=10.0, T=1, Entropy = 4422.340856010414, Converged=True\n",
      "Successfully built the HTN.\n"
     ]
    },
    {
     "name": "stderr",
     "output_type": "stream",
     "text": [
      "max_dm=1.0009085314573678: 100%|██████████| 100/100 [00:09<00:00, 10.78it/s]\n"
     ]
    },
    {
     "name": "stdout",
     "output_type": "stream",
     "text": [
      "L=5.0, T=10, Entropy = -1025.5104400013674, Converged=False\n",
      "Successfully built the HTN.\n"
     ]
    },
    {
     "name": "stderr",
     "output_type": "stream",
     "text": [
      "max_dm=1.0004226854117668: 100%|██████████| 100/100 [00:09<00:00, 10.29it/s]\n"
     ]
    },
    {
     "name": "stdout",
     "output_type": "stream",
     "text": [
      "L=5.2631578947368425, T=10, Entropy = -910.261108301479, Converged=False\n",
      "Successfully built the HTN.\n"
     ]
    },
    {
     "name": "stderr",
     "output_type": "stream",
     "text": [
      "max_dm=0.9962247379216562: 100%|██████████| 100/100 [00:08<00:00, 12.32it/s]\n"
     ]
    },
    {
     "name": "stdout",
     "output_type": "stream",
     "text": [
      "L=5.526315789473684, T=10, Entropy = -587.7369280106802, Converged=False\n",
      "Successfully built the HTN.\n"
     ]
    },
    {
     "name": "stderr",
     "output_type": "stream",
     "text": [
      "max_dm=0.9430716780889301: 100%|██████████| 100/100 [00:08<00:00, 11.88it/s]\n"
     ]
    },
    {
     "name": "stdout",
     "output_type": "stream",
     "text": [
      "L=5.7894736842105265, T=10, Entropy = -117.40275478561027, Converged=False\n",
      "Successfully built the HTN.\n"
     ]
    },
    {
     "name": "stderr",
     "output_type": "stream",
     "text": [
      "max_dm=0.44662897626481013: 100%|██████████| 100/100 [00:07<00:00, 12.95it/s]\n"
     ]
    },
    {
     "name": "stdout",
     "output_type": "stream",
     "text": [
      "L=6.052631578947368, T=10, Entropy = 356.6877419937307, Converged=False\n",
      "Successfully built the HTN.\n"
     ]
    },
    {
     "name": "stderr",
     "output_type": "stream",
     "text": [
      "max_dm=0.0031262744719073865: 100%|██████████| 100/100 [00:07<00:00, 12.96it/s]\n"
     ]
    },
    {
     "name": "stdout",
     "output_type": "stream",
     "text": [
      "L=6.315789473684211, T=10, Entropy = 396.67320902219734, Converged=False\n",
      "Successfully built the HTN.\n"
     ]
    },
    {
     "name": "stderr",
     "output_type": "stream",
     "text": [
      "max_dm=6.931522023023717e-11:  97%|█████████▋| 97/100 [00:06<00:00, 14.22it/s] \n"
     ]
    },
    {
     "name": "stdout",
     "output_type": "stream",
     "text": [
      "L=6.578947368421053, T=10, Entropy = 441.5713336079573, Converged=True\n",
      "Successfully built the HTN.\n"
     ]
    },
    {
     "name": "stderr",
     "output_type": "stream",
     "text": [
      "max_dm=9.433132053260351e-11:  64%|██████▍   | 64/100 [00:03<00:01, 18.80it/s] \n"
     ]
    },
    {
     "name": "stdout",
     "output_type": "stream",
     "text": [
      "L=6.842105263157895, T=10, Entropy = 466.3641913715837, Converged=True\n",
      "Successfully built the HTN.\n"
     ]
    },
    {
     "name": "stderr",
     "output_type": "stream",
     "text": [
      "max_dm=8.947964591499158e-11:  64%|██████▍   | 64/100 [00:03<00:01, 19.85it/s] \n"
     ]
    },
    {
     "name": "stdout",
     "output_type": "stream",
     "text": [
      "L=7.105263157894736, T=10, Entropy = 467.68600166694193, Converged=True\n",
      "Successfully built the HTN.\n"
     ]
    },
    {
     "name": "stderr",
     "output_type": "stream",
     "text": [
      "max_dm=0.008117705251539487: 100%|██████████| 100/100 [00:04<00:00, 22.28it/s]\n"
     ]
    },
    {
     "name": "stdout",
     "output_type": "stream",
     "text": [
      "L=7.368421052631579, T=10, Entropy = 435.16275529762254, Converged=False\n",
      "Successfully built the HTN.\n"
     ]
    },
    {
     "name": "stderr",
     "output_type": "stream",
     "text": [
      "max_dm=7.57817142371664e-11:  99%|█████████▉| 99/100 [00:04<00:00, 21.92it/s]  \n"
     ]
    },
    {
     "name": "stdout",
     "output_type": "stream",
     "text": [
      "L=7.631578947368421, T=10, Entropy = 451.1750130849601, Converged=True\n",
      "Successfully built the HTN.\n"
     ]
    },
    {
     "name": "stderr",
     "output_type": "stream",
     "text": [
      "max_dm=0.0003008069437640537: 100%|██████████| 100/100 [00:04<00:00, 22.39it/s]\n"
     ]
    },
    {
     "name": "stdout",
     "output_type": "stream",
     "text": [
      "L=7.894736842105263, T=10, Entropy = 476.27252124331847, Converged=False\n",
      "Successfully built the HTN.\n"
     ]
    },
    {
     "name": "stderr",
     "output_type": "stream",
     "text": [
      "max_dm=8.878836554870873e-11:  59%|█████▉    | 59/100 [00:02<00:01, 23.94it/s] \n"
     ]
    },
    {
     "name": "stdout",
     "output_type": "stream",
     "text": [
      "L=8.157894736842106, T=10, Entropy = 544.9826784321733, Converged=True\n",
      "Successfully built the HTN.\n"
     ]
    },
    {
     "name": "stderr",
     "output_type": "stream",
     "text": [
      "max_dm=8.886325009171969e-11:  27%|██▋       | 27/100 [00:01<00:03, 23.52it/s] \n"
     ]
    },
    {
     "name": "stdout",
     "output_type": "stream",
     "text": [
      "L=8.421052631578947, T=10, Entropy = 629.251607355651, Converged=True\n",
      "Successfully built the HTN.\n"
     ]
    },
    {
     "name": "stderr",
     "output_type": "stream",
     "text": [
      "max_dm=6.391381868198209e-11:  15%|█▌        | 15/100 [00:00<00:03, 25.17it/s] \n"
     ]
    },
    {
     "name": "stdout",
     "output_type": "stream",
     "text": [
      "L=8.68421052631579, T=10, Entropy = 712.2400123076517, Converged=True\n",
      "Successfully built the HTN.\n"
     ]
    },
    {
     "name": "stderr",
     "output_type": "stream",
     "text": [
      "max_dm=4.111566642706066e-11:  12%|█▏        | 12/100 [00:00<00:02, 32.00it/s] \n"
     ]
    },
    {
     "name": "stdout",
     "output_type": "stream",
     "text": [
      "L=8.947368421052632, T=10, Entropy = 779.0755112838119, Converged=True\n",
      "Successfully built the HTN.\n"
     ]
    },
    {
     "name": "stderr",
     "output_type": "stream",
     "text": [
      "max_dm=5.483818954488129e-11:  14%|█▍        | 14/100 [00:00<00:01, 43.37it/s] \n"
     ]
    },
    {
     "name": "stdout",
     "output_type": "stream",
     "text": [
      "L=9.210526315789473, T=10, Entropy = 819.3072438735339, Converged=True\n",
      "Successfully built the HTN.\n"
     ]
    },
    {
     "name": "stderr",
     "output_type": "stream",
     "text": [
      "max_dm=3.083794331004697e-11:  15%|█▌        | 15/100 [00:00<00:02, 41.18it/s] \n"
     ]
    },
    {
     "name": "stdout",
     "output_type": "stream",
     "text": [
      "L=9.473684210526315, T=10, Entropy = 838.9907280024587, Converged=True\n",
      "Successfully built the HTN.\n"
     ]
    },
    {
     "name": "stderr",
     "output_type": "stream",
     "text": [
      "max_dm=3.302963458295949e-11:  15%|█▌        | 15/100 [00:00<00:01, 44.88it/s] \n"
     ]
    },
    {
     "name": "stdout",
     "output_type": "stream",
     "text": [
      "L=9.736842105263158, T=10, Entropy = 842.1396155004998, Converged=True\n",
      "Successfully built the HTN.\n"
     ]
    },
    {
     "name": "stderr",
     "output_type": "stream",
     "text": [
      "max_dm=8.001205253904686e-11:  14%|█▍        | 14/100 [00:00<00:02, 42.75it/s] \n"
     ]
    },
    {
     "name": "stdout",
     "output_type": "stream",
     "text": [
      "L=10.0, T=10, Entropy = 836.7615723353091, Converged=True\n"
     ]
    }
   ],
   "source": [
    "import quimb as qu\n",
    "import quimb.tensor as qtn\n",
    "import numpy as np\n",
    "import tnmpa.solvers.quimb_vbp as qbp\n",
    "import sys\n",
    "\n",
    "L_list = np.linspace(5, 10, 20)\n",
    "T_list = [1, 10]\n",
    "data_T = []\n",
    "for T in T_list:\n",
    "    max_dm_list = []\n",
    "    spaceing_list = []\n",
    "    for L in L_list:\n",
    "    # L = 1.5\n",
    "        N_a = 10\n",
    "        N = N_a**3  # Total number of lattice\n",
    "        # T = 10\n",
    "        beta = 1/T\n",
    "\n",
    "        cutoff = 3.0  # Cutoff distance for LJ potential\n",
    "        epsilon = 1.0  # Depth of the potential well/ Energy unit scale\n",
    "        sigma = 1.0  # Length scale in LJ potential, also the distance at which the potential becomes zero\n",
    "\n",
    "        def contract_HTN_partition(tn):\n",
    "            \"\"\"\n",
    "            Exactly contract the hyper tensor network to get the partition function.\n",
    "            \"\"\"\n",
    "            import quimb.tensor as qtn\n",
    "            tensor_list = []\n",
    "            for tensor in tn.tensor_map.values():\n",
    "                tensor_list.append(tensor)\n",
    "            value = qtn.tensor_contract(*tensor_list, output_inds=[])\n",
    "            return value\n",
    "\n",
    "        tn = qtn.tensor_builder.HTN3D_classical_LennardJones_partition_function(\n",
    "            Lx=L,Ly=L,Lz=L,\n",
    "            beta=beta,\n",
    "            Nx=N_a,Ny=N_a,Nz=N_a,\n",
    "            cutoff=cutoff,\n",
    "            epsilon=epsilon,\n",
    "            sigma=sigma,\n",
    "            uv_cutoff=False,\n",
    "            )\n",
    "\n",
    "        print('Successfully built the HTN.')\n",
    "\n",
    "        # entropy_exact = np.log(contract_HTN_partition(tn))\n",
    "\n",
    "        for _ in range(1):\n",
    "            # BP\n",
    "            converged = False\n",
    "            tol = 1e-10\n",
    "            count = 0\n",
    "            max_dm = 0\n",
    "            damping_eta = 0\n",
    "            max_dm_cache = 0\n",
    "\n",
    "            messages, converged, max_dm = qbp.run_belief_propagation(\n",
    "            tn, \n",
    "            tol=tol,\n",
    "            max_iterations=100, \n",
    "            progbar=True,\n",
    "            thread_pool=8,\n",
    "            uniform=False,\n",
    "            damping=True,\n",
    "            eta=damping_eta,\n",
    "            show_max_dm=True,\n",
    "            )\n",
    "            max_dm_list.append(max_dm)\n",
    "            spaceing_list.append(L/(N_a-1))\n",
    "\n",
    "            entropy_bp = qbp.compute_free_entropy_from_messages(tn, messages)\n",
    "\n",
    "            if damping_eta > 0:\n",
    "                print(f'L={L}, T={T}, Entropy = {entropy_bp}, Converged={converged}, damping={damping_eta}')\n",
    "            else:\n",
    "                print(f'L={L}, T={T}, Entropy = {entropy_bp}, Converged={converged}')\n",
    "\n",
    "            # print('Exact Entropy:',entropy_exact)\n",
    "    data_T.append([spaceing_list, max_dm_list])\n",
    "    # # Plot max_dm vs L\n",
    "    # import matplotlib.pyplot as plt\n",
    "    # fig = plt.figure()\n",
    "    # ax = fig.add_subplot(111)\n",
    "    # ax.plot(spaceing_list, max_dm_list, 'o-', label=f'BP max distance')\n",
    "    # ax.set_xlabel(r'lattice constant $a$')\n",
    "    # ax.set_ylabel(f'BP max message distance')\n",
    "    # ax.set_title(f'N_a={N_a}, T={T}, cutoff $\\Lambda$={cutoff}')\n",
    "    # ax.legend()\n",
    "    # plt.show()\n",
    "\n"
   ]
  },
  {
   "cell_type": "code",
   "execution_count": 3,
   "metadata": {},
   "outputs": [
    {
     "data": {
      "image/png": "[encoded data removed]",
      "text/plain": [
       "<Figure size 1000x400 with 2 Axes>"
      ]
     },
     "metadata": {},
     "output_type": "display_data"
    }
   ],
   "source": [
    "# Plot max_dm vs L\n",
    "import matplotlib.pyplot as plt\n",
    "fig, ax = plt.subplots(1, 2, figsize=(10, 4))\n",
    "for i in range(2):\n",
    "    ax[i].plot(data_T[i][0], data_T[i][1], 'o-', label=f'BP max distance')\n",
    "    ax[i].set_xlabel(r'lattice spacing $a$')\n",
    "    ax[i].set_ylabel(f'BP max message distance')\n",
    "    ax[i].set_title(f'$N_a={N_a}$, $T={T_list[i]}$, cutoff $\\Lambda$={cutoff}')\n",
    "    ax[i].legend()\n",
    "plt.show()"
   ]
  },
  {
   "cell_type": "code",
   "execution_count": 224,
   "metadata": {},
   "outputs": [
    {
     "name": "stdout",
     "output_type": "stream",
     "text": [
      "Successfully built the HTN.\n"
     ]
    },
    {
     "name": "stderr",
     "output_type": "stream",
     "text": [
      "max_dm=nan: 100%|██████████| 300/300 [00:00<00:00, 553.39it/s]\n"
     ]
    },
    {
     "name": "stdout",
     "output_type": "stream",
     "text": [
      "L=0.1, T=0.1, Entropy = nan, Converged=False\n",
      "Successfully built the HTN.\n"
     ]
    },
    {
     "name": "stderr",
     "output_type": "stream",
     "text": [
      "max_dm=nan: 100%|██████████| 300/300 [00:00<00:00, 540.30it/s]\n"
     ]
    },
    {
     "name": "stdout",
     "output_type": "stream",
     "text": [
      "L=0.25263157894736843, T=0.1, Entropy = nan, Converged=False\n",
      "Successfully built the HTN.\n"
     ]
    },
    {
     "name": "stderr",
     "output_type": "stream",
     "text": [
      "max_dm=nan: 100%|██████████| 300/300 [00:00<00:00, 491.06it/s]\n"
     ]
    },
    {
     "name": "stdout",
     "output_type": "stream",
     "text": [
      "L=0.4052631578947369, T=0.1, Entropy = nan, Converged=False\n",
      "Successfully built the HTN.\n"
     ]
    },
    {
     "name": "stderr",
     "output_type": "stream",
     "text": [
      "max_dm=nan: 100%|██████████| 300/300 [00:00<00:00, 546.69it/s]\n"
     ]
    },
    {
     "name": "stdout",
     "output_type": "stream",
     "text": [
      "L=0.5578947368421052, T=0.1, Entropy = nan, Converged=False\n",
      "Successfully built the HTN.\n"
     ]
    },
    {
     "name": "stderr",
     "output_type": "stream",
     "text": [
      "max_dm=nan: 100%|██████████| 300/300 [00:00<00:00, 538.82it/s]\n"
     ]
    },
    {
     "name": "stdout",
     "output_type": "stream",
     "text": [
      "L=0.7105263157894737, T=0.1, Entropy = nan, Converged=False\n",
      "Successfully built the HTN.\n"
     ]
    },
    {
     "name": "stderr",
     "output_type": "stream",
     "text": [
      "max_dm=nan: 100%|██████████| 300/300 [00:00<00:00, 547.37it/s]\n"
     ]
    },
    {
     "name": "stdout",
     "output_type": "stream",
     "text": [
      "L=0.8631578947368421, T=0.1, Entropy = nan, Converged=False\n",
      "Successfully built the HTN.\n"
     ]
    },
    {
     "name": "stderr",
     "output_type": "stream",
     "text": [
      "max_dm=nan: 100%|██████████| 300/300 [00:00<00:00, 498.29it/s]\n"
     ]
    },
    {
     "name": "stdout",
     "output_type": "stream",
     "text": [
      "L=1.0157894736842106, T=0.1, Entropy = nan, Converged=False\n",
      "Successfully built the HTN.\n"
     ]
    },
    {
     "name": "stderr",
     "output_type": "stream",
     "text": [
      "max_dm=0.0:   4%|▎         | 11/300 [00:00<00:00, 416.57it/s]\n"
     ]
    },
    {
     "name": "stdout",
     "output_type": "stream",
     "text": [
      "L=1.168421052631579, T=0.1, Entropy = 1983.101333895072, Converged=True\n",
      "Successfully built the HTN.\n"
     ]
    },
    {
     "name": "stderr",
     "output_type": "stream",
     "text": [
      "max_dm=1.9999994431073649: 100%|██████████| 300/300 [00:00<00:00, 531.49it/s]\n"
     ]
    },
    {
     "name": "stdout",
     "output_type": "stream",
     "text": [
      "L=1.3210526315789475, T=0.1, Entropy = -1662.349097560803, Converged=False\n",
      "Successfully built the HTN.\n"
     ]
    },
    {
     "name": "stderr",
     "output_type": "stream",
     "text": [
      "max_dm=1.9999999999979923: 100%|██████████| 300/300 [00:00<00:00, 527.57it/s]\n"
     ]
    },
    {
     "name": "stdout",
     "output_type": "stream",
     "text": [
      "L=1.473684210526316, T=0.1, Entropy = -631.6806786688062, Converged=False\n",
      "Successfully built the HTN.\n"
     ]
    },
    {
     "name": "stderr",
     "output_type": "stream",
     "text": [
      "max_dm=1.9999999999979923: 100%|██████████| 300/300 [00:00<00:00, 549.49it/s]\n"
     ]
    },
    {
     "name": "stdout",
     "output_type": "stream",
     "text": [
      "L=1.6263157894736844, T=0.1, Entropy = -585.4370650888295, Converged=False\n",
      "Successfully built the HTN.\n"
     ]
    },
    {
     "name": "stderr",
     "output_type": "stream",
     "text": [
      "max_dm=1.9999999999979923: 100%|██████████| 300/300 [00:00<00:00, 371.48it/s]\n"
     ]
    },
    {
     "name": "stdout",
     "output_type": "stream",
     "text": [
      "L=1.7789473684210528, T=0.1, Entropy = 91.78108212150718, Converged=False\n",
      "Successfully built the HTN.\n"
     ]
    },
    {
     "name": "stderr",
     "output_type": "stream",
     "text": [
      "max_dm=3.236809908643834e-11:   2%|▏         | 6/300 [00:00<00:00, 346.40it/s]\n"
     ]
    },
    {
     "name": "stdout",
     "output_type": "stream",
     "text": [
      "L=1.931578947368421, T=0.1, Entropy = 236.68168497220805, Converged=True\n",
      "Successfully built the HTN.\n"
     ]
    },
    {
     "name": "stderr",
     "output_type": "stream",
     "text": [
      "max_dm=0.0:   1%|          | 3/300 [00:00<00:01, 277.73it/s]\n"
     ]
    },
    {
     "name": "stdout",
     "output_type": "stream",
     "text": [
      "L=2.0842105263157893, T=0.1, Entropy = 523.6531000398015, Converged=True\n",
      "Successfully built the HTN.\n"
     ]
    },
    {
     "name": "stderr",
     "output_type": "stream",
     "text": [
      "max_dm=0.0:   1%|          | 3/300 [00:00<00:01, 228.82it/s]\n"
     ]
    },
    {
     "name": "stdout",
     "output_type": "stream",
     "text": [
      "L=2.236842105263158, T=0.1, Entropy = 570.3776378605263, Converged=True\n",
      "Successfully built the HTN.\n"
     ]
    },
    {
     "name": "stderr",
     "output_type": "stream",
     "text": [
      "max_dm=0.0:   1%|          | 3/300 [00:00<00:02, 129.60it/s]\n"
     ]
    },
    {
     "name": "stdout",
     "output_type": "stream",
     "text": [
      "L=2.3894736842105266, T=0.1, Entropy = 478.959914697357, Converged=True\n",
      "Successfully built the HTN.\n"
     ]
    },
    {
     "name": "stderr",
     "output_type": "stream",
     "text": [
      "max_dm=1.1751016826266891e-14:   1%|          | 3/300 [00:00<00:01, 279.30it/s]"
     ]
    },
    {
     "name": "stdout",
     "output_type": "stream",
     "text": [
      "L=2.542105263157895, T=0.1, Entropy = 370.64205210263464, Converged=True"
     ]
    },
    {
     "name": "stderr",
     "output_type": "stream",
     "text": [
      "\n"
     ]
    },
    {
     "name": "stdout",
     "output_type": "stream",
     "text": [
      "\n",
      "Successfully built the HTN.\n"
     ]
    },
    {
     "name": "stderr",
     "output_type": "stream",
     "text": [
      "max_dm=1.8013479596845627e-11:   1%|          | 3/300 [00:00<00:01, 213.53it/s]\n"
     ]
    },
    {
     "name": "stdout",
     "output_type": "stream",
     "text": [
      "L=2.694736842105263, T=0.1, Entropy = 277.7123681312514, Converged=True\n",
      "Successfully built the HTN.\n"
     ]
    },
    {
     "name": "stderr",
     "output_type": "stream",
     "text": [
      "max_dm=4.5255466041282943e-14:   1%|▏         | 4/300 [00:00<00:01, 222.29it/s]\n"
     ]
    },
    {
     "name": "stdout",
     "output_type": "stream",
     "text": [
      "L=2.8473684210526318, T=0.1, Entropy = 208.89302850436795, Converged=True\n",
      "Successfully built the HTN.\n"
     ]
    },
    {
     "name": "stderr",
     "output_type": "stream",
     "text": [
      "max_dm=8.106218474246418e-11:   1%|▏         | 4/300 [00:00<00:01, 236.85it/s]\n"
     ]
    },
    {
     "name": "stdout",
     "output_type": "stream",
     "text": [
      "L=3.0, T=0.1, Entropy = 156.29135821972395, Converged=True\n"
     ]
    },
    {
     "data": {
      "image/png": "[encoded data removed]",
      "text/plain": [
       "<Figure size 640x480 with 1 Axes>"
      ]
     },
     "metadata": {},
     "output_type": "display_data"
    },
    {
     "name": "stdout",
     "output_type": "stream",
     "text": [
      "Successfully built the HTN.\n"
     ]
    },
    {
     "name": "stderr",
     "output_type": "stream",
     "text": [
      "max_dm=0.06991357131624065: 100%|██████████| 300/300 [00:00<00:00, 526.49it/s]\n"
     ]
    },
    {
     "name": "stdout",
     "output_type": "stream",
     "text": [
      "L=0.1, T=1, Entropy = 500.21157770847856, Converged=False\n",
      "Successfully built the HTN.\n"
     ]
    },
    {
     "name": "stderr",
     "output_type": "stream",
     "text": [
      "max_dm=0.06991357131624065: 100%|██████████| 300/300 [00:00<00:00, 542.32it/s]\n"
     ]
    },
    {
     "name": "stdout",
     "output_type": "stream",
     "text": [
      "L=0.25263157894736843, T=1, Entropy = 500.21157770847856, Converged=False\n",
      "Successfully built the HTN.\n"
     ]
    },
    {
     "name": "stderr",
     "output_type": "stream",
     "text": [
      "max_dm=0.06991357131624065: 100%|██████████| 300/300 [00:00<00:00, 547.29it/s]\n"
     ]
    },
    {
     "name": "stdout",
     "output_type": "stream",
     "text": [
      "L=0.4052631578947369, T=1, Entropy = 500.21157770847856, Converged=False\n",
      "Successfully built the HTN.\n"
     ]
    },
    {
     "name": "stderr",
     "output_type": "stream",
     "text": [
      "max_dm=0.7266356293357727: 100%|██████████| 300/300 [00:00<00:00, 550.27it/s]\n"
     ]
    },
    {
     "name": "stdout",
     "output_type": "stream",
     "text": [
      "L=0.5578947368421052, T=1, Entropy = 495.1078919406244, Converged=False\n",
      "Successfully built the HTN.\n"
     ]
    },
    {
     "name": "stderr",
     "output_type": "stream",
     "text": [
      "max_dm=1.2133572016478849: 100%|██████████| 300/300 [00:00<00:00, 536.68it/s]\n"
     ]
    },
    {
     "name": "stdout",
     "output_type": "stream",
     "text": [
      "L=0.7105263157894737, T=1, Entropy = 439.3430524314288, Converged=False\n",
      "Successfully built the HTN.\n"
     ]
    },
    {
     "name": "stderr",
     "output_type": "stream",
     "text": [
      "max_dm=1.1836903539368713: 100%|██████████| 300/300 [00:00<00:00, 526.81it/s]\n"
     ]
    },
    {
     "name": "stdout",
     "output_type": "stream",
     "text": [
      "L=0.8631578947368421, T=1, Entropy = 288.1132981181058, Converged=False\n",
      "Successfully built the HTN.\n"
     ]
    },
    {
     "name": "stderr",
     "output_type": "stream",
     "text": [
      "max_dm=1.9999897477138575: 100%|██████████| 300/300 [00:00<00:00, 540.95it/s]\n"
     ]
    },
    {
     "name": "stdout",
     "output_type": "stream",
     "text": [
      "L=1.0157894736842106, T=1, Entropy = 147.0025976349706, Converged=False\n",
      "Successfully built the HTN.\n"
     ]
    },
    {
     "name": "stderr",
     "output_type": "stream",
     "text": [
      "max_dm=9.847656023964646e-11:  20%|█▉        | 59/300 [00:00<00:00, 523.85it/s] \n"
     ]
    },
    {
     "name": "stdout",
     "output_type": "stream",
     "text": [
      "L=1.168421052631579, T=1, Entropy = 198.6671064408082, Converged=True\n",
      "Successfully built the HTN.\n"
     ]
    },
    {
     "name": "stderr",
     "output_type": "stream",
     "text": [
      "max_dm=3.355260513870917e-11:   8%|▊         | 23/300 [00:00<00:00, 454.47it/s]\n"
     ]
    },
    {
     "name": "stdout",
     "output_type": "stream",
     "text": [
      "L=1.3210526315789475, T=1, Entropy = 139.4944817670219, Converged=True\n",
      "Successfully built the HTN.\n"
     ]
    },
    {
     "name": "stderr",
     "output_type": "stream",
     "text": [
      "max_dm=1.6465107055552153e-11:   6%|▌         | 18/300 [00:00<00:00, 444.23it/s]\n"
     ]
    },
    {
     "name": "stdout",
     "output_type": "stream",
     "text": [
      "L=1.473684210526316, T=1, Entropy = 97.47869047957799, Converged=True\n",
      "Successfully built the HTN.\n"
     ]
    },
    {
     "name": "stderr",
     "output_type": "stream",
     "text": [
      "max_dm=7.244538302586534e-12:   5%|▌         | 16/300 [00:00<00:00, 422.96it/s]\n"
     ]
    },
    {
     "name": "stdout",
     "output_type": "stream",
     "text": [
      "L=1.6263157894736844, T=1, Entropy = 104.47604734735862, Converged=True\n",
      "Successfully built the HTN.\n"
     ]
    },
    {
     "name": "stderr",
     "output_type": "stream",
     "text": [
      "max_dm=1.0175554843172563e-11:   6%|▌         | 18/300 [00:00<00:00, 348.77it/s]\n"
     ]
    },
    {
     "name": "stdout",
     "output_type": "stream",
     "text": [
      "L=1.7789473684210528, T=1, Entropy = 101.81739583301284, Converged=True\n",
      "Successfully built the HTN.\n"
     ]
    },
    {
     "name": "stderr",
     "output_type": "stream",
     "text": [
      "max_dm=6.052713885651428e-11:  10%|▉         | 29/300 [00:00<00:00, 321.69it/s]\n"
     ]
    },
    {
     "name": "stdout",
     "output_type": "stream",
     "text": [
      "L=1.931578947368421, T=1, Entropy = 25.364489595994485, Converged=True\n",
      "Successfully built the HTN.\n"
     ]
    },
    {
     "name": "stderr",
     "output_type": "stream",
     "text": [
      "max_dm=7.601475005003522e-12:   3%|▎         | 9/300 [00:00<00:00, 300.82it/s]\n"
     ]
    },
    {
     "name": "stdout",
     "output_type": "stream",
     "text": [
      "L=2.0842105263157893, T=1, Entropy = 52.67574964033502, Converged=True\n",
      "Successfully built the HTN.\n"
     ]
    },
    {
     "name": "stderr",
     "output_type": "stream",
     "text": [
      "max_dm=4.3319070552882977e-11:   3%|▎         | 8/300 [00:00<00:01, 234.01it/s]\n"
     ]
    },
    {
     "name": "stdout",
     "output_type": "stream",
     "text": [
      "L=2.236842105263158, T=1, Entropy = 57.23571436249319, Converged=True\n",
      "Successfully built the HTN.\n"
     ]
    },
    {
     "name": "stderr",
     "output_type": "stream",
     "text": [
      "max_dm=6.409747732583071e-12:   3%|▎         | 10/300 [00:00<00:01, 267.44it/s]\n"
     ]
    },
    {
     "name": "stdout",
     "output_type": "stream",
     "text": [
      "L=2.3894736842105266, T=1, Entropy = 48.29757217574362, Converged=True\n",
      "Successfully built the HTN.\n"
     ]
    },
    {
     "name": "stderr",
     "output_type": "stream",
     "text": [
      "max_dm=1.3149148436752967e-11:   4%|▍         | 12/300 [00:00<00:01, 264.18it/s]\n"
     ]
    },
    {
     "name": "stdout",
     "output_type": "stream",
     "text": [
      "L=2.542105263157895, T=1, Entropy = 38.05198264838857, Converged=True\n",
      "Successfully built the HTN.\n"
     ]
    },
    {
     "name": "stderr",
     "output_type": "stream",
     "text": [
      "max_dm=5.1297688319351664e-11:   5%|▍         | 14/300 [00:00<00:01, 237.10it/s]\n"
     ]
    },
    {
     "name": "stdout",
     "output_type": "stream",
     "text": [
      "L=2.694736842105263, T=1, Entropy = 29.99342743010058, Converged=True\n",
      "Successfully built the HTN.\n"
     ]
    },
    {
     "name": "stderr",
     "output_type": "stream",
     "text": [
      "max_dm=9.224018771014642e-11:   5%|▌         | 16/300 [00:00<00:01, 259.01it/s]\n"
     ]
    },
    {
     "name": "stdout",
     "output_type": "stream",
     "text": [
      "L=2.8473684210526318, T=1, Entropy = 24.94922197933598, Converged=True\n",
      "Successfully built the HTN.\n"
     ]
    },
    {
     "name": "stderr",
     "output_type": "stream",
     "text": [
      "max_dm=2.745714766660967e-11:   6%|▌         | 17/300 [00:00<00:01, 261.86it/s]\n"
     ]
    },
    {
     "name": "stdout",
     "output_type": "stream",
     "text": [
      "L=3.0, T=1, Entropy = 21.999726667036096, Converged=True\n"
     ]
    },
    {
     "data": {
      "image/png": "[encoded data removed]",
      "text/plain": [
       "<Figure size 640x480 with 1 Axes>"
      ]
     },
     "metadata": {},
     "output_type": "display_data"
    },
    {
     "name": "stdout",
     "output_type": "stream",
     "text": [
      "Successfully built the HTN.\n"
     ]
    },
    {
     "name": "stderr",
     "output_type": "stream",
     "text": [
      "max_dm=0.8281816667967775: 100%|██████████| 300/300 [00:00<00:00, 508.11it/s]\n"
     ]
    },
    {
     "name": "stdout",
     "output_type": "stream",
     "text": [
      "L=0.1, T=10, Entropy = 32.16909207927151, Converged=False\n",
      "Successfully built the HTN.\n"
     ]
    },
    {
     "name": "stderr",
     "output_type": "stream",
     "text": [
      "max_dm=0.8281816667967775: 100%|██████████| 300/300 [00:00<00:00, 552.43it/s]\n"
     ]
    },
    {
     "name": "stdout",
     "output_type": "stream",
     "text": [
      "L=0.25263157894736843, T=10, Entropy = 32.16909207927151, Converged=False\n",
      "Successfully built the HTN.\n"
     ]
    },
    {
     "name": "stderr",
     "output_type": "stream",
     "text": [
      "max_dm=0.8281816667967775: 100%|██████████| 300/300 [00:00<00:00, 550.69it/s]\n"
     ]
    },
    {
     "name": "stdout",
     "output_type": "stream",
     "text": [
      "L=0.4052631578947369, T=10, Entropy = 32.16909207927151, Converged=False\n",
      "Successfully built the HTN.\n"
     ]
    },
    {
     "name": "stderr",
     "output_type": "stream",
     "text": [
      "max_dm=0.9635183864370307: 100%|██████████| 300/300 [00:00<00:00, 534.60it/s]\n"
     ]
    },
    {
     "name": "stdout",
     "output_type": "stream",
     "text": [
      "L=0.5578947368421052, T=10, Entropy = 32.05968482517728, Converged=False\n",
      "Successfully built the HTN.\n"
     ]
    },
    {
     "name": "stderr",
     "output_type": "stream",
     "text": [
      "max_dm=0.9957697390844698: 100%|██████████| 300/300 [00:00<00:00, 518.95it/s]\n"
     ]
    },
    {
     "name": "stdout",
     "output_type": "stream",
     "text": [
      "L=0.7105263157894737, T=10, Entropy = 31.574789096305004, Converged=False\n",
      "Successfully built the HTN.\n"
     ]
    },
    {
     "name": "stderr",
     "output_type": "stream",
     "text": [
      "max_dm=0.6725184820210717: 100%|██████████| 300/300 [00:00<00:00, 536.15it/s]\n"
     ]
    },
    {
     "name": "stdout",
     "output_type": "stream",
     "text": [
      "L=0.8631578947368421, T=10, Entropy = 35.292959594929044, Converged=False\n",
      "Successfully built the HTN.\n"
     ]
    },
    {
     "name": "stderr",
     "output_type": "stream",
     "text": [
      "max_dm=8.081479929700208e-11:  29%|██▉       | 87/300 [00:00<00:00, 532.28it/s]\n"
     ]
    },
    {
     "name": "stdout",
     "output_type": "stream",
     "text": [
      "L=1.0157894736842106, T=10, Entropy = 34.61351864717483, Converged=True\n",
      "Successfully built the HTN.\n"
     ]
    },
    {
     "name": "stderr",
     "output_type": "stream",
     "text": [
      "max_dm=9.078456042477256e-11:  24%|██▍       | 73/300 [00:00<00:00, 500.17it/s] \n"
     ]
    },
    {
     "name": "stdout",
     "output_type": "stream",
     "text": [
      "L=1.168421052631579, T=10, Entropy = 30.299728660306048, Converged=True\n",
      "Successfully built the HTN.\n"
     ]
    },
    {
     "name": "stderr",
     "output_type": "stream",
     "text": [
      "max_dm=9.346595719605943e-11:  14%|█▍        | 43/300 [00:00<00:00, 501.85it/s]\n"
     ]
    },
    {
     "name": "stdout",
     "output_type": "stream",
     "text": [
      "L=1.3210526315789475, T=10, Entropy = 25.254675897722695, Converged=True\n",
      "Successfully built the HTN.\n"
     ]
    },
    {
     "name": "stderr",
     "output_type": "stream",
     "text": [
      "max_dm=9.960171576395283e-11:  10%|█         | 31/300 [00:00<00:00, 440.39it/s]"
     ]
    },
    {
     "name": "stdout",
     "output_type": "stream",
     "text": [
      "L=1.473684210526316, T=10, Entropy = 21.391365878458977, Converged=True\n"
     ]
    },
    {
     "name": "stderr",
     "output_type": "stream",
     "text": [
      "\n"
     ]
    },
    {
     "name": "stdout",
     "output_type": "stream",
     "text": [
      "Successfully built the HTN.\n"
     ]
    },
    {
     "name": "stderr",
     "output_type": "stream",
     "text": [
      "max_dm=6.464434543218545e-11:  12%|█▏        | 36/300 [00:00<00:00, 470.07it/s]\n"
     ]
    },
    {
     "name": "stdout",
     "output_type": "stream",
     "text": [
      "L=1.6263157894736844, T=10, Entropy = 21.38940436383823, Converged=True\n",
      "Successfully built the HTN.\n"
     ]
    },
    {
     "name": "stderr",
     "output_type": "stream",
     "text": [
      "max_dm=7.921197031635074e-11:  12%|█▏        | 35/300 [00:00<00:00, 313.85it/s]\n"
     ]
    },
    {
     "name": "stdout",
     "output_type": "stream",
     "text": [
      "L=1.7789473684210528, T=10, Entropy = 21.760197335577125, Converged=True\n",
      "Successfully built the HTN.\n"
     ]
    },
    {
     "name": "stderr",
     "output_type": "stream",
     "text": [
      "max_dm=5.31233945721965e-11:   4%|▍         | 12/300 [00:00<00:00, 290.78it/s]\n"
     ]
    },
    {
     "name": "stdout",
     "output_type": "stream",
     "text": [
      "L=1.931578947368421, T=10, Entropy = 18.751865890653182, Converged=True\n",
      "Successfully built the HTN.\n"
     ]
    },
    {
     "name": "stderr",
     "output_type": "stream",
     "text": [
      "max_dm=1.5944967568515267e-11:   4%|▎         | 11/300 [00:00<00:01, 251.74it/s]\n"
     ]
    },
    {
     "name": "stdout",
     "output_type": "stream",
     "text": [
      "L=2.0842105263157893, T=10, Entropy = 19.005595631958485, Converged=True\n",
      "Successfully built the HTN.\n"
     ]
    },
    {
     "name": "stderr",
     "output_type": "stream",
     "text": [
      "max_dm=2.7160829141337217e-11:   4%|▎         | 11/300 [00:00<00:01, 239.49it/s]\n"
     ]
    },
    {
     "name": "stdout",
     "output_type": "stream",
     "text": [
      "L=2.236842105263158, T=10, Entropy = 19.06452809477336, Converged=True\n",
      "Successfully built the HTN.\n"
     ]
    },
    {
     "name": "stderr",
     "output_type": "stream",
     "text": [
      "max_dm=3.712841145642187e-11:   3%|▎         | 10/300 [00:00<00:01, 231.45it/s]\n"
     ]
    },
    {
     "name": "stdout",
     "output_type": "stream",
     "text": [
      "L=2.3894736842105266, T=10, Entropy = 18.956365015567, Converged=True\n",
      "Successfully built the HTN.\n"
     ]
    },
    {
     "name": "stderr",
     "output_type": "stream",
     "text": [
      "max_dm=5.699757332777722e-11:   3%|▎         | 9/300 [00:00<00:01, 264.47it/s]\n"
     ]
    },
    {
     "name": "stdout",
     "output_type": "stream",
     "text": [
      "L=2.542105263157895, T=10, Entropy = 18.856008460552676, Converged=True\n",
      "Successfully built the HTN.\n"
     ]
    },
    {
     "name": "stderr",
     "output_type": "stream",
     "text": [
      "max_dm=3.4013181160474915e-11:   3%|▎         | 8/300 [00:00<00:01, 234.72it/s]"
     ]
    },
    {
     "name": "stdout",
     "output_type": "stream",
     "text": [
      "L=2.694736842105263, T=10, Entropy = 18.792680149147177, Converged=True"
     ]
    },
    {
     "name": "stderr",
     "output_type": "stream",
     "text": [
      "\n"
     ]
    },
    {
     "name": "stdout",
     "output_type": "stream",
     "text": [
      "\n",
      "Successfully built the HTN.\n"
     ]
    },
    {
     "name": "stderr",
     "output_type": "stream",
     "text": [
      "max_dm=5.134337399681499e-12:   3%|▎         | 8/300 [00:00<00:01, 222.90it/s]\n"
     ]
    },
    {
     "name": "stdout",
     "output_type": "stream",
     "text": [
      "L=2.8473684210526318, T=10, Entropy = 18.758213692855485, Converged=True\n",
      "Successfully built the HTN.\n"
     ]
    },
    {
     "name": "stderr",
     "output_type": "stream",
     "text": [
      "max_dm=1.3912981877695074e-11:   2%|▏         | 7/300 [00:00<00:00, 322.51it/s]\n"
     ]
    },
    {
     "name": "stdout",
     "output_type": "stream",
     "text": [
      "L=3.0, T=10, Entropy = 18.73894651330719, Converged=True\n"
     ]
    },
    {
     "data": {
      "image/png": "[encoded data removed]",
      "text/plain": [
       "<Figure size 640x480 with 1 Axes>"
      ]
     },
     "metadata": {},
     "output_type": "display_data"
    },
    {
     "name": "stdout",
     "output_type": "stream",
     "text": [
      "Successfully built the HTN.\n"
     ]
    },
    {
     "name": "stderr",
     "output_type": "stream",
     "text": [
      "max_dm=0.7313471788011388: 100%|██████████| 300/300 [00:00<00:00, 539.19it/s]\n"
     ]
    },
    {
     "name": "stdout",
     "output_type": "stream",
     "text": [
      "L=0.1, T=20, Entropy = 28.18569212152506, Converged=False\n",
      "Successfully built the HTN.\n"
     ]
    },
    {
     "name": "stderr",
     "output_type": "stream",
     "text": [
      "max_dm=0.7313471788011388: 100%|██████████| 300/300 [00:00<00:00, 478.63it/s]\n"
     ]
    },
    {
     "name": "stdout",
     "output_type": "stream",
     "text": [
      "L=0.25263157894736843, T=20, Entropy = 28.18569212152506, Converged=False\n",
      "Successfully built the HTN.\n"
     ]
    },
    {
     "name": "stderr",
     "output_type": "stream",
     "text": [
      "max_dm=0.731347178801141: 100%|██████████| 300/300 [00:00<00:00, 532.46it/s] \n"
     ]
    },
    {
     "name": "stdout",
     "output_type": "stream",
     "text": [
      "L=0.4052631578947369, T=20, Entropy = 28.185692121524877, Converged=False\n",
      "Successfully built the HTN.\n"
     ]
    },
    {
     "name": "stderr",
     "output_type": "stream",
     "text": [
      "max_dm=0.781848457668257: 100%|██████████| 300/300 [00:00<00:00, 544.44it/s] \n"
     ]
    },
    {
     "name": "stdout",
     "output_type": "stream",
     "text": [
      "L=0.5578947368421052, T=20, Entropy = 28.317311698922133, Converged=False\n",
      "Successfully built the HTN.\n"
     ]
    },
    {
     "name": "stderr",
     "output_type": "stream",
     "text": [
      "max_dm=0.5491697653575015: 100%|██████████| 300/300 [00:00<00:00, 560.67it/s]\n"
     ]
    },
    {
     "name": "stdout",
     "output_type": "stream",
     "text": [
      "L=0.7105263157894737, T=20, Entropy = 31.43177645818964, Converged=False\n",
      "Successfully built the HTN.\n"
     ]
    },
    {
     "name": "stderr",
     "output_type": "stream",
     "text": [
      "max_dm=9.023418123810245e-11:  28%|██▊       | 84/300 [00:00<00:00, 531.22it/s]\n"
     ]
    },
    {
     "name": "stdout",
     "output_type": "stream",
     "text": [
      "L=0.8631578947368421, T=20, Entropy = 27.385421665366867, Converged=True\n",
      "Successfully built the HTN.\n"
     ]
    },
    {
     "name": "stderr",
     "output_type": "stream",
     "text": [
      "max_dm=5.993155971495412e-11:  14%|█▍        | 42/300 [00:00<00:00, 500.23it/s]\n"
     ]
    },
    {
     "name": "stdout",
     "output_type": "stream",
     "text": [
      "L=1.0157894736842106, T=20, Entropy = 24.787074570490095, Converged=True\n",
      "Successfully built the HTN.\n"
     ]
    },
    {
     "name": "stderr",
     "output_type": "stream",
     "text": [
      "max_dm=8.21666623629369e-11:  11%|█         | 33/300 [00:00<00:00, 414.53it/s]\n"
     ]
    },
    {
     "name": "stdout",
     "output_type": "stream",
     "text": [
      "L=1.168421052631579, T=20, Entropy = 22.930103894032204, Converged=True\n",
      "Successfully built the HTN.\n"
     ]
    },
    {
     "name": "stderr",
     "output_type": "stream",
     "text": [
      "max_dm=4.0242087440134355e-11:   8%|▊         | 23/300 [00:00<00:00, 512.07it/s]"
     ]
    },
    {
     "name": "stdout",
     "output_type": "stream",
     "text": [
      "L=1.3210526315789475, T=20, Entropy = 20.919685812128076, Converged=True\n"
     ]
    },
    {
     "name": "stderr",
     "output_type": "stream",
     "text": [
      "\n"
     ]
    },
    {
     "name": "stdout",
     "output_type": "stream",
     "text": [
      "Successfully built the HTN.\n"
     ]
    },
    {
     "name": "stderr",
     "output_type": "stream",
     "text": [
      "max_dm=4.584571611232491e-11:   6%|▌         | 17/300 [00:00<00:00, 433.50it/s]\n"
     ]
    },
    {
     "name": "stdout",
     "output_type": "stream",
     "text": [
      "L=1.473684210526316, T=20, Entropy = 19.51536421161003, Converged=True\n",
      "Successfully built the HTN.\n"
     ]
    },
    {
     "name": "stderr",
     "output_type": "stream",
     "text": [
      "max_dm=7.912737132187431e-11:   6%|▌         | 18/300 [00:00<00:00, 412.12it/s]\n"
     ]
    },
    {
     "name": "stdout",
     "output_type": "stream",
     "text": [
      "L=1.6263157894736844, T=20, Entropy = 19.51358305399548, Converged=True\n",
      "Successfully built the HTN.\n"
     ]
    },
    {
     "name": "stderr",
     "output_type": "stream",
     "text": [
      "max_dm=4.169425915634406e-11:   6%|▌         | 18/300 [00:00<00:00, 328.90it/s]\n"
     ]
    },
    {
     "name": "stdout",
     "output_type": "stream",
     "text": [
      "L=1.7789473684210528, T=20, Entropy = 19.640987278312753, Converged=True\n",
      "Successfully built the HTN.\n"
     ]
    },
    {
     "name": "stderr",
     "output_type": "stream",
     "text": [
      "max_dm=3.441158469286165e-11:   3%|▎         | 9/300 [00:00<00:00, 302.83it/s]\n"
     ]
    },
    {
     "name": "stdout",
     "output_type": "stream",
     "text": [
      "L=1.931578947368421, T=20, Entropy = 18.724240616434045, Converged=True\n",
      "Successfully built the HTN.\n"
     ]
    },
    {
     "name": "stderr",
     "output_type": "stream",
     "text": [
      "max_dm=7.634748389051538e-11:   3%|▎         | 8/300 [00:00<00:01, 244.73it/s]\n"
     ]
    },
    {
     "name": "stdout",
     "output_type": "stream",
     "text": [
      "L=2.0842105263157893, T=20, Entropy = 18.782825446563223, Converged=True\n",
      "Successfully built the HTN.\n"
     ]
    },
    {
     "name": "stderr",
     "output_type": "stream",
     "text": [
      "max_dm=2.6693758314877414e-11:   3%|▎         | 8/300 [00:00<00:01, 285.61it/s]\n"
     ]
    },
    {
     "name": "stdout",
     "output_type": "stream",
     "text": [
      "L=2.236842105263158, T=20, Entropy = 18.79625529897502, Converged=True\n",
      "Successfully built the HTN.\n"
     ]
    },
    {
     "name": "stderr",
     "output_type": "stream",
     "text": [
      "max_dm=3.3981872871180485e-11:   2%|▏         | 7/300 [00:00<00:01, 248.02it/s]\n"
     ]
    },
    {
     "name": "stdout",
     "output_type": "stream",
     "text": [
      "L=2.3894736842105266, T=20, Entropy = 18.771799653581606, Converged=True\n",
      "Successfully built the HTN.\n"
     ]
    },
    {
     "name": "stderr",
     "output_type": "stream",
     "text": [
      "max_dm=9.153344748824566e-12:   2%|▏         | 7/300 [00:00<00:01, 266.52it/s]\n"
     ]
    },
    {
     "name": "stdout",
     "output_type": "stream",
     "text": [
      "L=2.542105263157895, T=20, Entropy = 18.7486407779787, Converged=True\n",
      "Successfully built the HTN.\n"
     ]
    },
    {
     "name": "stderr",
     "output_type": "stream",
     "text": [
      "max_dm=7.062000983992789e-11:   2%|▏         | 6/300 [00:00<00:01, 268.91it/s]\n"
     ]
    },
    {
     "name": "stdout",
     "output_type": "stream",
     "text": [
      "L=2.694736842105263, T=20, Entropy = 18.73374291535892, Converged=True\n",
      "Successfully built the HTN.\n"
     ]
    },
    {
     "name": "stderr",
     "output_type": "stream",
     "text": [
      "max_dm=2.1797674776280473e-11:   2%|▏         | 6/300 [00:00<00:01, 169.33it/s]\n"
     ]
    },
    {
     "name": "stdout",
     "output_type": "stream",
     "text": [
      "L=2.8473684210526318, T=20, Entropy = 18.725508735268633, Converged=True\n",
      "Successfully built the HTN.\n"
     ]
    },
    {
     "name": "stderr",
     "output_type": "stream",
     "text": [
      "max_dm=6.130762564282577e-12:   2%|▏         | 6/300 [00:00<00:01, 216.32it/s]\n"
     ]
    },
    {
     "name": "stdout",
     "output_type": "stream",
     "text": [
      "L=3.0, T=20, Entropy = 18.720852867365465, Converged=True\n"
     ]
    },
    {
     "data": {
      "image/png": "[encoded data removed]",
      "text/plain": [
       "<Figure size 640x480 with 1 Axes>"
      ]
     },
     "metadata": {},
     "output_type": "display_data"
    }
   ],
   "source": [
    "import quimb as qu\n",
    "import quimb.tensor as qtn\n",
    "import numpy as np\n",
    "import tnmpa.solvers.quimb_vbp as qbp\n",
    "import sys\n",
    "\n",
    "L_list = np.linspace(0.1, 3, 20)\n",
    "T_list = [0.1, 1, 10, 20]\n",
    "\n",
    "for T in T_list:\n",
    "    max_dm_list = []\n",
    "    spaceing_list = []\n",
    "    max_dm_unconverged_list = []\n",
    "    spacing_unconverged_list = []\n",
    "    for L in L_list:\n",
    "    # L = 1.5\n",
    "        N_a = 3\n",
    "        N = N_a**3  # Total number of lattice\n",
    "        # T = 10\n",
    "        beta = 1/T\n",
    "\n",
    "        cutoff = 3.0  # Cutoff distance for LJ potential\n",
    "        epsilon = 1.0  # Depth of the potential well/ Energy unit scale\n",
    "        sigma = 1.0  # Length scale in LJ potential, also the distance at which the potential becomes zero\n",
    "\n",
    "        def contract_HTN_partition(tn):\n",
    "            \"\"\"\n",
    "            Exactly contract the hyper tensor network to get the partition function.\n",
    "            \"\"\"\n",
    "            import quimb.tensor as qtn\n",
    "            tensor_list = []\n",
    "            for tensor in tn.tensor_map.values():\n",
    "                tensor_list.append(tensor)\n",
    "            value = qtn.tensor_contract(*tensor_list, output_inds=[])\n",
    "            return value\n",
    "\n",
    "        tn = qtn.tensor_builder.HTN3D_classical_LennardJones_partition_function_spinrep(\n",
    "            Lx=L,Ly=L,Lz=L,\n",
    "            beta=beta,\n",
    "            Nx=N_a,Ny=N_a,Nz=N_a,\n",
    "            cutoff=cutoff,\n",
    "            epsilon=epsilon,\n",
    "            sigma=sigma,\n",
    "            # uv_cutoff=False,\n",
    "            )\n",
    "\n",
    "        print('Successfully built the HTN.')\n",
    "\n",
    "        # entropy_exact = np.log(contract_HTN_partition(tn))\n",
    "\n",
    "        for _ in range(1):\n",
    "            # BP\n",
    "            converged = False\n",
    "            tol = 1e-10\n",
    "            count = 0\n",
    "            max_dm = 0\n",
    "            damping_eta = 0\n",
    "            max_dm_cache = 0\n",
    "\n",
    "            messages, converged, max_dm = qbp.run_belief_propagation(\n",
    "            tn, \n",
    "            tol=tol,\n",
    "            max_iterations=300, \n",
    "            progbar=True,\n",
    "            thread_pool=8,\n",
    "            uniform=False,\n",
    "            damping=True,\n",
    "            eta=damping_eta,\n",
    "            show_max_dm=True,\n",
    "            )\n",
    "            import math\n",
    "            if math.isnan(max_dm):\n",
    "                max_dm = 1.0\n",
    "                max_dm_unconverged_list.append(max_dm)\n",
    "                spacing_unconverged_list.append(L/(N_a-1))\n",
    "            else:\n",
    "                max_dm_list.append(max_dm)\n",
    "                spaceing_list.append(L/(N_a-1))\n",
    "\n",
    "            entropy_bp = qbp.compute_free_entropy_from_messages(tn, messages)\n",
    "\n",
    "            if damping_eta > 0:\n",
    "                print(f'L={L}, T={T}, Entropy = {entropy_bp}, Converged={converged}, damping={damping_eta}')\n",
    "            else:\n",
    "                print(f'L={L}, T={T}, Entropy = {entropy_bp}, Converged={converged}')\n",
    "\n",
    "            # print('Exact Entropy:',entropy_exact)\n",
    "\n",
    "    # Plot max_dm vs L\n",
    "    import matplotlib.pyplot as plt\n",
    "    fig = plt.figure()\n",
    "    ax = fig.add_subplot(111)\n",
    "    ax.plot(spaceing_list, max_dm_list, 'o-', label=f'BP max distance T={T}', color='b')\n",
    "    ax.plot(spacing_unconverged_list, max_dm_unconverged_list, 'o-', label=f'BP max distance NaN', color='r')\n",
    "    ax.set_xlabel(r'lattice constant $a$')\n",
    "    ax.set_ylabel('max_dm')\n",
    "    ax.set_title(f'N_a={N_a}, T={T}, cutoff={cutoff}, epsilon={epsilon}, sigma={sigma}')\n",
    "    ax.legend()\n",
    "    plt.show()\n",
    "\n"
   ]
  },
  {
   "cell_type": "markdown",
   "metadata": {},
   "source": [
    "### Time cost of constructing the 3D partition function TN\n",
    "\n",
    "By simple approximation, we compute the number of edges in the TN:\n",
    "\\begin{equation}\n",
    "N_e \\approx \\frac{{N_a}^3}{a^3}\\cdot V\n",
    "\\end{equation}\n",
    "where $a=L/N_a$ is the lattice spacing, and $V=\\frac{2}{3}\\pi \\Lambda^3$ is the volume of the interaction block ($\\Lambda$ is the cutoff radius).\n",
    "\n",
    "We approximate the time cost to be proportional to the number of edges in the TN, and the proportionality constant is determined by the time cost of constructing a single edge.\n",
    "\\begin{equation}\n",
    "C_{TN} = C_{edge} \\cdot N_e\n",
    "\\end{equation}\n",
    "The time cost has expression:\n",
    "\\begin{equation}\n",
    "C_{TN} \\approx C_{edge} \\cdot \\frac{L^3}{a^6}\\cdot V = C_{edge} \\cdot \\frac{{N_a}^6}{L^3} \\cdot V = C_{edge} \\cdot \\frac{{N_a}^3}{a^3} \\cdot V\n",
    "\\end{equation}\n",
    "When we fix the system size $L$, the time cost is proportional to $N_a^6$ (or $a^{-6}$). When fixing the lattice spacing $a$, the time cost is proportional to $L^3$.\n",
    "\n"
   ]
  },
  {
   "cell_type": "code",
   "execution_count": 228,
   "metadata": {},
   "outputs": [
    {
     "name": "stdout",
     "output_type": "stream",
     "text": [
      "Successfully built the HTN.\n",
      "Successfully built the HTN.\n",
      "Successfully built the HTN.\n",
      "Successfully built the HTN.\n",
      "Successfully built the HTN.\n",
      "Successfully built the HTN.\n"
     ]
    }
   ],
   "source": [
    "import quimb as qu\n",
    "import quimb.tensor as qtn\n",
    "import numpy as np\n",
    "import tnmpa.solvers.quimb_vbp as qbp\n",
    "import sys\n",
    "import time\n",
    "\n",
    "a = 0.75\n",
    "N_a_list = np.array([5, 10, 15, 20, 25, 30], dtype=int)\n",
    "time_cost = []\n",
    "for N_a in N_a_list:\n",
    "    L = int((N_a-1)*a)\n",
    "    N = N_a**3  # Total number of lattice\n",
    "    T = 10\n",
    "    beta = 1/T\n",
    "\n",
    "    cutoff = 3.0  # Cutoff distance for LJ potential\n",
    "    epsilon = 1.0  # Depth of the potential well/ Energy unit scale\n",
    "    sigma = 1.0  # Length scale in LJ potential, also the distance at which the potential becomes zero\n",
    "    t0 = time.time()\n",
    "    tn = qtn.tensor_builder.HTN3D_classical_LennardJones_partition_function(\n",
    "        Lx=L,Ly=L,Lz=L,\n",
    "        beta=beta,\n",
    "        Nx=N_a,Ny=N_a,Nz=N_a,\n",
    "        cutoff=cutoff,\n",
    "        epsilon=epsilon,\n",
    "        sigma=sigma,\n",
    "        uv_cutoff=False,\n",
    "        )\n",
    "    t1 = time.time()\n",
    "    time_cost.append(t1-t0)\n",
    "\n",
    "    print('Successfully built the HTN.')\n",
    "\n"
   ]
  },
  {
   "cell_type": "code",
   "execution_count": 246,
   "metadata": {},
   "outputs": [
    {
     "data": {
      "image/png": "[encoded data removed]",
      "text/plain": [
       "<Figure size 640x480 with 1 Axes>"
      ]
     },
     "metadata": {},
     "output_type": "display_data"
    }
   ],
   "source": [
    "import matplotlib.pyplot as plt\n",
    "\n",
    "L_list = []\n",
    "for N_a in N_a_list:\n",
    "    L_list.append((N_a-1)*a)\n",
    "prefactor = 120.903/21.75**3\n",
    "L_cubic = prefactor*np.array(L_list)**3\n",
    "\n",
    "fig = plt.figure()\n",
    "ax = fig.add_subplot(111)\n",
    "ax.plot(L_list, time_cost, 'o-', label=r'TN construction time cost $C\\propto L^3$')\n",
    "ax.plot(L_list, L_cubic, 'o-', label=r'C = $C_0 L^3$, $C_0\\approx 0.0117$')\n",
    "# At each point, plot the number of N_a\n",
    "for i, txt in enumerate(N_a_list):\n",
    "    ax.annotate(rf'$N_a$={txt}', (L_list[i], time_cost[i]))\n",
    "ax.set_xlabel(r'L')\n",
    "ax.set_ylabel(r'time cost $C$ ($s$)')\n",
    "ax.set_title(f'Fixed lattice spacing a={a}, T={T}, cutoff $\\Lambda$={cutoff}')\n",
    "ax.legend()\n",
    "plt.show()\n"
   ]
  },
  {
   "cell_type": "code",
   "execution_count": 12,
   "metadata": {},
   "outputs": [],
   "source": [
    "import quimb as qu\n",
    "import quimb.tensor as qtn\n",
    "import numpy as np\n",
    "import tnmpa.solvers.quimb_vbp as qbp\n",
    "import sys\n",
    "import time\n",
    "\n",
    "N_a = 3\n",
    "a = 0.75\n",
    "L = (N_a-1)*a\n",
    "N = N_a**3  # Total number of lattice\n",
    "T = 10\n",
    "beta = 1/T\n",
    "\n",
    "cutoff = 3.0  # Cutoff distance for LJ potential\n",
    "epsilon = 1.0  # Depth of the potential well/ Energy unit scale\n",
    "sigma = 1.0  # Length scale in LJ potential, also the distance at which the potential becomes zero\n",
    "t0 = time.time()\n",
    "tn = qtn.tensor_builder.HTN2D_classical_LennardJones_partition_function(\n",
    "    Lx=L,Ly=L,\n",
    "    beta=beta,\n",
    "    Nx=N_a,Ny=N_a,\n",
    "    cutoff=cutoff,\n",
    "    epsilon=epsilon,\n",
    "    sigma=sigma,\n",
    "    uv_cutoff=False,\n",
    "    )"
   ]
  },
  {
   "cell_type": "code",
   "execution_count": 13,
   "metadata": {},
   "outputs": [
    {
     "data": {
      "image/png": "[encoded data removed]",
      "text/plain": [
       "<Figure size 600x600 with 1 Axes>"
      ]
     },
     "metadata": {},
     "output_type": "display_data"
    }
   ],
   "source": [
    "tn.draw()"
   ]
  }
 ],
 "metadata": {
  "kernelspec": {
   "display_name": "tnmpa",
   "language": "python",
   "name": "python3"
  },
  "language_info": {
   "codemirror_mode": {
    "name": "ipython",
    "version": 3
   },
   "file_extension": ".py",
   "mimetype": "text/x-python",
   "name": "python",
   "nbconvert_exporter": "python",
   "pygments_lexer": "ipython3",
   "version": "3.11.5"
  },
  "orig_nbformat": 4
 },
 "nbformat": 4,
 "nbformat_minor": 2
}
