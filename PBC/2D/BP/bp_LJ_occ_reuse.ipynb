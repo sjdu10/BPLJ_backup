{
 "cells": [
  {
   "cell_type": "code",
   "execution_count": 11,
   "metadata": {},
   "outputs": [
    {
     "name": "stdout",
     "output_type": "stream",
     "text": [
      "Successfully built the HTN.\n"
     ]
    },
    {
     "name": "stderr",
     "output_type": "stream",
     "text": [
      "max_dm=7.897899001463315e-11:  12%|█▏        | 60/500 [00:00<00:02, 174.39it/s]\n"
     ]
    },
    {
     "name": "stdout",
     "output_type": "stream",
     "text": [
      "Successfully built the HTN.\n"
     ]
    },
    {
     "name": "stderr",
     "output_type": "stream",
     "text": [
      "max_dm=8.811884555370852e-11:  10%|▉         | 49/500 [00:00<00:02, 152.92it/s] \n"
     ]
    },
    {
     "name": "stdout",
     "output_type": "stream",
     "text": [
      "Successfully built the HTN.\n"
     ]
    },
    {
     "name": "stderr",
     "output_type": "stream",
     "text": [
      "max_dm=3.1824154422821493e-11:  10%|█         | 51/500 [00:00<00:02, 202.33it/s]\n"
     ]
    },
    {
     "name": "stdout",
     "output_type": "stream",
     "text": [
      "Successfully built the HTN.\n"
     ]
    },
    {
     "name": "stderr",
     "output_type": "stream",
     "text": [
      "max_dm=4.704581169079347e-11:   7%|▋         | 34/500 [00:00<00:02, 189.63it/s]\n"
     ]
    },
    {
     "name": "stdout",
     "output_type": "stream",
     "text": [
      "Successfully built the HTN.\n"
     ]
    },
    {
     "name": "stderr",
     "output_type": "stream",
     "text": [
      "max_dm=3.267436321507944e-11:   6%|▌         | 30/500 [00:00<00:02, 168.83it/s]\n"
     ]
    },
    {
     "name": "stdout",
     "output_type": "stream",
     "text": [
      "Successfully built the HTN.\n"
     ]
    },
    {
     "name": "stderr",
     "output_type": "stream",
     "text": [
      "max_dm=9.313120717321932e-11:   8%|▊         | 38/500 [00:00<00:02, 177.12it/s]\n"
     ]
    },
    {
     "name": "stdout",
     "output_type": "stream",
     "text": [
      "Successfully built the HTN.\n"
     ]
    },
    {
     "name": "stderr",
     "output_type": "stream",
     "text": [
      "max_dm=6.399571454360209e-11:   7%|▋         | 35/500 [00:00<00:02, 203.27it/s]\n"
     ]
    },
    {
     "name": "stdout",
     "output_type": "stream",
     "text": [
      "Successfully built the HTN.\n"
     ]
    },
    {
     "name": "stderr",
     "output_type": "stream",
     "text": [
      "max_dm=8.246797689182017e-11:   7%|▋         | 36/500 [00:00<00:02, 210.71it/s]\n"
     ]
    },
    {
     "name": "stdout",
     "output_type": "stream",
     "text": [
      "Successfully built the HTN.\n"
     ]
    },
    {
     "name": "stderr",
     "output_type": "stream",
     "text": [
      "max_dm=3.900928885469668e-11:   6%|▌         | 31/500 [00:00<00:02, 207.90it/s]\n"
     ]
    },
    {
     "name": "stdout",
     "output_type": "stream",
     "text": [
      "Successfully built the HTN.\n"
     ]
    },
    {
     "name": "stderr",
     "output_type": "stream",
     "text": [
      "max_dm=8.084728025936627e-11:   7%|▋         | 37/500 [00:00<00:02, 202.71it/s]\n"
     ]
    },
    {
     "name": "stdout",
     "output_type": "stream",
     "text": [
      "Successfully built the HTN.\n"
     ]
    },
    {
     "name": "stderr",
     "output_type": "stream",
     "text": [
      "max_dm=7.260729170677216e-11:   6%|▌         | 31/500 [00:00<00:02, 214.12it/s]\n"
     ]
    },
    {
     "name": "stdout",
     "output_type": "stream",
     "text": [
      "Successfully built the HTN.\n"
     ]
    },
    {
     "name": "stderr",
     "output_type": "stream",
     "text": [
      "max_dm=8.013201560630456e-11:   8%|▊         | 40/500 [00:00<00:02, 210.62it/s]\n"
     ]
    },
    {
     "name": "stdout",
     "output_type": "stream",
     "text": [
      "Successfully built the HTN.\n"
     ]
    },
    {
     "name": "stderr",
     "output_type": "stream",
     "text": [
      "max_dm=9.015588969818467e-11:   7%|▋         | 35/500 [00:00<00:02, 205.56it/s] \n"
     ]
    },
    {
     "name": "stdout",
     "output_type": "stream",
     "text": [
      "Successfully built the HTN.\n"
     ]
    },
    {
     "name": "stderr",
     "output_type": "stream",
     "text": [
      "max_dm=9.954891598551452e-11:   8%|▊         | 39/500 [00:00<00:01, 231.93it/s] \n"
     ]
    },
    {
     "name": "stdout",
     "output_type": "stream",
     "text": [
      "Successfully built the HTN.\n"
     ]
    },
    {
     "name": "stderr",
     "output_type": "stream",
     "text": [
      "max_dm=7.743331323362135e-11:   7%|▋         | 36/500 [00:00<00:02, 177.31it/s]\n"
     ]
    },
    {
     "name": "stdout",
     "output_type": "stream",
     "text": [
      "Successfully built the HTN.\n"
     ]
    },
    {
     "name": "stderr",
     "output_type": "stream",
     "text": [
      "max_dm=5.830144353402567e-11:   9%|▉         | 45/500 [00:00<00:02, 209.06it/s]\n"
     ]
    },
    {
     "name": "stdout",
     "output_type": "stream",
     "text": [
      "Successfully built the HTN.\n"
     ]
    },
    {
     "name": "stderr",
     "output_type": "stream",
     "text": [
      "max_dm=5.226601443308887e-11:  13%|█▎        | 65/500 [00:00<00:01, 221.24it/s]\n"
     ]
    },
    {
     "name": "stdout",
     "output_type": "stream",
     "text": [
      "Successfully built the HTN.\n"
     ]
    },
    {
     "name": "stderr",
     "output_type": "stream",
     "text": [
      "max_dm=6.297385529707711e-11:   7%|▋         | 37/500 [00:00<00:02, 212.98it/s] \n"
     ]
    },
    {
     "name": "stdout",
     "output_type": "stream",
     "text": [
      "Successfully built the HTN.\n"
     ]
    },
    {
     "name": "stderr",
     "output_type": "stream",
     "text": [
      "max_dm=6.098320459724249e-11:   8%|▊         | 41/500 [00:00<00:02, 195.38it/s] \n"
     ]
    },
    {
     "name": "stdout",
     "output_type": "stream",
     "text": [
      "Successfully built the HTN.\n"
     ]
    },
    {
     "name": "stderr",
     "output_type": "stream",
     "text": [
      "max_dm=9.910199050278123e-11:   9%|▉         | 46/500 [00:00<00:02, 159.02it/s]\n"
     ]
    },
    {
     "name": "stdout",
     "output_type": "stream",
     "text": [
      "Successfully built the HTN.\n"
     ]
    },
    {
     "name": "stderr",
     "output_type": "stream",
     "text": [
      "max_dm=5.994889307192608e-11:  10%|█         | 52/500 [00:00<00:02, 179.13it/s] \n"
     ]
    },
    {
     "name": "stdout",
     "output_type": "stream",
     "text": [
      "Successfully built the HTN.\n"
     ]
    },
    {
     "name": "stderr",
     "output_type": "stream",
     "text": [
      "max_dm=8.796656458809338e-11:   9%|▉         | 44/500 [00:00<00:02, 209.94it/s]\n"
     ]
    },
    {
     "name": "stdout",
     "output_type": "stream",
     "text": [
      "Successfully built the HTN.\n"
     ]
    },
    {
     "name": "stderr",
     "output_type": "stream",
     "text": [
      "max_dm=7.42776951057067e-11:  10%|█         | 50/500 [00:00<00:02, 195.86it/s]  \n"
     ]
    },
    {
     "name": "stdout",
     "output_type": "stream",
     "text": [
      "Successfully built the HTN.\n"
     ]
    },
    {
     "name": "stderr",
     "output_type": "stream",
     "text": [
      "max_dm=7.143208247128996e-11:  11%|█         | 53/500 [00:00<00:02, 182.83it/s]\n"
     ]
    },
    {
     "name": "stdout",
     "output_type": "stream",
     "text": [
      "Successfully built the HTN.\n"
     ]
    },
    {
     "name": "stderr",
     "output_type": "stream",
     "text": [
      "max_dm=5.8090462995430414e-11:  11%|█         | 56/500 [00:00<00:02, 216.09it/s]\n"
     ]
    },
    {
     "name": "stdout",
     "output_type": "stream",
     "text": [
      "Successfully built the HTN.\n"
     ]
    },
    {
     "name": "stderr",
     "output_type": "stream",
     "text": [
      "max_dm=7.809707047723435e-11:  11%|█         | 53/500 [00:00<00:02, 218.30it/s]\n"
     ]
    },
    {
     "name": "stdout",
     "output_type": "stream",
     "text": [
      "Successfully built the HTN.\n"
     ]
    },
    {
     "name": "stderr",
     "output_type": "stream",
     "text": [
      "max_dm=8.350078961605334e-11:  12%|█▏        | 60/500 [00:00<00:01, 225.02it/s] \n"
     ]
    },
    {
     "name": "stdout",
     "output_type": "stream",
     "text": [
      "Successfully built the HTN.\n"
     ]
    },
    {
     "name": "stderr",
     "output_type": "stream",
     "text": [
      "max_dm=8.198841605633334e-11:  11%|█         | 55/500 [00:00<00:02, 185.76it/s] \n"
     ]
    },
    {
     "name": "stdout",
     "output_type": "stream",
     "text": [
      "Successfully built the HTN.\n"
     ]
    },
    {
     "name": "stderr",
     "output_type": "stream",
     "text": [
      "max_dm=8.751437075016355e-11:  12%|█▏        | 58/500 [00:00<00:02, 177.48it/s] \n"
     ]
    },
    {
     "name": "stdout",
     "output_type": "stream",
     "text": [
      "Successfully built the HTN.\n"
     ]
    },
    {
     "name": "stderr",
     "output_type": "stream",
     "text": [
      "max_dm=7.705561189119692e-11:  11%|█         | 55/500 [00:00<00:02, 172.62it/s] \n"
     ]
    },
    {
     "name": "stdout",
     "output_type": "stream",
     "text": [
      "Successfully built the HTN.\n"
     ]
    },
    {
     "name": "stderr",
     "output_type": "stream",
     "text": [
      "max_dm=7.068212681815567e-11:  12%|█▏        | 58/500 [00:00<00:01, 225.91it/s]\n"
     ]
    },
    {
     "name": "stdout",
     "output_type": "stream",
     "text": [
      "Successfully built the HTN.\n"
     ]
    },
    {
     "name": "stderr",
     "output_type": "stream",
     "text": [
      "max_dm=9.655021226961935e-11:  11%|█▏        | 57/500 [00:00<00:02, 218.63it/s]\n"
     ]
    },
    {
     "name": "stdout",
     "output_type": "stream",
     "text": [
      "Successfully built the HTN.\n"
     ]
    },
    {
     "name": "stderr",
     "output_type": "stream",
     "text": [
      "max_dm=8.129735773465541e-11:  12%|█▏        | 59/500 [00:00<00:02, 196.21it/s]\n"
     ]
    },
    {
     "name": "stdout",
     "output_type": "stream",
     "text": [
      "Successfully built the HTN.\n"
     ]
    },
    {
     "name": "stderr",
     "output_type": "stream",
     "text": [
      "max_dm=9.152797963984938e-11:  15%|█▌        | 75/500 [00:00<00:01, 221.01it/s] \n"
     ]
    },
    {
     "name": "stdout",
     "output_type": "stream",
     "text": [
      "Successfully built the HTN.\n"
     ]
    },
    {
     "name": "stderr",
     "output_type": "stream",
     "text": [
      "max_dm=9.040168613694277e-11:  11%|█▏        | 57/500 [00:00<00:02, 180.40it/s]\n"
     ]
    },
    {
     "name": "stdout",
     "output_type": "stream",
     "text": [
      "Successfully built the HTN.\n"
     ]
    },
    {
     "name": "stderr",
     "output_type": "stream",
     "text": [
      "max_dm=8.307762811021746e-11:  13%|█▎        | 67/500 [00:00<00:02, 168.45it/s] \n"
     ]
    },
    {
     "name": "stdout",
     "output_type": "stream",
     "text": [
      "Successfully built the HTN.\n"
     ]
    },
    {
     "name": "stderr",
     "output_type": "stream",
     "text": [
      "max_dm=6.688508080721078e-11:  13%|█▎        | 65/500 [00:00<00:02, 203.32it/s] \n"
     ]
    },
    {
     "name": "stdout",
     "output_type": "stream",
     "text": [
      "Successfully built the HTN.\n"
     ]
    },
    {
     "name": "stderr",
     "output_type": "stream",
     "text": [
      "max_dm=9.282966062507114e-11:  15%|█▌        | 76/500 [00:00<00:01, 218.27it/s] \n"
     ]
    },
    {
     "name": "stdout",
     "output_type": "stream",
     "text": [
      "Successfully built the HTN.\n"
     ]
    },
    {
     "name": "stderr",
     "output_type": "stream",
     "text": [
      "max_dm=9.690143132345952e-11:  13%|█▎        | 65/500 [00:00<00:01, 218.24it/s] \n"
     ]
    },
    {
     "name": "stdout",
     "output_type": "stream",
     "text": [
      "Successfully built the HTN.\n"
     ]
    },
    {
     "name": "stderr",
     "output_type": "stream",
     "text": [
      "max_dm=8.676398488560721e-11:  14%|█▎        | 68/500 [00:00<00:01, 218.95it/s] \n"
     ]
    },
    {
     "name": "stdout",
     "output_type": "stream",
     "text": [
      "Successfully built the HTN.\n"
     ]
    },
    {
     "name": "stderr",
     "output_type": "stream",
     "text": [
      "max_dm=9.07277863948508e-11:  14%|█▎        | 68/500 [00:00<00:01, 226.64it/s]  \n"
     ]
    },
    {
     "name": "stdout",
     "output_type": "stream",
     "text": [
      "Successfully built the HTN.\n"
     ]
    },
    {
     "name": "stderr",
     "output_type": "stream",
     "text": [
      "max_dm=8.709200027823272e-11:  20%|█▉        | 99/500 [00:00<00:02, 183.10it/s] \n"
     ]
    },
    {
     "name": "stdout",
     "output_type": "stream",
     "text": [
      "Successfully built the HTN.\n"
     ]
    },
    {
     "name": "stderr",
     "output_type": "stream",
     "text": [
      "max_dm=8.742481738543972e-11:  15%|█▍        | 73/500 [00:00<00:02, 162.14it/s]\n"
     ]
    },
    {
     "name": "stdout",
     "output_type": "stream",
     "text": [
      "Successfully built the HTN.\n"
     ]
    },
    {
     "name": "stderr",
     "output_type": "stream",
     "text": [
      "max_dm=8.83343953539395e-11:  15%|█▌        | 75/500 [00:00<00:02, 203.60it/s]  \n"
     ]
    },
    {
     "name": "stdout",
     "output_type": "stream",
     "text": [
      "Successfully built the HTN.\n"
     ]
    },
    {
     "name": "stderr",
     "output_type": "stream",
     "text": [
      "max_dm=8.704714726803786e-11:  15%|█▌        | 75/500 [00:00<00:02, 208.54it/s] \n"
     ]
    },
    {
     "name": "stdout",
     "output_type": "stream",
     "text": [
      "Successfully built the HTN.\n"
     ]
    },
    {
     "name": "stderr",
     "output_type": "stream",
     "text": [
      "max_dm=7.808725888125423e-11:  15%|█▌        | 76/500 [00:00<00:02, 161.02it/s] \n"
     ]
    },
    {
     "name": "stdout",
     "output_type": "stream",
     "text": [
      "Successfully built the HTN.\n"
     ]
    },
    {
     "name": "stderr",
     "output_type": "stream",
     "text": [
      "max_dm=8.742467860756165e-11:  16%|█▌        | 78/500 [00:00<00:02, 193.62it/s] \n"
     ]
    },
    {
     "name": "stdout",
     "output_type": "stream",
     "text": [
      "Successfully built the HTN.\n"
     ]
    },
    {
     "name": "stderr",
     "output_type": "stream",
     "text": [
      "max_dm=8.79127881603381e-11:  18%|█▊        | 90/500 [00:00<00:02, 166.94it/s]  \n"
     ]
    },
    {
     "name": "stdout",
     "output_type": "stream",
     "text": [
      "Successfully built the HTN.\n"
     ]
    },
    {
     "name": "stderr",
     "output_type": "stream",
     "text": [
      "max_dm=9.010908685880281e-11:  17%|█▋        | 84/500 [00:00<00:01, 211.66it/s] \n"
     ]
    }
   ],
   "source": [
    "import quimb as qu\n",
    "import quimb.tensor as qtn\n",
    "import numpy as np\n",
    "import tnmpa.solvers.quimb_vbp as qbp\n",
    "import sys\n",
    "\n",
    "a = 0.75  # Lattice constant of the underlying simple cubic lattice (in reduced units)\n",
    "N_a = 20  # Number of lattice points along one direction\n",
    "L = a * (N_a - 1)  # Length of the cubic box\n",
    "N = N_a**2  # Total number of lattice\n",
    "uv = False  # Whether to use UV cutoff\n",
    "density_compute = True\n",
    "# chemical_potential = 5\n",
    "chemical_potential_list = np.arange(-3,3,1)\n",
    "# chemical_potential_list = [0]\n",
    "reuse = True\n",
    "\n",
    "dT = 0.1\n",
    "# T_list = np.arange(1.5, 2, dT)\n",
    "T_list = [3]\n",
    "# T_list = np.arange(15.0, 10.0, dT)\n",
    "\n",
    "cutoff = 3.0  # Cutoff distance for LJ potential\n",
    "epsilon = 1.0  # Depth of the potential well/ Energy unit scale\n",
    "sigma = 1.0  # Length scale in LJ potential, also the distance at which the potential becomes zero\n",
    "\n",
    "\n",
    "def contract_HTN_partition(tn):\n",
    "    \"\"\"\n",
    "    Exactly contract the hyper tensor network to get the partition function.\n",
    "    \"\"\"\n",
    "    import quimb.tensor as qtn\n",
    "    tensor_list = []\n",
    "    for tensor in tn.tensor_map.values():\n",
    "        tensor_list.append(tensor)\n",
    "    value = qtn.tensor_contract(*tensor_list, output_inds=[])\n",
    "    return value\n",
    "\n",
    "# entropy_exact = np.log(contract_HTN_partition(tn))\n",
    "\n",
    "\n",
    "for T in T_list:\n",
    "    for chemical_potential in chemical_potential_list:\n",
    "        beta = 1/T\n",
    "\n",
    "        tn = qtn.tensor_builder.HTN2D_classical_LennardJones_partition_function(\n",
    "            Lx=L,Ly=L,\n",
    "            beta=beta,\n",
    "            Nx=N_a,Ny=N_a,\n",
    "            cutoff=cutoff,\n",
    "            epsilon=epsilon,\n",
    "            sigma=sigma,\n",
    "            uv_cutoff=uv,\n",
    "            chemical_potential=chemical_potential,\n",
    "            cyclic=True,\n",
    "            )\n",
    "        # BP\n",
    "        converged = False\n",
    "        tol = 1e-5\n",
    "        count = 0\n",
    "        max_dm = 0\n",
    "        damping_eta = 4e-1\n",
    "        max_dm_cache = 0\n",
    "        messages_cache = None\n",
    "\n",
    "        beta = 1/T\n",
    "        while not converged:\n",
    "\n",
    "            if count > 0:\n",
    "                damping_eta += 5e-2\n",
    "        \n",
    "            print('Successfully built the HTN.')\n",
    "\n",
    "            messages, converged, max_dm = qbp.run_belief_propagation(\n",
    "            tn, \n",
    "            tol=tol,\n",
    "            max_iterations=1500,\n",
    "            messages=messages_cache,\n",
    "            progbar=True,\n",
    "            thread_pool=8,\n",
    "            uniform=False,\n",
    "            damping=True,\n",
    "            eta=damping_eta,\n",
    "            show_max_dm=True,\n",
    "            )\n",
    "\n",
    "            max_dm_cache = max_dm\n",
    "\n",
    "            if reuse:\n",
    "                messages_cache = messages\n",
    "\n",
    "            entropy_bp = qbp.compute_free_entropy_from_messages(tn, messages)\n",
    "            density=0\n",
    "            if density_compute:\n",
    "                marginal = qbp.compute_all_index_marginals_from_messages(tn, messages)\n",
    "                key_format='s{},{}'\n",
    "                # Compute the density\n",
    "                density = 0\n",
    "                for i in range(N_a):\n",
    "                    for j in range(N_a):\n",
    "                        key = key_format.format(i,j)\n",
    "                        density += marginal[key][1]\n",
    "                density /= L**2\n",
    "            \n",
    "            if not converged and count > 3:\n",
    "                if uv:\n",
    "                    print(f'T={T}, Entropy = {entropy_bp}, Converged={converged}, damping={damping_eta}, density N/V={density}, chemical potential={chemical_potential}, Not Converged!', file=open(f\"./3DLJ_occ_L={L}_N_a={N_a}_cutoff_BP_results.txt\", \"a\"))\n",
    "                    converged = False\n",
    "                else:\n",
    "                    if dT>0:\n",
    "                        print(f'T={T}, Entropy = {entropy_bp}, Converged={converged}, damping={damping_eta}, density N/V={density}, chemical potential={chemical_potential}, Not Converged!', file=open(f\"./3DLJ_occ_L={L}_N_a={N_a}_BP_results.txt\", \"a\"))\n",
    "                        converged = False\n",
    "                    else:\n",
    "                        print(f'T={T}, Entropy = {entropy_bp}, Converged={converged}, damping={damping_eta}, density N/V={density}, chemical potential={chemical_potential}, Not Converged!', file=open(f\"./3DLJ_occ_L={L}_N_a={N_a}_BP_results_reverse.txt\", \"a\"))\n",
    "                        converged = False\n",
    "                \n",
    "                break\n",
    "        \n",
    "\n",
    "        if not uv:\n",
    "            if converged:\n",
    "                if dT>0:\n",
    "                    print(f'T={T}, Entropy = {entropy_bp}, Converged={converged}, damping={damping_eta}, density N/V={density}, chemical potential={chemical_potential}', file=open(f\"./3DLJ_occ_L={L}_N_a={N_a}_BP_results.txt\", \"a\"))\n",
    "                else:\n",
    "                    print(f'T={T}, Entropy = {entropy_bp}, Converged={converged}, damping={damping_eta}, density N/V={density}, chemical potential={chemical_potential}', file=open(f\"./3DLJ_occ_L={L}_N_a={N_a}_BP_results_reverse.txt\", \"a\"))\n",
    "        else:\n",
    "            if converged:\n",
    "                print(f'T={T}, Entropy = {entropy_bp}, Converged={converged}, damping={damping_eta}, density N/V={density}, chemical potential={chemical_potential}', file=open(f\"./3DLJ_occ_L={L}_N_a={N_a}_cutoff_BP_results.txt\", \"a\"))\n",
    "\n",
    "# print(f'T={T}, Entropy = {entropy_exact}', file=open(f\"./3DLJ_occ_L={L}_N_a={N_a}_Exact_results.txt\", \"a\"))\n"
   ]
  },
  {
   "cell_type": "code",
   "execution_count": 12,
   "metadata": {},
   "outputs": [],
   "source": [
    "import quimb as qu\n",
    "import quimb.tensor as qtn\n",
    "import numpy as np\n",
    "import tnmpa.solvers.quimb_vbp as qbp\n",
    "import sys\n",
    "from quimb.tensor.tensor_core import (\n",
    "    new_bond,\n",
    "    rand_uuid,\n",
    "    tensor_direct_product,\n",
    "    Tensor,\n",
    "    TensorNetwork,\n",
    ")\n",
    "\n",
    "def bp_test_4_tensor_loop_network(T,shift=0):\n",
    "    \"\"\"A 4-tensor loop network with 4 sites.\"\"\"\n",
    "    beta = 1/T\n",
    "    ts = []\n",
    "    ts1_m = qtn.tensor_builder.classical_LennardJones_matrix(beta, 100)\n",
    "    ts2_m = qtn.tensor_builder.classical_LennardJones_matrix(beta, -1+shift)\n",
    "    ts3_m = qtn.tensor_builder.classical_LennardJones_matrix(beta, 100)\n",
    "    ts4_m = qtn.tensor_builder.classical_LennardJones_matrix(beta, -1)\n",
    "    inds1 = ['s0','s1']\n",
    "    inds2 = ['s1','s2']\n",
    "    inds3 = ['s2','s3']\n",
    "    inds4 = ['s3','s0']\n",
    "\n",
    "    ts.append(Tensor(data=ts1_m, inds=inds1, tags=['t1']))\n",
    "    ts.append(Tensor(data=ts2_m, inds=inds2, tags=['t2']))\n",
    "    ts.append(Tensor(data=ts3_m, inds=inds3, tags=['t3']))\n",
    "    ts.append(Tensor(data=ts4_m, inds=inds4, tags=['t4']))\n",
    "    tn = TensorNetwork(ts)\n",
    "    return tn\n",
    "\n",
    "def contract_HTN_partition(tn):\n",
    "    \"\"\"\n",
    "    Exactly contract the hyper tensor network to get the partition function.\n",
    "    \"\"\"\n",
    "    import quimb.tensor as qtn\n",
    "    tensor_list = []\n",
    "    for tensor in tn.tensor_map.values():\n",
    "        tensor_list.append(tensor)\n",
    "    value = qtn.tensor_contract(*tensor_list, output_inds=[])\n",
    "    return value\n"
   ]
  },
  {
   "cell_type": "code",
   "execution_count": 19,
   "metadata": {},
   "outputs": [
    {
     "name": "stderr",
     "output_type": "stream",
     "text": [
      "max_dm=9.930586301193367e-11:   4%|▍         | 1987/50000 [00:00<00:13, 3631.28it/s]\n"
     ]
    }
   ],
   "source": [
    "tn = bp_test_4_tensor_loop_network(T=0.1)\n",
    "messages, converged, max_dm = qbp.run_belief_propagation(\n",
    "    tn, \n",
    "    tol=tol,\n",
    "    max_iterations=50000, \n",
    "    progbar=True,\n",
    "    thread_pool=8,\n",
    "    uniform=False,\n",
    "    damping=True,\n",
    "    eta=damping_eta,\n",
    "    show_max_dm=True,\n",
    "    )\n",
    "\n",
    "entropy_bp = qbp.compute_free_entropy_from_messages(tn, messages)\n",
    "marginal = qbp.compute_all_index_marginals_from_messages(tn, messages)"
   ]
  },
  {
   "cell_type": "code",
   "execution_count": 20,
   "metadata": {},
   "outputs": [
    {
     "data": {
      "text/plain": [
       "{'s0': array([0.50168444, 0.49831556]),\n",
       " 's1': array([0.50168444, 0.49831556]),\n",
       " 's2': array([0.50168444, 0.49831556]),\n",
       " 's3': array([0.50168444, 0.49831556])}"
      ]
     },
     "execution_count": 20,
     "metadata": {},
     "output_type": "execute_result"
    }
   ],
   "source": [
    "marginal"
   ]
  },
  {
   "cell_type": "code",
   "execution_count": null,
   "metadata": {},
   "outputs": [],
   "source": [
    "\n",
    "# def fix_ind(TN,ind,ind_value):\n",
    "#     \"\"\"\n",
    "#         Fix the value of an index in a tensor network. Return the modified tensor network with corresponding index dimension reduced to 1.\n",
    "#     \"\"\"\n",
    "#     tn = TN.copy()\n",
    "#     tn_no_list = list(tn.ind_map[(ind)])\n",
    "#     for tn_no in tn_no_list:\n",
    "#         temp_ind_list = list(tn.tensors[tn_no].inds)\n",
    "#         ind_pos = temp_ind_list.index(ind)\n",
    "#         inds = list(tn.tensors[tn_no].inds)\n",
    "#         inds.pop(ind_pos) # Remove the fixed index\n",
    "#         shape = list(tn.tensors[tn_no].shape)\n",
    "#         shape.pop(ind_pos) # Remove the dimension of the fixed index\n",
    "#         data = tn.tensors[tn_no].data\n",
    "#         # Create a list of slices\n",
    "#         slices = [slice(None)] * data.ndim  # Start with all slices set to ':'\n",
    "#         slices[ind_pos] = slice(ind_value, ind_value + 1)  # Fix the i-th dimension\n",
    "#         new_data = data[tuple(slices)].reshape(shape) # Reduce the dimension of the tensor data\n",
    "#         tn.tensors[tn_no].modify(data=new_data,inds=tuple(inds))\n",
    "#     return tn\n",
    "\n",
    "BP_Z_list = []\n",
    "Exact_Z_list = []\n",
    "GS_slices_list = []\n",
    "# T_list = np.arange(0.01, 0.1, 0.01)\n",
    "T_list = [1]\n",
    "\n",
    "for T in T_list:\n",
    "    tn = bp_test_4_tensor_loop_network(T=T,shift=0)\n",
    "    # tn_fix1 = fix_ind(tn,'s0',1)\n",
    "    # tn_fix1 = fix_ind(tn_fix1,'s3',1)\n",
    "    # tn_fix1 = fix_ind(tn_fix1,'s1',0)\n",
    "    # tn_fix1 = fix_ind(tn_fix1,'s2',0)\n",
    "\n",
    "\n",
    "    Z_exact = contract_HTN_partition(tn)\n",
    "    # BP\n",
    "    converged = False\n",
    "    tol = 1e-10\n",
    "    count = 0\n",
    "    max_dm = 0\n",
    "    damping_eta = 0\n",
    "    max_dm_cache = 0\n",
    "\n",
    "    messages, converged, max_dm = qbp.run_belief_propagation(\n",
    "    tn, \n",
    "    tol=tol,\n",
    "    max_iterations=50000, \n",
    "    progbar=True,\n",
    "    thread_pool=8,\n",
    "    uniform=False,\n",
    "    damping=True,\n",
    "    eta=damping_eta,\n",
    "    show_max_dm=True,\n",
    "    )\n",
    "    # print(qbp.compute_all_index_marginals_from_messages(tn, messages))\n",
    "    # print(f'BP Z: {np.exp(qbp.compute_free_entropy_from_messages(tn, messages))}')\n",
    "    BP_Z_list.append(np.exp(qbp.compute_free_entropy_from_messages(tn, messages)))\n",
    "    # print(f'Exact Z: {Z_exact}')\n",
    "    Exact_Z_list.append(Z_exact)\n",
    "    # print(f'Ground states slices: {2*tn_fix1.contract()}')\n",
    "    # GS_slices_list.append(2*tn_fix1.contract())"
   ]
  },
  {
   "cell_type": "code",
   "execution_count": 2,
   "metadata": {},
   "outputs": [
    {
     "data": {
      "image/png": "[encoded data removed]",
      "text/plain": [
       "<Figure size 640x480 with 1 Axes>"
      ]
     },
     "metadata": {},
     "output_type": "display_data"
    }
   ],
   "source": [
    "# plot the Z-T curve\n",
    "import matplotlib.pyplot as plt\n",
    "GS_ratio_list = np.array(GS_slices_list)/np.array(Exact_Z_list)\n",
    "BP_ratio_list = np.array(BP_Z_list)/np.array(Exact_Z_list)\n",
    "BP_error_list = np.abs(np.array(BP_Z_list)-np.array(Exact_Z_list))/np.array(Exact_Z_list)\n",
    "# plt.plot(T_list,BP_Z_list,label='BP')\n",
    "# plt.plot(T_list,Exact_Z_list,label='Exact')\n",
    "# plt.plot(T_list,GS_slices_list,label='GS slices')\n",
    "plt.plot(T_list,GS_ratio_list,label=r'GS ratio $Z_{GS}/Z_{exact}$')\n",
    "plt.plot(T_list,BP_ratio_list,label=r'BP ratio $Z_{BP}/Z_{exact}$')\n",
    "plt.plot(T_list,BP_error_list,label=r'BP error $|Z_{BP}-Z_{exact}|/Z_{exact}$')\n",
    "# plot y=0.5 line\n",
    "plt.plot(T_list,0.5*np.ones(len(T_list)),label=r'$y=0.5$',linestyle='--')\n",
    "plt.xlabel('T')\n",
    "plt.ylabel('GS ratio')\n",
    "plt.legend()\n",
    "plt.show()"
   ]
  },
  {
   "cell_type": "code",
   "execution_count": 54,
   "metadata": {},
   "outputs": [
    {
     "data": {
      "text/plain": [
       "{(0, 's0'): array([0.67465472, 0.32534528]),\n",
       " (3, 's0'): array([0.48223969, 0.51776031]),\n",
       " (0, 's1'): array([0.67465472, 0.32534528]),\n",
       " (1, 's1'): array([0.48223969, 0.51776031]),\n",
       " (1, 's2'): array([0.48223969, 0.51776031]),\n",
       " (2, 's2'): array([0.67465472, 0.32534528]),\n",
       " (2, 's3'): array([0.67465472, 0.32534528]),\n",
       " (3, 's3'): array([0.48223969, 0.51776031]),\n",
       " ('s0', 0): array([0.48223969, 0.51776031]),\n",
       " ('s1', 0): array([0.48223969, 0.51776031]),\n",
       " ('s1', 1): array([0.67465472, 0.32534528]),\n",
       " ('s2', 1): array([0.67465472, 0.32534528]),\n",
       " ('s2', 2): array([0.48223969, 0.51776031]),\n",
       " ('s3', 2): array([0.48223969, 0.51776031]),\n",
       " ('s3', 3): array([0.67465472, 0.32534528]),\n",
       " ('s0', 3): array([0.67465472, 0.32534528])}"
      ]
     },
     "execution_count": 54,
     "metadata": {},
     "output_type": "execute_result"
    }
   ],
   "source": [
    "messages"
   ]
  },
  {
   "cell_type": "code",
   "execution_count": 3,
   "metadata": {},
   "outputs": [
    {
     "data": {
      "text/plain": [
       "{'s0': array([1.00000000e+00, 5.06765583e-48]),\n",
       " 's1': array([1.01346215e-47, 1.00000000e+00]),\n",
       " 's2': array([1.01346215e-47, 1.00000000e+00]),\n",
       " 's3': array([1.00000000e+00, 5.06765583e-48])}"
      ]
     },
     "execution_count": 3,
     "metadata": {},
     "output_type": "execute_result"
    }
   ],
   "source": [
    "qbp.compute_all_index_marginals_from_messages(tn, messages)"
   ]
  }
 ],
 "metadata": {
  "kernelspec": {
   "display_name": "tnmpa",
   "language": "python",
   "name": "python3"
  },
  "language_info": {
   "codemirror_mode": {
    "name": "ipython",
    "version": 3
   },
   "file_extension": ".py",
   "mimetype": "text/x-python",
   "name": "python",
   "nbconvert_exporter": "python",
   "pygments_lexer": "ipython3",
   "version": "3.11.5"
  }
 },
 "nbformat": 4,
 "nbformat_minor": 2
}
