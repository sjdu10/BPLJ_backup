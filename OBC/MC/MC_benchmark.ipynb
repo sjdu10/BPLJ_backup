{
 "cells": [
  {
   "cell_type": "code",
   "execution_count": 2,
   "metadata": {},
   "outputs": [
    {
     "ename": "KeyboardInterrupt",
     "evalue": "",
     "output_type": "error",
     "traceback": [
      "\u001b[0;31m---------------------------------------------------------------------------\u001b[0m",
      "\u001b[0;31mKeyboardInterrupt\u001b[0m                         Traceback (most recent call last)",
      "\u001b[1;32m/home/sijingdu/BP/MC/MC_benchmark.ipynb Cell 1\u001b[0m line \u001b[0;36m6\n\u001b[1;32m     <a href='vscode-notebook-cell://wsl%2Bubuntu/home/sijingdu/BP/MC/MC_benchmark.ipynb#W0sdnNjb2RlLXJlbW90ZQ%3D%3D?line=61'>62</a>\u001b[0m     futures \u001b[39m=\u001b[39m [executor\u001b[39m.\u001b[39msubmit(monte_carlo_thread, i, steps_per_thread) \u001b[39mfor\u001b[39;00m i \u001b[39min\u001b[39;00m \u001b[39mrange\u001b[39m(n_threads)]\n\u001b[1;32m     <a href='vscode-notebook-cell://wsl%2Bubuntu/home/sijingdu/BP/MC/MC_benchmark.ipynb#W0sdnNjb2RlLXJlbW90ZQ%3D%3D?line=62'>63</a>\u001b[0m     \u001b[39mfor\u001b[39;00m future \u001b[39min\u001b[39;00m futures:\n\u001b[0;32m---> <a href='vscode-notebook-cell://wsl%2Bubuntu/home/sijingdu/BP/MC/MC_benchmark.ipynb#W0sdnNjb2RlLXJlbW90ZQ%3D%3D?line=63'>64</a>\u001b[0m         E_sum \u001b[39m+\u001b[39m\u001b[39m=\u001b[39m future\u001b[39m.\u001b[39;49mresult()\n\u001b[1;32m     <a href='vscode-notebook-cell://wsl%2Bubuntu/home/sijingdu/BP/MC/MC_benchmark.ipynb#W0sdnNjb2RlLXJlbW90ZQ%3D%3D?line=65'>66</a>\u001b[0m \u001b[39m# Compute energy expectation value\u001b[39;00m\n\u001b[1;32m     <a href='vscode-notebook-cell://wsl%2Bubuntu/home/sijingdu/BP/MC/MC_benchmark.ipynb#W0sdnNjb2RlLXJlbW90ZQ%3D%3D?line=66'>67</a>\u001b[0m E_avg \u001b[39m=\u001b[39m E_sum \u001b[39m/\u001b[39m n_steps\n",
      "File \u001b[0;32m~/anaconda3/envs/tnmpa/lib/python3.11/concurrent/futures/_base.py:451\u001b[0m, in \u001b[0;36mFuture.result\u001b[0;34m(self, timeout)\u001b[0m\n\u001b[1;32m    448\u001b[0m \u001b[39melif\u001b[39;00m \u001b[39mself\u001b[39m\u001b[39m.\u001b[39m_state \u001b[39m==\u001b[39m FINISHED:\n\u001b[1;32m    449\u001b[0m     \u001b[39mreturn\u001b[39;00m \u001b[39mself\u001b[39m\u001b[39m.\u001b[39m__get_result()\n\u001b[0;32m--> 451\u001b[0m \u001b[39mself\u001b[39;49m\u001b[39m.\u001b[39;49m_condition\u001b[39m.\u001b[39;49mwait(timeout)\n\u001b[1;32m    453\u001b[0m \u001b[39mif\u001b[39;00m \u001b[39mself\u001b[39m\u001b[39m.\u001b[39m_state \u001b[39min\u001b[39;00m [CANCELLED, CANCELLED_AND_NOTIFIED]:\n\u001b[1;32m    454\u001b[0m     \u001b[39mraise\u001b[39;00m CancelledError()\n",
      "File \u001b[0;32m~/anaconda3/envs/tnmpa/lib/python3.11/threading.py:320\u001b[0m, in \u001b[0;36mCondition.wait\u001b[0;34m(self, timeout)\u001b[0m\n\u001b[1;32m    318\u001b[0m \u001b[39mtry\u001b[39;00m:    \u001b[39m# restore state no matter what (e.g., KeyboardInterrupt)\u001b[39;00m\n\u001b[1;32m    319\u001b[0m     \u001b[39mif\u001b[39;00m timeout \u001b[39mis\u001b[39;00m \u001b[39mNone\u001b[39;00m:\n\u001b[0;32m--> 320\u001b[0m         waiter\u001b[39m.\u001b[39;49macquire()\n\u001b[1;32m    321\u001b[0m         gotit \u001b[39m=\u001b[39m \u001b[39mTrue\u001b[39;00m\n\u001b[1;32m    322\u001b[0m     \u001b[39melse\u001b[39;00m:\n",
      "\u001b[0;31mKeyboardInterrupt\u001b[0m: "
     ]
    }
   ],
   "source": [
    "import numpy as np\n",
    "from concurrent.futures import ThreadPoolExecutor\n",
    "# Initialize parameters\n",
    "L = 10  # Lattice size\n",
    "N = L * L * L  # Total number of spins\n",
    "J = 1.0  # Coupling constant\n",
    "T = 0.01  # Temperature\n",
    "n_steps = int(1e4)  # Number of Monte Carlo steps\n",
    "n_threads = 10  # Number of threads\n",
    "\n",
    "config_list = []  # List to store configurations\n",
    "\n",
    "# Initialize 3D lattice with random spins\n",
    "lattice = np.random.choice([-1, 1], size=(L, L, L))\n",
    "\n",
    "config_list.append(lattice.copy())\n",
    "\n",
    "# Function to compute energy of a configuration\n",
    "def compute_energy(lattice):\n",
    "    E = 0\n",
    "    for i in range(L):\n",
    "        for j in range(L):\n",
    "            for k in range(L):\n",
    "                nn_sum = (\n",
    "                    lattice[(i+1)%L, j, k] + lattice[(i-1)%L, j, k] +\n",
    "                    lattice[i, (j+1)%L, k] + lattice[i, (j-1)%L, k] +\n",
    "                    lattice[i, j, (k+1)%L] + lattice[i, j, (k-1)%L]\n",
    "                )\n",
    "                E += -J * lattice[i, j, k] * nn_sum\n",
    "    return E / 2  # Each pair counted twice\n",
    "\n",
    "# Monte Carlo simulation for each thread\n",
    "def monte_carlo_thread(thread_id, steps):\n",
    "    E_sum_thread = 0\n",
    "    for _ in range(steps):\n",
    "        # Randomly select a spin\n",
    "        i, j, k = np.random.randint(0, L, 3)\n",
    "        \n",
    "        # Compute energy change if this spin is flipped\n",
    "        nn_sum = (\n",
    "            lattice[(i+1)%L, j, k] + lattice[(i-1)%L, j, k] +\n",
    "            lattice[i, (j+1)%L, k] + lattice[i, (j-1)%L, k] +\n",
    "            lattice[i, j, (k+1)%L] + lattice[i, j, (k-1)%L]\n",
    "        )\n",
    "        dE = 2 * J * lattice[i, j, k] * nn_sum\n",
    "        \n",
    "        # Metropolis-Hastings algorithm\n",
    "        if dE < 0 or np.random.rand() < np.exp(-dE / T):\n",
    "            lattice[i, j, k] *= -1\n",
    "        \n",
    "        # Add the energy of the current configuration to E_sum_thread\n",
    "        E_current = compute_energy(lattice)\n",
    "        E_sum_thread += E_current\n",
    "        config_list.append(lattice.copy())\n",
    "\n",
    "    return E_sum_thread\n",
    "\n",
    "# Parallel Monte Carlo simulation\n",
    "E_sum = 0\n",
    "with ThreadPoolExecutor(max_workers=n_threads) as executor:\n",
    "    steps_per_thread = n_steps // n_threads\n",
    "    futures = [executor.submit(monte_carlo_thread, i, steps_per_thread) for i in range(n_threads)]\n",
    "    for future in futures:\n",
    "        E_sum += future.result()\n",
    "\n",
    "# Compute energy expectation value\n",
    "E_avg = E_sum / n_steps\n",
    "E_avg_per_site = E_avg / N\n",
    "\n",
    "print(f\"Energy Expectation Value: {E_avg}\")\n",
    "print(f\"Energy Expectation Value per site: {E_avg_per_site}\")\n"
   ]
  },
  {
   "cell_type": "code",
   "execution_count": 53,
   "metadata": {},
   "outputs": [
    {
     "name": "stdout",
     "output_type": "stream",
     "text": [
      "Magnetization Expectation Value: 0.2504223577642239\n"
     ]
    }
   ],
   "source": [
    "def magnetization(lattice):\n",
    "    return np.sum(lattice) / N\n",
    "\n",
    "total_mag = 0\n",
    "for config in config_list:\n",
    "    total_mag += magnetization(config)\n",
    "\n",
    "print(f\"Magnetization Expectation Value: {total_mag / len(config_list)}\")"
   ]
  },
  {
   "cell_type": "code",
   "execution_count": 7,
   "metadata": {},
   "outputs": [
    {
     "data": {
      "text/plain": [
       "1.4142135623730951"
      ]
     },
     "execution_count": 7,
     "metadata": {},
     "output_type": "execute_result"
    }
   ],
   "source": [
    "import numpy as np\n",
    "a = np.array((0,1))\n",
    "b = np.array((1,0))\n",
    "\n",
    "np.linalg.norm(a-b)"
   ]
  }
 ],
 "metadata": {
  "kernelspec": {
   "display_name": "tnmpa",
   "language": "python",
   "name": "python3"
  },
  "language_info": {
   "codemirror_mode": {
    "name": "ipython",
    "version": 3
   },
   "file_extension": ".py",
   "mimetype": "text/x-python",
   "name": "python",
   "nbconvert_exporter": "python",
   "pygments_lexer": "ipython3",
   "version": "3.11.5"
  },
  "orig_nbformat": 4
 },
 "nbformat": 4,
 "nbformat_minor": 2
}
