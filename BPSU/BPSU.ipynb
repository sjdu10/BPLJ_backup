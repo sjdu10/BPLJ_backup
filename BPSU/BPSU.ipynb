{
 "cells": [
  {
   "cell_type": "code",
   "execution_count": 1,
   "metadata": {},
   "outputs": [
    {
     "name": "stderr",
     "output_type": "stream",
     "text": [
      "/home/sijingdu/anaconda3/envs/BPSU/lib/python3.11/site-packages/numba/np/ufunc/parallel.py:371: NumbaWarning: The TBB threading layer requires TBB version 2021 update 6 or later i.e., TBB_INTERFACE_VERSION >= 12060. Found TBB_INTERFACE_VERSION = 12050. The TBB threading layer is disabled.\n",
      "  warnings.warn(problem)\n"
     ]
    }
   ],
   "source": [
    "# %config InlineBackend.figure_formats = ['svg']\n",
    "import xyzpy as xyz\n",
    "import combo_dynamics\n",
    "from combo_dynamics import *\n",
    "from math import pi\n",
    "import quimb.tensor as qtn\n",
    "import numpy as np\n",
    "import os\n",
    "from quimb.tensor.circuit import *\n",
    "from quimb.tensor.circuit import Gate\n",
    "import torch\n",
    "\n",
    "# set single thread\n",
    "os.environ['OMP_NUM_THREADS'] = '1'\n",
    "os.environ['MKL_NUM_THREADS'] = '1'\n",
    "os.environ['OPENBLAS_NUM_THREADS'] = '1'\n",
    "# specify which gpu\n",
    "os.environ['CUDA_VISIBLE_DEVICES'] = '0'"
   ]
  },
  {
   "cell_type": "code",
   "execution_count": 2,
   "metadata": {},
   "outputs": [],
   "source": [
    "def coor2index(i, j, Lx, Ly):\n",
    "    return i * Ly + j\n",
    "\n",
    "\n",
    "def index2coor(index, Lx, Ly):\n",
    "    return index // Ly, index % Ly\n",
    "\n",
    "\n",
    "def bpsu_peps(\n",
    "    peps,\n",
    "    steps,\n",
    "    chi=20,\n",
    "    final_max_bond=20,\n",
    "    max_iteration=1000,\n",
    "    block=1,\n",
    "    last_step=0,\n",
    "    progbar=False,\n",
    "    cutoff=5e-6,\n",
    "    tol=5e-6,\n",
    "    cutoff_mode=\"rsum2\",\n",
    "    optimize=None,\n",
    "    compute_exact=True,\n",
    "    rblock=0,\n",
    "    plot=False,\n",
    "    plot_final=False,\n",
    "    lazy=False,\n",
    "    damping=0.0,\n",
    "):\n",
    "    compressed_psi_list = []\n",
    "\n",
    "    psi = peps.copy()\n",
    "\n",
    "    for r in range(steps + last_step):\n",
    "        # add another layer to the inner PEPO\n",
    "        psi.retag_({\n",
    "            f\"ROUND_{r}\": \"OUTER\"\n",
    "        })  # rename the round r tag to OUTER to be compressed later\n",
    "        if plot:\n",
    "            psi.draw(color=['OUTER'], show_tags=False)\n",
    "        rblock += 1\n",
    "        if rblock < block:\n",
    "            # keep accumulating into blocks\n",
    "            continue\n",
    "        else:\n",
    "            # reset block counter\n",
    "            rblock = 0\n",
    "\n",
    "        if progbar:\n",
    "            print(f\"compressing layer {r}\")\n",
    "\n",
    "        psi, tn_outer = psi.partition(\n",
    "            \"OUTER\", inplace=True\n",
    "        )  # split the OUTER layer which consists of the PEPO-PEPS to be\n",
    "\n",
    "        if r != steps + last_step - 1:\n",
    "            # if not the last step, compress the OUTER layer to chi\n",
    "            compress_l2bp(tn_outer,\n",
    "                          max_bond=chi,\n",
    "                          cutoff=cutoff,\n",
    "                          max_iterations=max_iteration,\n",
    "                          cutoff_mode=cutoff_mode,\n",
    "                          tol=tol,\n",
    "                          optimize=optimize,\n",
    "                          progbar=progbar,\n",
    "                          inplace=True,\n",
    "                          lazy=lazy,\n",
    "                          damping=damping,\n",
    "                          update='sequential')\n",
    "        else:\n",
    "            # if the last step, compress the OUTER layer to final_max_bond\n",
    "            compress_l2bp(tn_outer,\n",
    "                          max_bond=final_max_bond,\n",
    "                          cutoff=0.0,\n",
    "                          max_iterations=max_iteration,\n",
    "                          cutoff_mode=cutoff_mode,\n",
    "                          tol=tol,\n",
    "                          optimize=optimize,\n",
    "                          progbar=progbar,\n",
    "                          inplace=True,\n",
    "                          lazy=lazy,\n",
    "                          damping=damping,\n",
    "                          update='sequential')\n",
    "\n",
    "        if progbar:\n",
    "            print(\"max_bond:\", tn_outer.max_bond())\n",
    "            # print(xyz.report_memory())\n",
    "            # print(xyz.report_memory_gpu())\n",
    "\n",
    "        tn_outer.equalize_norms_(value=1.0)\n",
    "\n",
    "        current_psi = tn_outer.copy()\n",
    "\n",
    "        compressed_psi_list.append(current_psi)\n",
    "\n",
    "        psi.add_tensor_network(tn_outer, virtual=True)\n",
    "\n",
    "        psi.check()\n",
    "\n",
    "        if progbar:\n",
    "            print(\"----------------------------------------------\")\n",
    "\n",
    "    if compute_exact:\n",
    "        Nex = complex((psi.H & psi).contract(optimize=optimize))\n",
    "        print(f\"Exact norm = {Nex}\")\n",
    "    if plot_final:\n",
    "        psi.draw(color=['PSI0'], show_tags=False)\n",
    "\n",
    "    # compressed_psi_list.append(psi)\n",
    "\n",
    "    return psi, compressed_psi_list\n",
    "\n",
    "\n",
    "def tag_initial_state(psi, Lx, Ly):\n",
    "    psi0 = psi.copy()\n",
    "    for i in range(Lx * Ly):\n",
    "        psi0.tensors[i].add_tag(['PSI0', 'ROUND_0'])\n",
    "    return psi0\n",
    "\n",
    "\n",
    "def peps2circpsi(peps, Lx, Ly):\n",
    "    psi0 = peps.copy()\n",
    "    for i in range(Lx * Ly):\n",
    "        # psi0.tensors[i].add_tag(['PSI0','ROUND_0'])\n",
    "        psi0.reindex_({\"k{},{}\".format(*index2coor(i, Lx, Ly)): f\"k{i}\"})\n",
    "        psi0.retag_({'I{},{}'.format(*index2coor(i, Lx, Ly)): f\"I{i}\"})\n",
    "    circ0 = Circuit(Lx * Ly, tags=['ROUND_0'])\n",
    "    psi0.view_like_(circ0.psi)\n",
    "    return psi0\n",
    "\n",
    "\n",
    "def circpsi2peps(psi, Lx, Ly):\n",
    "    peps0 = psi.copy()\n",
    "    for i in range(Lx * Ly):\n",
    "        peps0[f'I{i}'].add_tag([\n",
    "            'X{}'.format(index2coor(i, Lx, Ly)[0]),\n",
    "            'Y{}'.format(index2coor(i, Lx, Ly)[1])\n",
    "        ])\n",
    "        peps0.retag_({f\"I{i}\": \"I{},{}\".format(*index2coor(i, Lx, Ly))})\n",
    "        peps0.reindex_({f\"k{i}\": \"k{},{}\".format(*index2coor(i, Lx, Ly))})\n",
    "\n",
    "    peps = qtn.PEPS.from_TN(\n",
    "        peps0,\n",
    "        Lx=Lx,\n",
    "        Ly=Ly,\n",
    "        site_tag_id='I{},{}',\n",
    "        site_ind_id='k{},{}',\n",
    "        x_tag_id='X{}',\n",
    "        y_tag_id='Y{}',\n",
    "    )\n",
    "    return peps\n",
    "\n",
    "\n",
    "def generate_product_state(Lx, Ly, D):\n",
    "\n",
    "    def fill_fn(shape):\n",
    "        array = np.zeros(\n",
    "            shape\n",
    "        )  # except for the first element being 1, all other elements are 0\n",
    "        # shape is a tuple of unknown length, so we use *shape to unpack it\n",
    "        zeros = np.zeros(len(shape))\n",
    "        array[tuple(zeros.astype(int))] = 1\n",
    "        return array\n",
    "\n",
    "    psi = qtn.PEPS.from_fill_fn(\n",
    "        fill_fn,\n",
    "        Lx,\n",
    "        Ly,\n",
    "        bond_dim=D,\n",
    "    )\n",
    "    return psi\n",
    "\n",
    "\n",
    "def to_backend(x):\n",
    "    # return torch.tensor on gpu\n",
    "    return torch.tensor(x, dtype=torch.float64, device='cuda')"
   ]
  },
  {
   "cell_type": "code",
   "execution_count": 21,
   "metadata": {},
   "outputs": [],
   "source": [
    "def run_BPSU(depth,\n",
    "             Lx,\n",
    "             Ly,\n",
    "             j,\n",
    "             g,\n",
    "             tau_list,\n",
    "             init_state=None,\n",
    "             trotterization=False,\n",
    "             second_order_reflect=False,\n",
    "             factor=2.0,\n",
    "             max_bond=32,\n",
    "             final_max_bond=2,\n",
    "             plot_circ=False,\n",
    "             progbar=False,\n",
    "             lazy=False,\n",
    "             tol=5e-6,\n",
    "             cutoff=5e-6,\n",
    "             max_iteration=1000,\n",
    "             damping=0.0,\n",
    "             plot_intermediate=False,\n",
    "             rand_init=False,\n",
    "             gpu=False,\n",
    "             compute_energy_every=10):\n",
    "    H2 = qu.ham_heis(n=2, j=j)\n",
    "    if g != 0:\n",
    "        H1 = qu.ham_heis(n=1, b=(0, 0, g))\n",
    "        ham = qtn.LocalHam2D(Lx, Ly, H2=H2, H1=H1)\n",
    "    else:\n",
    "        ham = qtn.LocalHam2D(Lx, Ly, H2=H2)\n",
    "\n",
    "    psi_su = qtn.PEPS.rand(Lx, Ly, bond_dim=max_bond, seed=1)\n",
    "    su = qtn.SimpleUpdate(\n",
    "        psi_su,\n",
    "        ham,\n",
    "        chi=32,  # boundary contraction bond dim for computing energy\n",
    "        compute_energy_every=10,\n",
    "        compute_energy_per_site=True,\n",
    "        keep_best=True,\n",
    "    )\n",
    "    # ordering = tuple(su.ordering()) + tuple(reversed(su.ordering())) # second_order_reflect ordering\n",
    "\n",
    "    steps = depth * len(tau_list)\n",
    "\n",
    "    #Manually construct the imaginary time evolution circuit, may contain bugs!!\n",
    "\n",
    "    if init_state is None:\n",
    "        if rand_init:\n",
    "            psi0 = qtn.PEPS.rand(Lx, Ly, bond_dim=max_bond,\n",
    "                                 seed=1)  # How to choose the seed?\n",
    "            psi0 = peps2circpsi(psi0, Lx, Ly)\n",
    "            circ = Circuit(Lx * Ly, psi0=psi0, tags=['ROUND_0'])\n",
    "        else:\n",
    "            circ = Circuit(Lx * Ly, tags=['ROUND_0'])\n",
    "    else:\n",
    "        psi0 = peps2circpsi(init_state, Lx, Ly)\n",
    "        circ = Circuit(Lx * Ly, psi0=psi0, tags=['ROUND_0'])\n",
    "    # print(circ.psi)\n",
    "\n",
    "    for tau in tau_list:\n",
    "        for r in range(depth):\n",
    "            if not trotterization:\n",
    "                if second_order_reflect:\n",
    "                    for where in tuple(su.ordering()) + tuple(\n",
    "                            reversed(su.ordering())):\n",
    "                        qubits = (coor2index(*where[0], Lx, Ly),\n",
    "                                  coor2index(*where[1], Lx, Ly))\n",
    "                        U = ham.get_gate_expm(where, -tau / factor)\n",
    "                        # print(np.linalg.eig(U))\n",
    "                        # mygate = parse_to_gate(U,*qubits,gate_round=1)\n",
    "                        # print(mygate)\n",
    "                        circ.apply_gate(U,\n",
    "                                        *qubits,\n",
    "                                        gate_round=r +\n",
    "                                        depth * tau_list.index(tau),\n",
    "                                        parametrize=None,\n",
    "                                        params=tau,\n",
    "                                        contract='split-gate')\n",
    "                else:\n",
    "                    for where in tuple(su.ordering()):\n",
    "                        qubits = (coor2index(*where[0], Lx, Ly),\n",
    "                                  coor2index(*where[1], Lx, Ly))\n",
    "                        U = ham.get_gate_expm(where, -tau)\n",
    "                        # print(np.linalg.eig(U))\n",
    "                        # mygate = parse_to_gate(U,*qubits,gate_round=1)\n",
    "                        # print(mygate)\n",
    "                        circ.apply_gate(U,\n",
    "                                        *qubits,\n",
    "                                        gate_round=r +\n",
    "                                        depth * tau_list.index(tau),\n",
    "                                        parametrize=None,\n",
    "                                        params=tau,\n",
    "                                        contract='split-gate')\n",
    "            else:\n",
    "                XX = np.kron(qu.pauli('X'), qu.pauli('X'))\n",
    "                YY = np.kron(qu.pauli('Y'), qu.pauli('Y'))\n",
    "                ZZ = np.kron(qu.pauli('Z'), qu.pauli('Z'))\n",
    "                import scipy.linalg as la\n",
    "                for gate_matrix in [XX, YY, ZZ]:\n",
    "                    for where in tuple(su.ordering()):\n",
    "                        qubits = (coor2index(*where[0], Lx, Ly),\n",
    "                                  coor2index(*where[1], Lx, Ly))\n",
    "                        U = la.expm(-1 * gate_matrix * tau)\n",
    "                        circ.apply_gate(U,\n",
    "                                        *qubits,\n",
    "                                        gate_round=r +\n",
    "                                        depth * tau_list.index(tau),\n",
    "                                        parametrize=None,\n",
    "                                        params=tau,\n",
    "                                        contract='split-gate')\n",
    "\n",
    "                    # print(np.linalg.eig(U))\n",
    "                    # mygate = parse_to_gate(U,*qubits,gate_round=1)\n",
    "                    # print(mygate)\n",
    "                    # circ.apply_gate(U, *qubits, gate_round=r+depth*tau_list.index(tau),\n",
    "                    #                 parametrize=None,params=tau,contract='split-gate')\n",
    "\n",
    "    psi_circ = circ.psi\n",
    "    if plot_circ:\n",
    "        psi_circ.draw(show_tags=False,\n",
    "                      color=['PSI0', 'ROUND_0', f'ROUND_{steps-1}'])\n",
    "    if gpu:\n",
    "        print('Using GPU')\n",
    "        psi_circ.apply_to_arrays(to_backend)\n",
    "        print('Done')\n",
    "\n",
    "    final_bp_peps, peps_list = bpsu_peps(\n",
    "        psi_circ,\n",
    "        steps=steps,\n",
    "        chi=max_bond,\n",
    "        final_max_bond=final_max_bond,\n",
    "        plot=plot_intermediate,\n",
    "        compute_exact=False,\n",
    "        progbar=progbar,\n",
    "        lazy=lazy,\n",
    "        tol=tol,\n",
    "        cutoff=cutoff,\n",
    "        max_iteration=max_iteration,\n",
    "        damping=damping,\n",
    "    )\n",
    "\n",
    "    def compute_energy(circpsi):\n",
    "        circ_peps = circpsi2peps(circpsi, Lx, Ly)\n",
    "        if gpu:\n",
    "            ham.apply_to_arrays(to_backend)\n",
    "        energy = circ_peps.compute_local_expectation(\n",
    "            ham.terms,\n",
    "            max_bond=32,\n",
    "            normalized=True,\n",
    "        )\n",
    "        return energy / (Lx * Ly)\n",
    "\n",
    "    def reindex_circpsi_(psi):\n",
    "        outer_inds = psi.outer_inds()\n",
    "        site_inds = psi.site_inds\n",
    "        # combine outer_inds and site_inds into a dictionary\n",
    "        inds_dict = dict(zip(outer_inds, site_inds))\n",
    "        # reindex the psi into PEPS outer indices\n",
    "        psi.reindex_(inds_dict)\n",
    "\n",
    "    Final_energy = compute_energy(final_bp_peps)\n",
    "    print(f'Final energy = {Final_energy}')\n",
    "\n",
    "    energy_list = []\n",
    "    step_list = []\n",
    "\n",
    "    for i in range(len(peps_list)):\n",
    "        # compute energy every \"compute_energy_every\" steps\n",
    "        if (i + 1) % compute_energy_every == 0:\n",
    "            reindex_circpsi_(peps_list[i])\n",
    "            energy_list.append(compute_energy(peps_list[i]))\n",
    "            step_list.append(i + 1)\n",
    "\n",
    "    return Final_energy, final_bp_peps, energy_list, step_list, peps_list\n",
    "\n",
    "\n",
    "def get_gate_su(j):\n",
    "    \"\"\"\n",
    "        Here all the Hamiltonian terms in Heisenberg model are real operators. (Sy*Sy->real matrix)\n",
    "        The final matrix has shape (4,4) and is not in tensor product form.\n",
    "    \"\"\"\n",
    "    sx = np.array([[0, 1], [1, 0]]) * .5\n",
    "    sy = np.array([[0, -1], [1, 0]]) * 1j * .5\n",
    "    sz = np.array([[1, 0], [0, -1]]) * .5\n",
    "    try:\n",
    "        jx, jy, jz = j\n",
    "    except TypeError:\n",
    "        j = j, j, j\n",
    "    data = np.zeros((4, 4))\n",
    "    for coeff, op in zip(j, [sx, sy, sz]):\n",
    "        data += coeff * np.kron(op, op).real\n",
    "    return data\n",
    "\n",
    "\n",
    "def run_BPSU_ham(depth,\n",
    "                 Lx,\n",
    "                 Ly,\n",
    "                 ham,\n",
    "                 tau_list,\n",
    "                 init_state=None,\n",
    "                 trotterization=False,\n",
    "                 second_order_reflect=False,\n",
    "                 factor=2.0,\n",
    "                 max_bond=32,\n",
    "                 final_max_bond=2,\n",
    "                 plot_circ=False,\n",
    "                 progbar=False,\n",
    "                 lazy=False,\n",
    "                 tol=5e-6,\n",
    "                 cutoff=5e-6,\n",
    "                 max_iteration=1000,\n",
    "                 damping=0.0,\n",
    "                 plot_intermediate=False,\n",
    "                 rand_init=False,\n",
    "                 gpu=False,\n",
    "                 compute_energy_every=10):\n",
    "\n",
    "    psi_su = qtn.PEPS.rand(Lx, Ly, bond_dim=max_bond, seed=1)\n",
    "    su = qtn.SimpleUpdate(\n",
    "        psi_su,\n",
    "        ham,\n",
    "        chi=32,  # boundary contraction bond dim for computing energy\n",
    "        compute_energy_every=10,\n",
    "        compute_energy_per_site=True,\n",
    "        keep_best=True,\n",
    "    )\n",
    "\n",
    "    steps = depth * len(tau_list)\n",
    "\n",
    "    # Manually construct the imaginary time evolution circuit, may contain bugs!!\n",
    "\n",
    "    if init_state is None:\n",
    "        if rand_init:\n",
    "            psi0 = qtn.PEPS.rand(Lx, Ly, bond_dim=max_bond,\n",
    "                                 seed=1)  # How to choose the seed?\n",
    "            psi0 = peps2circpsi(psi0, Lx, Ly)\n",
    "            circ = Circuit(Lx * Ly, psi0=psi0, tags=['ROUND_0'])\n",
    "        else:\n",
    "            circ = Circuit(Lx * Ly, tags=['ROUND_0'])\n",
    "    else:\n",
    "        psi0 = peps2circpsi(init_state, Lx, Ly)\n",
    "        circ = Circuit(Lx * Ly, psi0=psi0, tags=['ROUND_0'])\n",
    "    # print(circ.psi)\n",
    "\n",
    "    for tau in tau_list:\n",
    "        for r in range(depth):\n",
    "            if not trotterization:\n",
    "                if second_order_reflect:\n",
    "                    for where in tuple(su.ordering()) + tuple(\n",
    "                            reversed(su.ordering())):\n",
    "                        qubits = (coor2index(*where[0], Lx, Ly),\n",
    "                                  coor2index(*where[1], Lx, Ly))\n",
    "                        U = ham.get_gate_expm(where, -tau / factor)\n",
    "                        # print(np.linalg.eig(U))\n",
    "                        # mygate = parse_to_gate(U,*qubits,gate_round=1)\n",
    "                        # print(mygate)\n",
    "                        circ.apply_gate(\n",
    "                            U,\n",
    "                            *qubits,\n",
    "                            gate_round=r + depth * tau_list.index(tau),\n",
    "                            parametrize=None,\n",
    "                            params=tau,\n",
    "                            contract='split-gate',\n",
    "                        )\n",
    "                else:\n",
    "                    for where in tuple(su.ordering()):\n",
    "                        qubits = (coor2index(*where[0], Lx, Ly),\n",
    "                                  coor2index(*where[1], Lx, Ly))\n",
    "                        U = ham.get_gate_expm(where, -tau)\n",
    "                        # print(np.linalg.eig(U))\n",
    "                        # mygate = parse_to_gate(U,*qubits,gate_round=1)\n",
    "                        # print(mygate)\n",
    "                        circ.apply_gate(U,\n",
    "                                        *qubits,\n",
    "                                        gate_round=r +\n",
    "                                        depth * tau_list.index(tau),\n",
    "                                        parametrize=None,\n",
    "                                        params=tau,\n",
    "                                        contract='split-gate')\n",
    "            else:\n",
    "                return NotImplementedError(\n",
    "                    'Trotterization not implemented for custom Hamiltonian')\n",
    "\n",
    "    psi_circ = circ.psi\n",
    "    if plot_circ:\n",
    "        psi_circ.draw(show_tags=False,\n",
    "                      color=['PSI0', 'ROUND_0', f'ROUND_{steps-1}'])\n",
    "    if gpu:\n",
    "        print('Using GPU')\n",
    "        psi_circ.apply_to_arrays(to_backend)\n",
    "        print('Done')\n",
    "\n",
    "    final_bp_psi, psi_list = bpsu_peps(\n",
    "        psi_circ,\n",
    "        steps=steps,\n",
    "        chi=max_bond,\n",
    "        final_max_bond=final_max_bond,\n",
    "        plot=plot_intermediate,\n",
    "        compute_exact=False,\n",
    "        progbar=progbar,\n",
    "        lazy=lazy,\n",
    "        tol=tol,\n",
    "        cutoff=cutoff,\n",
    "        max_iteration=max_iteration,\n",
    "        damping=damping,\n",
    "    )\n",
    "    final_bp_peps = circpsi2peps(final_bp_psi, Lx, Ly)\n",
    "    peps_list = [circpsi2peps(psi, Lx, Ly) for psi in psi_list]\n",
    "    return final_bp_peps, peps_list\n",
    "    # return final_bp_psi, circpsi2peps(final_bp_psi,Lx,Ly)\n",
    "\n",
    "    # def compute_energy(circpsi):\n",
    "    #     circ_peps = circpsi2peps(circpsi,Lx,Ly)\n",
    "    #     if gpu:\n",
    "    #         ham.apply_to_arrays(to_backend)\n",
    "    #     energy = circ_peps.compute_local_expectation(\n",
    "    #         ham.terms,\n",
    "    #         max_bond=32,\n",
    "    #         normalized=True,\n",
    "    #     )\n",
    "    #     return energy/(Lx*Ly)\n",
    "\n",
    "    # def reindex_circpsi_(psi):\n",
    "    #     outer_inds = psi.outer_inds()\n",
    "    #     site_inds = psi.site_inds\n",
    "    #     # combine outer_inds and site_inds into a dictionary\n",
    "    #     inds_dict = dict(zip(outer_inds, site_inds))\n",
    "    #     # reindex the psi into PEPS outer indices\n",
    "    #     psi.reindex_(inds_dict)\n",
    "\n",
    "    # Final_energy = compute_energy(final_bp_peps)\n",
    "    # print(f'Final energy = {Final_energy}')\n",
    "\n",
    "    # energy_list = []\n",
    "    # step_list = []\n",
    "\n",
    "    # for i in range(len(peps_list)):\n",
    "    #     # compute energy every \"compute_energy_every\" steps\n",
    "    #     if (i+1)%compute_energy_every == 0:\n",
    "    #         reindex_circpsi_(peps_list[i])\n",
    "    #         energy_list.append(compute_energy(peps_list[i]))\n",
    "    #         step_list.append(i+1)\n",
    "\n",
    "    # return Final_energy, final_bp_peps, energy_list, step_list, peps_list"
   ]
  },
  {
   "cell_type": "code",
   "execution_count": 4,
   "metadata": {},
   "outputs": [],
   "source": [
    "# # SimpleUpdate Heisenberg model\n",
    "# D=2 # Simple update initial PEPS bond dimension\n",
    "# j=(1,1,1)\n",
    "# g=0\n",
    "# Lx=Ly=4\n",
    "# tau_list=[0.5,0.1]\n",
    "# n_steps=50\n",
    "# # import torch\n",
    "\n",
    "# # if torch.cuda.is_available():\n",
    "# #     device = 'cuda'\n",
    "# # else:\n",
    "# #     device = 'cpu'\n",
    "\n",
    "# H2 = qu.ham_heis(n=2, j=j)\n",
    "# if g != 0:\n",
    "#     H1 = qu.ham_heis(n=1, b=(0,0,g))\n",
    "#     ham = qtn.LocalHam2D(Lx, Ly, H2=H2, H1=H1)\n",
    "# else:\n",
    "#     ham = qtn.LocalHam2D(Lx, Ly, H2=H2)\n",
    "# ham.apply_to_arrays(to_backend)\n",
    "# def fill_fn(shape):\n",
    "#     array = np.zeros(shape) # except for the first element being 1, all other elements are 0\n",
    "#     # shape is a tuple of unknown length, so we use *shape to unpack it\n",
    "#     zeros = np.zeros(len(shape))\n",
    "#     array[tuple(zeros.astype(int))] = 1\n",
    "#     return array"
   ]
  },
  {
   "cell_type": "code",
   "execution_count": 5,
   "metadata": {},
   "outputs": [],
   "source": [
    "# # D=2 -> D=2\n",
    "# init_peps = qtn.PEPS.rand(Lx, Ly, bond_dim=D,seed=1)\n",
    "# init_peps.apply_to_arrays(to_backend)\n",
    "# su_test = qtn.SimpleUpdate(\n",
    "#     init_peps,\n",
    "#     ham,\n",
    "#     D=2,\n",
    "#     chi=32,  # boundary contraction bond dim for computing energy\n",
    "#     compute_energy_every=5,\n",
    "#     compute_energy_per_site=True,\n",
    "#     keep_best=True,\n",
    "#     second_order_reflect=True,\n",
    "#     ordering=None,\n",
    "# )\n",
    "# for (ija, ijb), Tsval in su_test.gauges.items():\n",
    "#     Tsval.apply_to_arrays(to_backend)\n",
    "# tau_list_test = [1,0.5,0.1]\n",
    "# n_list = [50,50,50]\n",
    "# for i in range(len(tau_list_test)):\n",
    "#     su_test.evolve(n_list[i], tau=tau_list_test[i])"
   ]
  },
  {
   "cell_type": "code",
   "execution_count": 4,
   "metadata": {},
   "outputs": [
    {
     "name": "stderr",
     "output_type": "stream",
     "text": [
      "  0%|          | 0/10 [00:00<?, ?it/s]/home/sijingdu/anaconda3/envs/BPSU/lib/python3.11/site-packages/cotengra/hyperoptimizers/hyper.py:55: UserWarning: Couldn't find `optuna`, `baytune (btb)`, `chocolate`, `nevergrad` or `skopt` so will use completely random sampling in place of hyper-optimization.\n",
      "  warnings.warn(\n",
      "n=10, tau=0.5000, energy~-0.412155: 100%|##########| 10/10 [00:02<00:00,  3.67it/s]\n",
      "n=20, tau=0.2000, energy~-0.433905: 100%|##########| 10/10 [00:00<00:00, 15.86it/s]\n",
      "n=30, tau=0.0500, energy~-0.435801: 100%|##########| 10/10 [00:00<00:00, 16.68it/s]\n"
     ]
    }
   ],
   "source": [
    "# SimpleUpdate J1J2 model\n",
    "D = 2\n",
    "Lx, Ly = 4, 4\n",
    "\n",
    "J1 = 1.\n",
    "J2 = 0.5\n",
    "\n",
    "h2 = get_gate_su(1.)\n",
    "terms = dict()\n",
    "for i in range(Lx):\n",
    "    for j in range(Ly):\n",
    "        if j < Ly - 1:\n",
    "            where = (i, j), (i, j + 1)\n",
    "        terms[where] = h2\n",
    "        if i < Lx - 1:\n",
    "            where = (i, j), (i + 1, j)\n",
    "        terms[where] = h2\n",
    "\n",
    "terms_ = dict()\n",
    "for i in range(Lx):\n",
    "    for j in range(Ly):\n",
    "        if i + 1 < Lx and j + 1 < Ly:\n",
    "            where = (i, j), (i + 1, j + 1)\n",
    "            terms_[where] = h2 * J2\n",
    "            where = (i, j + 1), (i + 1, j)\n",
    "            terms_[where] = h2 * J2\n",
    "        # else:\n",
    "        #     ix1,ix2 = flatten(i,j,Ly),flatten((i+1)%Lx,(j+1)%Ly,Ly)\n",
    "        #     where = flat2site(min(ix1,ix2),Lx,Ly),flat2site(max(ix1,ix2),Lx,Ly)\n",
    "        #     terms_[where] = h2 * J2\n",
    "\n",
    "        #     ix1,ix2 = flatten(i,(j+1)%Ly,Ly),flatten((i+1)%Lx,j,Ly)\n",
    "        #     where = flat2site(min(ix1,ix2),Lx,Ly),flat2site(max(ix1,ix2),Lx,Ly)\n",
    "        #     terms_[where] = h2 * J2\n",
    "terms.update(terms_)\n",
    "ham = qtn.LocalHam2D(Lx, Ly, terms)\n",
    "# ham.apply_to_arrays(to_backend)\n",
    "# D=2 -> D=2\n",
    "init_peps = qtn.PEPS.rand(Lx, Ly, bond_dim=D, seed=1)\n",
    "# init_peps.apply_to_arrays(to_backend)\n",
    "\n",
    "su = qtn.SimpleUpdate(\n",
    "    init_peps,\n",
    "    ham,\n",
    "    D=2,\n",
    "    chi=32,  # boundary contraction bond dim for computing energy\n",
    "    compute_energy_every=5,\n",
    "    compute_energy_per_site=True,\n",
    "    keep_best=True,\n",
    "    second_order_reflect=True,\n",
    "    ordering=None,\n",
    ")\n",
    "# for (ija, ijb), Tsval in su.gauges.items():\n",
    "#     Tsval.apply_to_arrays(to_backend)\n",
    "\n",
    "tau_list = [0.5, 0.2, 0.05]\n",
    "n_list = [10, 10, 10]\n",
    "for i in range(len(tau_list)):\n",
    "    su.evolve(n_list[i], tau=tau_list[i])"
   ]
  },
  {
   "cell_type": "code",
   "execution_count": 113,
   "metadata": {},
   "outputs": [
    {
     "data": {
      "text/plain": [
       "'random'"
      ]
     },
     "execution_count": 113,
     "metadata": {},
     "output_type": "execute_result"
    }
   ],
   "source": [
    "su.long_range_path_sequence"
   ]
  },
  {
   "cell_type": "code",
   "execution_count": 5,
   "metadata": {},
   "outputs": [
    {
     "data": {
      "text/html": [
       "<samp style='font-size: 12px;'><details><summary><b style=\"color: #cde19a;\">PEPS</b>(tensors=16, indices=40, Lx=4, Ly=4, max_bond=2)</summary><samp style='font-size: 12px;'><details><summary><b style=\"color: #e55471;\">Tensor</b>(shape=(<b style=\"color: #828fdd;\">2</b>, <b style=\"color: #828fdd;\">2</b>, <b style=\"color: #828fdd;\">2</b>), inds=[<b style=\"color: #8be5a7;\">_fb8aedAAAAA</b>, <b style=\"color: #d3aa87;\">_fb8aedAAAAB</b>, <b style=\"color: #5fce5e;\">k0,0</b>], tags={<b style=\"color: #8b77de;\">I0,0</b>, <b style=\"color: #d44388;\">X0</b>, <b style=\"color: #b1d42e;\">Y0</b>}),</summary>backend=<b style=\"color: #7fdd73;\">numpy</b>, dtype=<b style=\"color: #75d2c6;\">float64</b>, data=array([[[-0.61915461, -0.75953382],\n",
       "        [ 0.50088331, -0.40233322]],\n",
       "\n",
       "       [[ 0.40589749, -0.31491544],\n",
       "        [ 0.03445792, -0.02524366]]])</details></samp><samp style='font-size: 12px;'><details><summary><b style=\"color: #e55471;\">Tensor</b>(shape=(<b style=\"color: #828fdd;\">2</b>, <b style=\"color: #828fdd;\">2</b>, <b style=\"color: #828fdd;\">2</b>, <b style=\"color: #828fdd;\">2</b>), inds=[<b style=\"color: #42d04d;\">_fb8aedAAAAC</b>, <b style=\"color: #e22e48;\">_fb8aedAAAAD</b>, <b style=\"color: #d3aa87;\">_fb8aedAAAAB</b>, <b style=\"color: #de9a98;\">k0,1</b>], tags={<b style=\"color: #92d399;\">I0,1</b>, <b style=\"color: #d44388;\">X0</b>, <b style=\"color: #6c45d0;\">Y1</b>}),</summary>backend=<b style=\"color: #7fdd73;\">numpy</b>, dtype=<b style=\"color: #75d2c6;\">float64</b>, data=array([[[[ 0.71700487, -0.53780298],\n",
       "         [ 0.38515155,  0.49926741]],\n",
       "\n",
       "        [[ 0.31222693,  0.36884271],\n",
       "         [-0.07647502, -0.08041686]]],\n",
       "\n",
       "\n",
       "       [[[ 0.23844454,  0.35909465],\n",
       "         [ 0.03533871,  0.05793801]],\n",
       "\n",
       "        [[ 0.0179527 ,  0.02863792],\n",
       "         [-0.01145081, -0.01678451]]]])</details></samp><samp style='font-size: 12px;'><details><summary><b style=\"color: #e55471;\">Tensor</b>(shape=(<b style=\"color: #828fdd;\">2</b>, <b style=\"color: #828fdd;\">2</b>, <b style=\"color: #828fdd;\">2</b>, <b style=\"color: #828fdd;\">2</b>), inds=[<b style=\"color: #7bde70;\">_fb8aedAAAAE</b>, <b style=\"color: #9c8cdb;\">_fb8aedAAAAF</b>, <b style=\"color: #e22e48;\">_fb8aedAAAAD</b>, <b style=\"color: #50d0ac;\">k0,2</b>], tags={<b style=\"color: #73d85d;\">I0,2</b>, <b style=\"color: #d44388;\">X0</b>, <b style=\"color: #3fdd7b;\">Y2</b>}),</summary>backend=<b style=\"color: #7fdd73;\">numpy</b>, dtype=<b style=\"color: #75d2c6;\">float64</b>, data=array([[[[-5.91483487e-01, -6.97361786e-01],\n",
       "         [ 3.72438204e-01, -3.24432864e-01]],\n",
       "\n",
       "        [[ 4.57640787e-01, -3.88181542e-01],\n",
       "         [-3.23379249e-02,  3.07002363e-02]]],\n",
       "\n",
       "\n",
       "       [[[ 3.44327948e-01, -2.74088210e-01],\n",
       "         [ 2.12630907e-02, -1.89787520e-02]],\n",
       "\n",
       "        [[ 3.50534317e-02, -2.79421246e-02],\n",
       "         [-1.15674721e-04, -1.80852628e-04]]]])</details></samp><samp style='font-size: 12px;'><details><summary><b style=\"color: #e55471;\">Tensor</b>(shape=(<b style=\"color: #828fdd;\">2</b>, <b style=\"color: #828fdd;\">2</b>, <b style=\"color: #828fdd;\">2</b>), inds=[<b style=\"color: #d471b7;\">_fb8aedAAAAG</b>, <b style=\"color: #9c8cdb;\">_fb8aedAAAAF</b>, <b style=\"color: #69d040;\">k0,3</b>], tags={<b style=\"color: #deb79b;\">I0,3</b>, <b style=\"color: #d44388;\">X0</b>, <b style=\"color: #63d5a7;\">Y3</b>}),</summary>backend=<b style=\"color: #7fdd73;\">numpy</b>, dtype=<b style=\"color: #75d2c6;\">float64</b>, data=array([[[-0.74938679,  0.61103055],\n",
       "        [-0.38291856, -0.46603548]],\n",
       "\n",
       "       [[-0.3708385 , -0.44977279],\n",
       "        [ 0.00844389,  0.01032611]]])</details></samp><samp style='font-size: 12px;'><details><summary><b style=\"color: #e55471;\">Tensor</b>(shape=(<b style=\"color: #828fdd;\">2</b>, <b style=\"color: #828fdd;\">2</b>, <b style=\"color: #828fdd;\">2</b>, <b style=\"color: #828fdd;\">2</b>), inds=[<b style=\"color: #6cdb44;\">_fb8aedAAAAH</b>, <b style=\"color: #43a5e4;\">_fb8aedAAAAI</b>, <b style=\"color: #8be5a7;\">_fb8aedAAAAA</b>, <b style=\"color: #84ce75;\">k1,0</b>], tags={<b style=\"color: #c28de0;\">I1,0</b>, <b style=\"color: #6fe251;\">X1</b>, <b style=\"color: #b1d42e;\">Y0</b>}),</summary>backend=<b style=\"color: #7fdd73;\">numpy</b>, dtype=<b style=\"color: #75d2c6;\">float64</b>, data=array([[[[ 0.79808791, -0.46589496],\n",
       "         [ 0.27431394,  0.4245384 ]],\n",
       "\n",
       "        [[ 0.22743401,  0.40846204],\n",
       "         [-0.0121274 , -0.02834641]]],\n",
       "\n",
       "\n",
       "       [[[ 0.27641747,  0.46916429],\n",
       "         [-0.06001727, -0.07925581]],\n",
       "\n",
       "        [[ 0.02655016,  0.0510765 ],\n",
       "         [-0.00281748, -0.00456319]]]])</details></samp><samp style='font-size: 12px;'><details><summary><b style=\"color: #e55471;\">Tensor</b>(shape=(<b style=\"color: #828fdd;\">2</b>, <b style=\"color: #828fdd;\">2</b>, <b style=\"color: #828fdd;\">2</b>, <b style=\"color: #828fdd;\">2</b>, <b style=\"color: #828fdd;\">2</b>), inds=[<b style=\"color: #dfaa76;\">_fb8aedAAAAJ</b>, <b style=\"color: #cd8f67;\">_fb8aedAAAAK</b>, <b style=\"color: #42d04d;\">_fb8aedAAAAC</b>, <b style=\"color: #43a5e4;\">_fb8aedAAAAI</b>, <b style=\"color: #d29586;\">k1,1</b>], tags={<b style=\"color: #d67b97;\">I1,1</b>, <b style=\"color: #6fe251;\">X1</b>, <b style=\"color: #6c45d0;\">Y1</b>}),</summary>backend=<b style=\"color: #7fdd73;\">numpy</b>, dtype=<b style=\"color: #75d2c6;\">float64</b>, data=array([[[[[ 4.39719852e-01,  7.67817963e-01],\n",
       "          [-4.07778773e-01,  2.29719862e-01]],\n",
       "\n",
       "         [[-3.72982113e-01,  2.24329851e-01],\n",
       "          [ 1.71358032e-02, -9.82501391e-03]]],\n",
       "\n",
       "\n",
       "        [[[-3.95728863e-01,  2.30865068e-01],\n",
       "          [ 1.34978274e-02, -6.98470169e-03]],\n",
       "\n",
       "         [[ 3.71405812e-02, -2.38568441e-02],\n",
       "          [-2.38055838e-03,  1.50043428e-03]]]],\n",
       "\n",
       "\n",
       "\n",
       "       [[[[-4.20492434e-01,  2.33269264e-01],\n",
       "          [-5.08824746e-02,  2.51104157e-02]],\n",
       "\n",
       "         [[ 4.19804117e-03, -5.27301046e-03],\n",
       "          [ 7.84390314e-03, -4.52614135e-03]]],\n",
       "\n",
       "\n",
       "        [[[-1.45018162e-02,  8.38530581e-03],\n",
       "          [ 6.52201921e-04, -4.22868274e-04]],\n",
       "\n",
       "         [[ 4.12509807e-03, -2.36575403e-03],\n",
       "          [-2.69514784e-04,  1.50728682e-04]]]]])</details></samp><samp style='font-size: 12px;'><details><summary><b style=\"color: #e55471;\">Tensor</b>(shape=(<b style=\"color: #828fdd;\">2</b>, <b style=\"color: #828fdd;\">2</b>, <b style=\"color: #828fdd;\">2</b>, <b style=\"color: #828fdd;\">2</b>, <b style=\"color: #828fdd;\">2</b>), inds=[<b style=\"color: #dc3ed0;\">_fb8aedAAAAL</b>, <b style=\"color: #c3d677;\">_fb8aedAAAAM</b>, <b style=\"color: #7bde70;\">_fb8aedAAAAE</b>, <b style=\"color: #cd8f67;\">_fb8aedAAAAK</b>, <b style=\"color: #dd4dba;\">k1,2</b>], tags={<b style=\"color: #da64ad;\">I1,2</b>, <b style=\"color: #6fe251;\">X1</b>, <b style=\"color: #3fdd7b;\">Y2</b>}),</summary>backend=<b style=\"color: #7fdd73;\">numpy</b>, dtype=<b style=\"color: #75d2c6;\">float64</b>, data=array([[[[[ 7.48481456e-01, -4.89157822e-01],\n",
       "          [ 2.44502878e-01,  3.87365970e-01]],\n",
       "\n",
       "         [[ 2.49767262e-01,  3.59512403e-01],\n",
       "          [ 4.49198453e-04, -6.98018417e-03]]],\n",
       "\n",
       "\n",
       "        [[[ 2.53755842e-01,  3.78781728e-01],\n",
       "          [ 5.85870732e-03,  1.08973036e-02]],\n",
       "\n",
       "         [[-3.57232098e-02, -4.77873043e-02],\n",
       "          [ 1.63637983e-03,  2.37897268e-03]]]],\n",
       "\n",
       "\n",
       "\n",
       "       [[[[ 2.56922346e-01,  3.94876668e-01],\n",
       "          [ 2.52575945e-02,  4.25710513e-02]],\n",
       "\n",
       "         [[-2.49255568e-02, -3.30754721e-02],\n",
       "          [ 2.30480327e-04,  4.04464929e-04]]],\n",
       "\n",
       "\n",
       "        [[[-2.54576012e-03, -5.60200128e-03],\n",
       "          [-1.15932690e-03, -1.74899895e-03]],\n",
       "\n",
       "         [[-1.20609025e-04, -2.50823409e-04],\n",
       "          [ 6.61082031e-05,  8.61983473e-05]]]]])</details></samp><samp style='font-size: 12px;'><details><summary><b style=\"color: #e55471;\">Tensor</b>(shape=(<b style=\"color: #828fdd;\">2</b>, <b style=\"color: #828fdd;\">2</b>, <b style=\"color: #828fdd;\">2</b>, <b style=\"color: #828fdd;\">2</b>), inds=[<b style=\"color: #7edf97;\">_fb8aedAAAAN</b>, <b style=\"color: #d471b7;\">_fb8aedAAAAG</b>, <b style=\"color: #c3d677;\">_fb8aedAAAAM</b>, <b style=\"color: #afe152;\">k1,3</b>], tags={<b style=\"color: #acd080;\">I1,3</b>, <b style=\"color: #6fe251;\">X1</b>, <b style=\"color: #63d5a7;\">Y3</b>}),</summary>backend=<b style=\"color: #7fdd73;\">numpy</b>, dtype=<b style=\"color: #75d2c6;\">float64</b>, data=array([[[[-0.55113438, -0.72597085],\n",
       "         [ 0.36929693, -0.2708855 ]],\n",
       "\n",
       "        [[ 0.46109063, -0.35545406],\n",
       "         [ 0.004189  , -0.00402783]]],\n",
       "\n",
       "\n",
       "       [[[ 0.40162564, -0.3079464 ],\n",
       "         [ 0.03572975, -0.02537072]],\n",
       "\n",
       "        [[-0.025777  ,  0.02223627],\n",
       "         [-0.00230591,  0.00165724]]]])</details></samp><samp style='font-size: 12px;'><details><summary><b style=\"color: #e55471;\">Tensor</b>(shape=(<b style=\"color: #828fdd;\">2</b>, <b style=\"color: #828fdd;\">2</b>, <b style=\"color: #828fdd;\">2</b>, <b style=\"color: #828fdd;\">2</b>), inds=[<b style=\"color: #47d443;\">_fb8aedAAAAO</b>, <b style=\"color: #52de3a;\">_fb8aedAAAAP</b>, <b style=\"color: #6cdb44;\">_fb8aedAAAAH</b>, <b style=\"color: #aa87d0;\">k2,0</b>], tags={<b style=\"color: #d472d0;\">I2,0</b>, <b style=\"color: #c654d5;\">X2</b>, <b style=\"color: #b1d42e;\">Y0</b>}),</summary>backend=<b style=\"color: #7fdd73;\">numpy</b>, dtype=<b style=\"color: #75d2c6;\">float64</b>, data=array([[[[-0.45648689, -0.78409943],\n",
       "         [ 0.48074981, -0.27693764]],\n",
       "\n",
       "        [[ 0.39045345, -0.20969301],\n",
       "         [ 0.03379837, -0.01597439]]],\n",
       "\n",
       "\n",
       "       [[[ 0.48103412, -0.27568729],\n",
       "         [-0.00549903,  0.00427631]],\n",
       "\n",
       "        [[ 0.04466154, -0.02175518],\n",
       "         [-0.00211123,  0.00120107]]]])</details></samp><samp style='font-size: 12px;'><details><summary><b style=\"color: #e55471;\">Tensor</b>(shape=(<b style=\"color: #828fdd;\">2</b>, <b style=\"color: #828fdd;\">2</b>, <b style=\"color: #828fdd;\">2</b>, <b style=\"color: #828fdd;\">2</b>, <b style=\"color: #828fdd;\">2</b>), inds=[<b style=\"color: #94d3ae;\">_fb8aedAAAAQ</b>, <b style=\"color: #dec595;\">_fb8aedAAAAR</b>, <b style=\"color: #dfaa76;\">_fb8aedAAAAJ</b>, <b style=\"color: #52de3a;\">_fb8aedAAAAP</b>, <b style=\"color: #e1962d;\">k2,1</b>], tags={<b style=\"color: #77df7d;\">I2,1</b>, <b style=\"color: #c654d5;\">X2</b>, <b style=\"color: #6c45d0;\">Y1</b>}),</summary>backend=<b style=\"color: #7fdd73;\">numpy</b>, dtype=<b style=\"color: #75d2c6;\">float64</b>, data=array([[[[[-8.02431248e-01,  4.00511989e-01],\n",
       "          [-2.01880536e-01, -3.99449839e-01]],\n",
       "\n",
       "         [[-2.18172069e-01, -4.32053314e-01],\n",
       "          [ 1.81393816e-03,  5.16118365e-03]]],\n",
       "\n",
       "\n",
       "        [[[-2.11710881e-01, -4.11103729e-01],\n",
       "          [ 6.30250844e-03,  1.14702017e-02]],\n",
       "\n",
       "         [[ 1.04616222e-02,  2.18891183e-02],\n",
       "          [-6.32018793e-04, -1.21001225e-03]]]],\n",
       "\n",
       "\n",
       "\n",
       "       [[[[-1.90809931e-01, -3.85328223e-01],\n",
       "          [-4.13389917e-03, -3.59195154e-03]],\n",
       "\n",
       "         [[-6.34407389e-03, -1.27541452e-02],\n",
       "          [-9.58430510e-04, -1.95039250e-03]]],\n",
       "\n",
       "\n",
       "        [[[ 1.47576837e-03,  9.28008484e-03],\n",
       "          [-1.80433844e-03, -3.50713366e-03]],\n",
       "\n",
       "         [[-1.47572008e-03, -3.01296366e-03],\n",
       "          [ 7.07706494e-05,  1.41368854e-04]]]]])</details></samp><samp style='font-size: 12px;'><details><summary><b style=\"color: #e55471;\">Tensor</b>(shape=(<b style=\"color: #828fdd;\">2</b>, <b style=\"color: #828fdd;\">2</b>, <b style=\"color: #828fdd;\">2</b>, <b style=\"color: #828fdd;\">2</b>, <b style=\"color: #828fdd;\">2</b>), inds=[<b style=\"color: #cfa63a;\">_fb8aedAAAAS</b>, <b style=\"color: #82ccd7;\">_fb8aedAAAAT</b>, <b style=\"color: #dc3ed0;\">_fb8aedAAAAL</b>, <b style=\"color: #dec595;\">_fb8aedAAAAR</b>, <b style=\"color: #936adf;\">k2,2</b>], tags={<b style=\"color: #ceb179;\">I2,2</b>, <b style=\"color: #c654d5;\">X2</b>, <b style=\"color: #3fdd7b;\">Y2</b>}),</summary>backend=<b style=\"color: #7fdd73;\">numpy</b>, dtype=<b style=\"color: #75d2c6;\">float64</b>, data=array([[[[[-4.69191260e-01, -7.54024547e-01],\n",
       "          [ 3.95956849e-01, -2.31719488e-01]],\n",
       "\n",
       "         [[ 4.01038148e-01, -2.50415494e-01],\n",
       "          [ 3.04173440e-02, -1.60590815e-02]]],\n",
       "\n",
       "\n",
       "        [[[ 3.62248869e-01, -2.28668019e-01],\n",
       "          [ 1.93559410e-02, -8.03235755e-03]],\n",
       "\n",
       "         [[-2.08707616e-02,  1.45090838e-02],\n",
       "          [-5.32406449e-03,  3.12143131e-03]]]],\n",
       "\n",
       "\n",
       "\n",
       "       [[[[ 4.04684841e-01, -2.50142252e-01],\n",
       "          [ 4.66605922e-02, -2.30092186e-02]],\n",
       "\n",
       "         [[-2.38514573e-02,  1.60937546e-02],\n",
       "          [-5.66038664e-03,  3.24139352e-03]]],\n",
       "\n",
       "\n",
       "        [[[-1.15529049e-02,  9.16076487e-03],\n",
       "          [-7.92260550e-03,  4.63639868e-03]],\n",
       "\n",
       "         [[-7.62700128e-04,  4.39114420e-04],\n",
       "          [ 4.60906260e-04, -2.83748824e-04]]]]])</details></samp><samp style='font-size: 12px;'><details><summary><b style=\"color: #e55471;\">Tensor</b>(shape=(<b style=\"color: #828fdd;\">2</b>, <b style=\"color: #828fdd;\">2</b>, <b style=\"color: #828fdd;\">2</b>, <b style=\"color: #828fdd;\">2</b>), inds=[<b style=\"color: #5adc35;\">_fb8aedAAAAU</b>, <b style=\"color: #7edf97;\">_fb8aedAAAAN</b>, <b style=\"color: #82ccd7;\">_fb8aedAAAAT</b>, <b style=\"color: #8541d1;\">k2,3</b>], tags={<b style=\"color: #dfd34b;\">I2,3</b>, <b style=\"color: #c654d5;\">X2</b>, <b style=\"color: #63d5a7;\">Y3</b>}),</summary>backend=<b style=\"color: #7fdd73;\">numpy</b>, dtype=<b style=\"color: #75d2c6;\">float64</b>, data=array([[[[-0.75330161,  0.51694153],\n",
       "         [-0.23509741, -0.3576795 ]],\n",
       "\n",
       "        [[-0.29485675, -0.41215382],\n",
       "         [-0.00166006,  0.0011007 ]]],\n",
       "\n",
       "\n",
       "       [[[-0.34290544, -0.49332493],\n",
       "         [-0.0206242 , -0.03048663]],\n",
       "\n",
       "        [[ 0.02457563,  0.03341239],\n",
       "         [-0.00164027, -0.00229838]]]])</details></samp><samp style='font-size: 12px;'><details><summary><b style=\"color: #e55471;\">Tensor</b>(shape=(<b style=\"color: #828fdd;\">2</b>, <b style=\"color: #828fdd;\">2</b>, <b style=\"color: #828fdd;\">2</b>), inds=[<b style=\"color: #d3919c;\">_fb8aedAAAAV</b>, <b style=\"color: #47d443;\">_fb8aedAAAAO</b>, <b style=\"color: #42d58f;\">k3,0</b>], tags={<b style=\"color: #57ccd3;\">I3,0</b>, <b style=\"color: #e5db50;\">X3</b>, <b style=\"color: #b1d42e;\">Y0</b>}),</summary>backend=<b style=\"color: #7fdd73;\">numpy</b>, dtype=<b style=\"color: #75d2c6;\">float64</b>, data=array([[[ 0.85702586, -0.45694766],\n",
       "        [ 0.26381631,  0.49009865]],\n",
       "\n",
       "       [[-0.29350687, -0.54721326],\n",
       "        [ 0.00377488,  0.00749376]]])</details></samp><samp style='font-size: 12px;'><details><summary><b style=\"color: #e55471;\">Tensor</b>(shape=(<b style=\"color: #828fdd;\">2</b>, <b style=\"color: #828fdd;\">2</b>, <b style=\"color: #828fdd;\">2</b>, <b style=\"color: #828fdd;\">2</b>), inds=[<b style=\"color: #e47978;\">_fb8aedAAAAW</b>, <b style=\"color: #94d3ae;\">_fb8aedAAAAQ</b>, <b style=\"color: #d3919c;\">_fb8aedAAAAV</b>, <b style=\"color: #cf3298;\">k3,1</b>], tags={<b style=\"color: #98d482;\">I3,1</b>, <b style=\"color: #e5db50;\">X3</b>, <b style=\"color: #6c45d0;\">Y1</b>}),</summary>backend=<b style=\"color: #7fdd73;\">numpy</b>, dtype=<b style=\"color: #75d2c6;\">float64</b>, data=array([[[[-0.44305362, -0.79626577],\n",
       "         [-0.53928878,  0.299377  ]],\n",
       "\n",
       "        [[ 0.37997213, -0.19141804],\n",
       "         [-0.05858236,  0.02537737]]],\n",
       "\n",
       "\n",
       "       [[[ 0.4247404 , -0.2464883 ],\n",
       "         [ 0.03291499, -0.01998208]],\n",
       "\n",
       "        [[ 0.01142124, -0.00472563],\n",
       "         [ 0.00695147, -0.00378662]]]])</details></samp><samp style='font-size: 12px;'><details><summary><b style=\"color: #e55471;\">Tensor</b>(shape=(<b style=\"color: #828fdd;\">2</b>, <b style=\"color: #828fdd;\">2</b>, <b style=\"color: #828fdd;\">2</b>, <b style=\"color: #828fdd;\">2</b>), inds=[<b style=\"color: #6856cc;\">_fb8aedAAAAX</b>, <b style=\"color: #cfa63a;\">_fb8aedAAAAS</b>, <b style=\"color: #e47978;\">_fb8aedAAAAW</b>, <b style=\"color: #5b8bd1;\">k3,2</b>], tags={<b style=\"color: #da8d92;\">I3,2</b>, <b style=\"color: #e5db50;\">X3</b>, <b style=\"color: #3fdd7b;\">Y2</b>}),</summary>backend=<b style=\"color: #7fdd73;\">numpy</b>, dtype=<b style=\"color: #75d2c6;\">float64</b>, data=array([[[[ 7.78716786e-01, -4.77844329e-01],\n",
       "         [ 2.55221967e-01,  4.21030620e-01]],\n",
       "\n",
       "        [[ 2.50938273e-01,  4.07411662e-01],\n",
       "         [ 1.02691575e-02,  1.46068663e-02]]],\n",
       "\n",
       "\n",
       "       [[[-3.03755277e-01, -4.89516966e-01],\n",
       "         [ 3.95372920e-04,  1.47982938e-03]],\n",
       "\n",
       "        [[ 9.86006095e-03,  1.81250950e-02],\n",
       "         [-1.92886816e-03, -3.18807357e-03]]]])</details></samp><samp style='font-size: 12px;'><details><summary><b style=\"color: #e55471;\">Tensor</b>(shape=(<b style=\"color: #828fdd;\">2</b>, <b style=\"color: #828fdd;\">2</b>, <b style=\"color: #828fdd;\">2</b>), inds=[<b style=\"color: #5adc35;\">_fb8aedAAAAU</b>, <b style=\"color: #6856cc;\">_fb8aedAAAAX</b>, <b style=\"color: #5daed7;\">k3,3</b>], tags={<b style=\"color: #7fd635;\">I3,3</b>, <b style=\"color: #e5db50;\">X3</b>, <b style=\"color: #63d5a7;\">Y3</b>}),</summary>backend=<b style=\"color: #7fdd73;\">numpy</b>, dtype=<b style=\"color: #75d2c6;\">float64</b>, data=array([[[ 0.5470917 ,  0.80195388],\n",
       "        [ 0.47819108, -0.32160272]],\n",
       "\n",
       "       [[-0.49976257,  0.33795145],\n",
       "        [ 0.01298041, -0.00852047]]])</details></samp></details></samp>"
      ],
      "text/plain": [
       "PEPS(tensors=16, indices=40, Lx=4, Ly=4, max_bond=2)"
      ]
     },
     "execution_count": 5,
     "metadata": {},
     "output_type": "execute_result"
    }
   ],
   "source": [
    "psi_su = su.state\n",
    "# psi.compute_local_expectation(ham.terms, max_bond=32, normalized=True)/(Lx*Ly)\n",
    "psi_su"
   ]
  },
  {
   "cell_type": "code",
   "execution_count": 7,
   "metadata": {},
   "outputs": [
    {
     "data": {
      "text/plain": [
       "[<matplotlib.lines.Line2D at 0x7efc4398e690>]"
      ]
     },
     "execution_count": 7,
     "metadata": {},
     "output_type": "execute_result"
    },
    {
     "data": {
      "image/png": "[encoded data removed]",
      "text/plain": [
       "<Figure size 1000x500 with 1 Axes>"
      ]
     },
     "metadata": {},
     "output_type": "display_data"
    }
   ],
   "source": [
    "from matplotlib import pyplot as plt\n",
    "\n",
    "fig, ax = plt.subplots(1, 1, figsize=(10, 5))\n",
    "ax.plot(su.its[:], su.energies[:], label='Heisenberg')\n"
   ]
  },
  {
   "cell_type": "code",
   "execution_count": 25,
   "metadata": {},
   "outputs": [
    {
     "name": "stdout",
     "output_type": "stream",
     "text": [
      "compressing layer 0\n"
     ]
    },
    {
     "name": "stderr",
     "output_type": "stream",
     "text": [
      "nconv: 8/8 max|dM|=1.81e-06: : 30it [00:00, 41.68it/s]  \n"
     ]
    },
    {
     "name": "stdout",
     "output_type": "stream",
     "text": [
      "max_bond: 2\n",
      "----------------------------------------------\n",
      "compressing layer 1\n"
     ]
    },
    {
     "name": "stderr",
     "output_type": "stream",
     "text": [
      "nconv: 8/8 max|dM|=4.27e-06: : 31it [00:00, 38.55it/s]  \n"
     ]
    },
    {
     "name": "stdout",
     "output_type": "stream",
     "text": [
      "max_bond: 2\n",
      "----------------------------------------------\n",
      "compressing layer 2\n"
     ]
    },
    {
     "name": "stderr",
     "output_type": "stream",
     "text": [
      "nconv: 18/18 max|dM|=4.65e-06: : 35it [00:00, 38.88it/s]\n"
     ]
    },
    {
     "name": "stdout",
     "output_type": "stream",
     "text": [
      "max_bond: 2\n",
      "----------------------------------------------\n",
      "compressing layer 3\n"
     ]
    },
    {
     "name": "stderr",
     "output_type": "stream",
     "text": [
      "nconv: 22/22 max|dM|=4.93e-06: : 43it [00:01, 38.78it/s]\n"
     ]
    },
    {
     "name": "stdout",
     "output_type": "stream",
     "text": [
      "max_bond: 2\n",
      "----------------------------------------------\n",
      "compressing layer 4\n"
     ]
    },
    {
     "name": "stderr",
     "output_type": "stream",
     "text": [
      "nconv: 14/14 max|dM|=4.81e-06: : 51it [00:01, 42.27it/s]\n"
     ]
    },
    {
     "name": "stdout",
     "output_type": "stream",
     "text": [
      "max_bond: 2\n",
      "----------------------------------------------\n",
      "compressing layer 5\n"
     ]
    },
    {
     "name": "stderr",
     "output_type": "stream",
     "text": [
      "nconv: 12/14 max|dM|=8.34e-06: : 51it [00:01, 41.19it/s]\n"
     ]
    },
    {
     "name": "stdout",
     "output_type": "stream",
     "text": [
      "max_bond: 2\n",
      "----------------------------------------------\n",
      "compressing layer 6\n"
     ]
    },
    {
     "name": "stderr",
     "output_type": "stream",
     "text": [
      "nconv: 23/23 max|dM|=4.92e-06: : 42it [00:00, 43.22it/s]\n"
     ]
    },
    {
     "name": "stdout",
     "output_type": "stream",
     "text": [
      "max_bond: 2\n",
      "----------------------------------------------\n",
      "compressing layer 7\n"
     ]
    },
    {
     "name": "stderr",
     "output_type": "stream",
     "text": [
      "nconv: 11/11 max|dM|=2.95e-06: : 53it [00:01, 43.09it/s]\n"
     ]
    },
    {
     "name": "stdout",
     "output_type": "stream",
     "text": [
      "max_bond: 2\n",
      "----------------------------------------------\n",
      "compressing layer 8\n"
     ]
    },
    {
     "name": "stderr",
     "output_type": "stream",
     "text": [
      "nconv: 22/22 max|dM|=3.36e-06: : 54it [00:01, 43.70it/s]\n"
     ]
    },
    {
     "name": "stdout",
     "output_type": "stream",
     "text": [
      "max_bond: 2\n",
      "----------------------------------------------\n",
      "compressing layer 9\n"
     ]
    },
    {
     "name": "stderr",
     "output_type": "stream",
     "text": [
      "nconv: 4/4 max|dM|=2.14e-06: : 53it [00:01, 43.11it/s]  \n"
     ]
    },
    {
     "name": "stdout",
     "output_type": "stream",
     "text": [
      "max_bond: 2\n",
      "----------------------------------------------\n",
      "compressing layer 10\n"
     ]
    },
    {
     "name": "stderr",
     "output_type": "stream",
     "text": [
      "nconv: 7/7 max|dM|=2.16e-06: : 41it [00:00, 43.40it/s]  \n"
     ]
    },
    {
     "name": "stdout",
     "output_type": "stream",
     "text": [
      "max_bond: 2\n",
      "----------------------------------------------\n",
      "compressing layer 11\n"
     ]
    },
    {
     "name": "stderr",
     "output_type": "stream",
     "text": [
      "nconv: 11/11 max|dM|=3.40e-06: : 39it [00:00, 42.82it/s]\n"
     ]
    },
    {
     "name": "stdout",
     "output_type": "stream",
     "text": [
      "max_bond: 2\n",
      "----------------------------------------------\n",
      "compressing layer 12\n"
     ]
    },
    {
     "name": "stderr",
     "output_type": "stream",
     "text": [
      "nconv: 18/18 max|dM|=3.01e-06: : 38it [00:00, 42.53it/s]\n"
     ]
    },
    {
     "name": "stdout",
     "output_type": "stream",
     "text": [
      "max_bond: 2\n",
      "----------------------------------------------\n",
      "compressing layer 13\n"
     ]
    },
    {
     "name": "stderr",
     "output_type": "stream",
     "text": [
      "nconv: 11/11 max|dM|=3.18e-06: : 36it [00:00, 42.39it/s]\n"
     ]
    },
    {
     "name": "stdout",
     "output_type": "stream",
     "text": [
      "max_bond: 2\n",
      "----------------------------------------------\n",
      "compressing layer 14\n"
     ]
    },
    {
     "name": "stderr",
     "output_type": "stream",
     "text": [
      "nconv: 7/7 max|dM|=2.51e-06: : 35it [00:00, 41.71it/s]  \n"
     ]
    },
    {
     "name": "stdout",
     "output_type": "stream",
     "text": [
      "max_bond: 2\n",
      "----------------------------------------------\n",
      "compressing layer 15\n"
     ]
    },
    {
     "name": "stderr",
     "output_type": "stream",
     "text": [
      "nconv: 11/11 max|dM|=4.91e-06: : 32it [00:00, 42.14it/s]\n"
     ]
    },
    {
     "name": "stdout",
     "output_type": "stream",
     "text": [
      "max_bond: 2\n",
      "----------------------------------------------\n",
      "compressing layer 16\n"
     ]
    },
    {
     "name": "stderr",
     "output_type": "stream",
     "text": [
      "nconv: 23/23 max|dM|=4.28e-06: : 31it [00:00, 40.18it/s]\n"
     ]
    },
    {
     "name": "stdout",
     "output_type": "stream",
     "text": [
      "max_bond: 2\n",
      "----------------------------------------------\n",
      "compressing layer 17\n"
     ]
    },
    {
     "name": "stderr",
     "output_type": "stream",
     "text": [
      "nconv: 11/11 max|dM|=2.39e-06: : 30it [00:00, 40.14it/s]\n"
     ]
    },
    {
     "name": "stdout",
     "output_type": "stream",
     "text": [
      "max_bond: 2\n",
      "----------------------------------------------\n",
      "compressing layer 18\n"
     ]
    },
    {
     "name": "stderr",
     "output_type": "stream",
     "text": [
      "nconv: 24/24 max|dM|=4.05e-06: : 26it [00:00, 40.22it/s]\n"
     ]
    },
    {
     "name": "stdout",
     "output_type": "stream",
     "text": [
      "max_bond: 2\n",
      "----------------------------------------------\n",
      "compressing layer 19\n"
     ]
    },
    {
     "name": "stderr",
     "output_type": "stream",
     "text": [
      "nconv: 14/14 max|dM|=2.68e-06: : 25it [00:00, 39.79it/s]\n"
     ]
    },
    {
     "name": "stdout",
     "output_type": "stream",
     "text": [
      "max_bond: 2\n",
      "----------------------------------------------\n",
      "compressing layer 20\n"
     ]
    },
    {
     "name": "stderr",
     "output_type": "stream",
     "text": [
      "nconv: 12/12 max|dM|=3.69e-06: : 20it [00:00, 39.43it/s]\n"
     ]
    },
    {
     "name": "stdout",
     "output_type": "stream",
     "text": [
      "max_bond: 2\n",
      "----------------------------------------------\n",
      "compressing layer 21\n"
     ]
    },
    {
     "name": "stderr",
     "output_type": "stream",
     "text": [
      "nconv: 18/18 max|dM|=3.77e-06: : 20it [00:00, 39.31it/s]\n"
     ]
    },
    {
     "name": "stdout",
     "output_type": "stream",
     "text": [
      "max_bond: 2\n",
      "----------------------------------------------\n",
      "compressing layer 22\n"
     ]
    },
    {
     "name": "stderr",
     "output_type": "stream",
     "text": [
      "nconv: 11/11 max|dM|=2.50e-06: : 19it [00:00, 38.81it/s]\n"
     ]
    },
    {
     "name": "stdout",
     "output_type": "stream",
     "text": [
      "max_bond: 2\n",
      "----------------------------------------------\n",
      "compressing layer 23\n"
     ]
    },
    {
     "name": "stderr",
     "output_type": "stream",
     "text": [
      "nconv: 33/33 max|dM|=4.83e-06: : 18it [00:00, 37.27it/s]\n"
     ]
    },
    {
     "name": "stdout",
     "output_type": "stream",
     "text": [
      "max_bond: 2\n",
      "----------------------------------------------\n",
      "compressing layer 24\n"
     ]
    },
    {
     "name": "stderr",
     "output_type": "stream",
     "text": [
      "nconv: 13/13 max|dM|=1.96e-06: : 19it [00:00, 38.79it/s]\n"
     ]
    },
    {
     "name": "stdout",
     "output_type": "stream",
     "text": [
      "max_bond: 2\n",
      "----------------------------------------------\n",
      "compressing layer 25\n"
     ]
    },
    {
     "name": "stderr",
     "output_type": "stream",
     "text": [
      "nconv: 24/24 max|dM|=2.52e-06: : 19it [00:00, 38.81it/s]\n"
     ]
    },
    {
     "name": "stdout",
     "output_type": "stream",
     "text": [
      "max_bond: 2\n",
      "----------------------------------------------\n",
      "compressing layer 26\n"
     ]
    },
    {
     "name": "stderr",
     "output_type": "stream",
     "text": [
      "nconv: 7/7 max|dM|=1.41e-06: : 19it [00:00, 38.83it/s]  \n"
     ]
    },
    {
     "name": "stdout",
     "output_type": "stream",
     "text": [
      "max_bond: 2\n",
      "----------------------------------------------\n",
      "compressing layer 27\n"
     ]
    },
    {
     "name": "stderr",
     "output_type": "stream",
     "text": [
      "nconv: 7/7 max|dM|=1.20e-06: : 19it [00:00, 41.20it/s]  \n"
     ]
    },
    {
     "name": "stdout",
     "output_type": "stream",
     "text": [
      "max_bond: 2\n",
      "----------------------------------------------\n",
      "compressing layer 28\n"
     ]
    },
    {
     "name": "stderr",
     "output_type": "stream",
     "text": [
      "nconv: 18/18 max|dM|=4.75e-06: : 18it [00:00, 36.90it/s]\n"
     ]
    },
    {
     "name": "stdout",
     "output_type": "stream",
     "text": [
      "max_bond: 2\n",
      "----------------------------------------------\n",
      "compressing layer 29\n"
     ]
    },
    {
     "name": "stderr",
     "output_type": "stream",
     "text": [
      "nconv: 11/11 max|dM|=2.86e-06: : 18it [00:00, 39.09it/s]\n"
     ]
    },
    {
     "name": "stdout",
     "output_type": "stream",
     "text": [
      "max_bond: 2\n",
      "----------------------------------------------\n"
     ]
    }
   ],
   "source": [
    "final_peps, peps_list = run_BPSU_ham(depth=10,\n",
    "                                     Lx=4,\n",
    "                                     Ly=4,\n",
    "                                     ham=ham,\n",
    "                                     tau_list=tau_list,\n",
    "                                     init_state=init_peps,\n",
    "                                     progbar=True,\n",
    "                                     max_bond=2,\n",
    "                                     final_max_bond=2,\n",
    "                                     tol=5e-6,\n",
    "                                     cutoff=0.0,\n",
    "                                     damping=0.25,\n",
    "                                     compute_energy_every=10)\n"
   ]
  },
  {
   "cell_type": "code",
   "execution_count": 26,
   "metadata": {},
   "outputs": [
    {
     "data": {
      "text/plain": [
       "-0.42285827462943226"
      ]
     },
     "execution_count": 26,
     "metadata": {},
     "output_type": "execute_result"
    }
   ],
   "source": [
    "final_peps.compute_local_expectation(ham.terms, max_bond=10,\n",
    "                                     normalized=True) / (Lx * Ly)"
   ]
  },
  {
   "cell_type": "code",
   "execution_count": 24,
   "metadata": {},
   "outputs": [
    {
     "data": {
      "image/png": "[encoded data removed]",
      "text/plain": [
       "<Figure size 600x600 with 1 Axes>"
      ]
     },
     "metadata": {
      "needs_background": "light"
     },
     "output_type": "display_data"
    }
   ],
   "source": [
    "final_peps.draw()"
   ]
  },
  {
   "cell_type": "code",
   "execution_count": 121,
   "metadata": {},
   "outputs": [
    {
     "data": {
      "image/png": "[encoded data removed]",
      "text/plain": [
       "<Figure size 600x600 with 1 Axes>"
      ]
     },
     "metadata": {
      "needs_background": "light"
     },
     "output_type": "display_data"
    }
   ],
   "source": [
    "psi_su.draw()"
   ]
  }
 ],
 "metadata": {
  "kernelspec": {
   "display_name": "BPSU",
   "language": "python",
   "name": "python3"
  },
  "language_info": {
   "codemirror_mode": {
    "name": "ipython",
    "version": 3
   },
   "file_extension": ".py",
   "mimetype": "text/x-python",
   "name": "python",
   "nbconvert_exporter": "python",
   "pygments_lexer": "ipython3",
   "version": "3.11.6"
  }
 },
 "nbformat": 4,
 "nbformat_minor": 2
}
