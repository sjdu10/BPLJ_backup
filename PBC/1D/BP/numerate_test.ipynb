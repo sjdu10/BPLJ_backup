{
 "cells": [
  {
   "cell_type": "code",
   "execution_count": 14,
   "metadata": {},
   "outputs": [
    {
     "name": "stdout",
     "output_type": "stream",
     "text": [
      "Successfully built the HTN.\n"
     ]
    },
    {
     "name": "stderr",
     "output_type": "stream",
     "text": [
      "max_dm=6.607038381734043e-06:   2%|▏         | 37/1500 [00:00<00:01, 810.40it/s]\n",
      "/home/sijingdu/anaconda3/envs/tnmpa/lib/python3.11/site-packages/quimb/utils.py:170: Warning: The _inds_to_eq function is deprecated in favor of inds_to_eq\n",
      "  warnings.warn(\n"
     ]
    }
   ],
   "source": [
    "import numpy as np\n",
    "from bp_funcs import *\n",
    "\n",
    "# htn = HTN1D_classical_LennardJones_partition_function(L = 10, beta = 1/3, N = 15)\n",
    "\n",
    "entropy_bp, marginal, density, max_dm, messages, tn = bp_1DLJ_model(T=3,L=8,N=50,cyclic=True)"
   ]
  },
  {
   "cell_type": "code",
   "execution_count": 15,
   "metadata": {},
   "outputs": [
    {
     "data": {
      "text/plain": [
       "0.9383198436345696"
      ]
     },
     "execution_count": 15,
     "metadata": {},
     "output_type": "execute_result"
    }
   ],
   "source": [
    "density"
   ]
  }
 ],
 "metadata": {
  "kernelspec": {
   "display_name": "tnmpa",
   "language": "python",
   "name": "python3"
  },
  "language_info": {
   "codemirror_mode": {
    "name": "ipython",
    "version": 3
   },
   "file_extension": ".py",
   "mimetype": "text/x-python",
   "name": "python",
   "nbconvert_exporter": "python",
   "pygments_lexer": "ipython3",
   "version": "3.11.5"
  }
 },
 "nbformat": 4,
 "nbformat_minor": 2
}
