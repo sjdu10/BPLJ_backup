{
 "cells": [
  {
   "cell_type": "code",
   "execution_count": 16,
   "metadata": {},
   "outputs": [
    {
     "name": "stdout",
     "output_type": "stream",
     "text": [
      "Successfully built the HTN.\n"
     ]
    },
    {
     "name": "stderr",
     "output_type": "stream",
     "text": [
      "max_dm=8.770793611972971e-06:   2%|▏         | 36/1500 [00:00<00:01, 810.16it/s]\n"
     ]
    }
   ],
   "source": [
    "import numpy as np\n",
    "from bp_funcs import *\n",
    "\n",
    "# htn = HTN1D_classical_LennardJones_partition_function(L = 10, beta = 1/3, N = 15)\n",
    "\n",
    "entropy_bp, marginal, density, max_dm, messages, tn = bp_1DLJ_model(T=3,L=8,N=50,cyclic=True)"
   ]
  },
  {
   "cell_type": "code",
   "execution_count": 17,
   "metadata": {},
   "outputs": [
    {
     "name": "stdout",
     "output_type": "stream",
     "text": [
      "Entropy:  15.284557346368896\n",
      "Marginal:  {'s0': array([0.84986752, 0.15013248]), 's1': array([0.84986382, 0.15013618]), 's2': array([0.8498622, 0.1501378]), 's3': array([0.84986447, 0.15013553]), 's4': array([0.84987023, 0.15012977]), 's5': array([0.84987401, 0.15012599]), 's6': array([0.8498761, 0.1501239]), 's7': array([0.84987241, 0.15012759]), 's8': array([0.84986838, 0.15013162]), 's9': array([0.8498634, 0.1501366]), 's10': array([0.84986248, 0.15013752]), 's11': array([0.84986452, 0.15013548]), 's12': array([0.84986916, 0.15013084]), 's13': array([0.84987287, 0.15012713]), 's14': array([0.84987485, 0.15012515]), 's15': array([0.8498731, 0.1501269]), 's16': array([0.84986958, 0.15013042]), 's17': array([0.84986516, 0.15013484]), 's18': array([0.84986446, 0.15013554]), 's19': array([0.84986492, 0.15013508]), 's20': array([0.84986706, 0.15013294]), 's21': array([0.84987063, 0.15012937]), 's22': array([0.84987286, 0.15012714]), 's23': array([0.84987191, 0.15012809]), 's24': array([0.84987034, 0.15012966]), 's25': array([0.84986867, 0.15013133]), 's26': array([0.84986748, 0.15013252]), 's27': array([0.84986563, 0.15013437]), 's28': array([0.84986658, 0.15013342]), 's29': array([0.84986757, 0.15013243]), 's30': array([0.84986976, 0.15013024]), 's31': array([0.84987017, 0.15012983]), 's32': array([0.84987182, 0.15012818]), 's33': array([0.84987199, 0.15012801]), 's34': array([0.84986918, 0.15013082]), 's35': array([0.84986671, 0.15013329]), 's36': array([0.84986471, 0.15013529]), 's37': array([0.84986595, 0.15013405]), 's38': array([0.84986744, 0.15013256]), 's39': array([0.84987146, 0.15012854]), 's40': array([0.84987335, 0.15012665]), 's41': array([0.84987383, 0.15012617]), 's42': array([0.84986873, 0.15013127]), 's43': array([0.84986478, 0.15013522]), 's44': array([0.84986375, 0.15013625]), 's45': array([0.84986497, 0.15013503]), 's46': array([0.84986804, 0.15013196]), 's47': array([0.8498741, 0.1501259]), 's48': array([0.84987517, 0.15012483]), 's49': array([0.84987298, 0.15012702])}\n",
      "Density:  0.9383198436565079\n",
      "Max_dm:  8.770793611972971e-06\n"
     ]
    }
   ],
   "source": [
    "print(\"Entropy: \", entropy_bp)\n",
    "print(\"Marginal: \", marginal)\n",
    "print(\"Density: \", density)\n",
    "print(\"Max_dm: \", max_dm)"
   ]
  }
 ],
 "metadata": {
  "kernelspec": {
   "display_name": "tnmpa",
   "language": "python",
   "name": "python3"
  },
  "language_info": {
   "codemirror_mode": {
    "name": "ipython",
    "version": 3
   },
   "file_extension": ".py",
   "mimetype": "text/x-python",
   "name": "python",
   "nbconvert_exporter": "python",
   "pygments_lexer": "ipython3",
   "version": "3.11.5"
  }
 },
 "nbformat": 4,
 "nbformat_minor": 2
}
