{
 "cells": [
  {
   "cell_type": "code",
   "execution_count": 27,
   "metadata": {},
   "outputs": [],
   "source": [
    "import xyzpy as xyz\n",
    "import combo_dynamics\n",
    "from combo_dynamics import *\n",
    "from math import pi\n",
    "import quimb.tensor as qtn\n",
    "\n",
    "import numpy as np\n",
    "import os\n",
    "from quimb.tensor.circuit import *\n",
    "from matplotlib import pyplot as plt\n",
    "\n",
    "# set single thread\n",
    "os.environ['OMP_NUM_THREADS'] = '1'\n",
    "os.environ['MKL_NUM_THREADS'] = '1'\n",
    "os.environ['OPENBLAS_NUM_THREADS'] = '1'\n",
    "# specify which gpu\n",
    "os.environ['CUDA_VISIBLE_DEVICES'] = '0'\n",
    "\n",
    "# SimpleUpdate\n",
    "D_init = 2\n",
    "j = (1, 1, 1)\n",
    "g = 0\n",
    "Lx = 4\n",
    "Ly = 2\n",
    "tau_list = [0.5, 0.1, 0.03, 0.01, 5e-3]\n",
    "n_steps = 200\n",
    "# import torch\n",
    "\n",
    "# if torch.cuda.is_available():\n",
    "#     device = 'cuda'\n",
    "# else:\n",
    "#     device = 'cpu'\n",
    "H2 = qu.ham_heis(n=2, j=j)\n",
    "if g != 0:\n",
    "    H1 = qu.ham_heis(n=1, b=(0, 0, g))\n",
    "    ham = qtn.LocalHam2D(Lx, Ly, H2=H2, H1=H1)\n",
    "else:\n",
    "    ham = qtn.LocalHam2D(Lx, Ly, H2=H2)\n",
    "\n",
    "\n",
    "def fill_fn(shape):\n",
    "    array = np.zeros(\n",
    "        shape\n",
    "    )  # except for the first element being 1, all other elements are 0\n",
    "    # shape is a tuple of unknown length, so we use *shape to unpack it\n",
    "    zeros = np.zeros(len(shape))\n",
    "    array[tuple(zeros.astype(int))] = 1\n",
    "    return array\n",
    "\n",
    "\n",
    "ordering = ham.get_auto_ordering('random_sequential')"
   ]
  },
  {
   "cell_type": "code",
   "execution_count": 19,
   "metadata": {},
   "outputs": [],
   "source": [
    "# use pickle to save ordering and load it\n",
    "import pickle\n",
    "\n",
    "with open('./ordering.pkl', 'wb') as f:\n",
    "    pickle.dump(ordering, f)\n",
    "\n",
    "new_ordering = pickle.load(open('./ordering.pkl', 'rb'))"
   ]
  },
  {
   "cell_type": "code",
   "execution_count": 28,
   "metadata": {},
   "outputs": [
    {
     "name": "stdout",
     "output_type": "stream",
     "text": [
      "D: 16\n",
      "(((0, 0), (0, 1)), ((2, 0), (2, 1)), ((1, 0), (1, 1)), ((3, 0), (3, 1)), ((0, 0), (1, 0)), ((2, 1), (3, 1)), ((2, 0), (3, 0)), ((0, 1), (1, 1)), ((1, 1), (2, 1)), ((1, 0), (2, 0)))\n"
     ]
    },
    {
     "name": "stderr",
     "output_type": "stream",
     "text": [
      "n=200, tau=0.5000, energy~-0.514544: 100%|##########| 200/200 [00:03<00:00, 59.63it/s]\n"
     ]
    },
    {
     "name": "stdout",
     "output_type": "stream",
     "text": [
      "(((0, 0), (0, 1)), ((2, 0), (2, 1)), ((1, 0), (1, 1)), ((3, 0), (3, 1)), ((0, 0), (1, 0)), ((2, 1), (3, 1)), ((2, 0), (3, 0)), ((0, 1), (1, 1)), ((1, 1), (2, 1)), ((1, 0), (2, 0)))\n"
     ]
    },
    {
     "name": "stderr",
     "output_type": "stream",
     "text": [
      "n=400, tau=0.1000, energy~-0.535070: 100%|##########| 200/200 [00:03<00:00, 64.35it/s]\n"
     ]
    },
    {
     "name": "stdout",
     "output_type": "stream",
     "text": [
      "(((0, 0), (0, 1)), ((2, 0), (2, 1)), ((1, 0), (1, 1)), ((3, 0), (3, 1)), ((0, 0), (1, 0)), ((2, 1), (3, 1)), ((2, 0), (3, 0)), ((0, 1), (1, 1)), ((1, 1), (2, 1)), ((1, 0), (2, 0)))\n"
     ]
    },
    {
     "name": "stderr",
     "output_type": "stream",
     "text": [
      "n=600, tau=0.0300, energy~-0.536020: 100%|##########| 200/200 [00:02<00:00, 66.69it/s]\n"
     ]
    },
    {
     "name": "stdout",
     "output_type": "stream",
     "text": [
      "(((0, 0), (0, 1)), ((2, 0), (2, 1)), ((1, 0), (1, 1)), ((3, 0), (3, 1)), ((0, 0), (1, 0)), ((2, 1), (3, 1)), ((2, 0), (3, 0)), ((0, 1), (1, 1)), ((1, 1), (2, 1)), ((1, 0), (2, 0)))\n"
     ]
    },
    {
     "name": "stderr",
     "output_type": "stream",
     "text": [
      "n=800, tau=0.0100, energy~-0.536116: 100%|##########| 200/200 [00:03<00:00, 56.42it/s]\n"
     ]
    },
    {
     "name": "stdout",
     "output_type": "stream",
     "text": [
      "(((0, 0), (0, 1)), ((2, 0), (2, 1)), ((1, 0), (1, 1)), ((3, 0), (3, 1)), ((0, 0), (1, 0)), ((2, 1), (3, 1)), ((2, 0), (3, 0)), ((0, 1), (1, 1)), ((1, 1), (2, 1)), ((1, 0), (2, 0)))\n"
     ]
    },
    {
     "name": "stderr",
     "output_type": "stream",
     "text": [
      "n=1000, tau=0.0050, energy~-0.536127: 100%|##########| 200/200 [00:02<00:00, 68.65it/s]\n"
     ]
    }
   ],
   "source": [
    "its_list = []\n",
    "energy_list = []\n",
    "D_list = [16]\n",
    "for D in D_list:\n",
    "    print('D:', D)\n",
    "    init_peps = qtn.PEPS.rand(Lx, Ly, bond_dim=D_init, seed=666)\n",
    "\n",
    "    # ham.apply_to_arrays(to_backend)\n",
    "    # init_peps.apply_to_arrays(to_backend)\n",
    "    su = qtn.SimpleUpdate_exact_energy(\n",
    "        init_peps,\n",
    "        ham,\n",
    "        chi=128,  # boundary contraction bond dim for computing energy\n",
    "        compute_energy_every=40,\n",
    "        compute_energy_per_site=True,\n",
    "        keep_best=True,\n",
    "        second_order_reflect=False,\n",
    "        ordering=new_ordering,\n",
    "        D=D,\n",
    "    )\n",
    "\n",
    "    for tau in tau_list:\n",
    "        print(su.ordering)\n",
    "        su.evolve(n_steps, tau=tau)\n",
    "\n",
    "    its_list.append(su.its)\n",
    "    energy_list.append(su.energies)\n"
   ]
  },
  {
   "cell_type": "code",
   "execution_count": 13,
   "metadata": {},
   "outputs": [
    {
     "name": "stdout",
     "output_type": "stream",
     "text": [
      "Tensor(shape=(2, 2, 2, 2, 2, 2, 2, 2), inds=('k0,0', 'k0,1', 'k1,0', 'k1,1', 'k2,0', 'k2,1', 'k3,0', 'k3,1'), tags=oset(['I0,0', 'X0', 'Y0', 'I0,1', 'Y1', 'I1,0', 'X1', 'I1,1', 'I2,0', 'X2', 'I2,1', 'I3,0', 'X3', 'I3,1']), backend='numpy', dtype='float64')\n"
     ]
    }
   ],
   "source": [
    "# test_state = su.state\n",
    "test_state = qtn.PEPS.rand(Lx, Ly, bond_dim=16)\n",
    "print(test_state.contract())\n",
    "# E = test_state.compute_local_expectation_exact(ham.terms) / (Lx * Ly)\n",
    "# print(E)"
   ]
  },
  {
   "cell_type": "code",
   "execution_count": 6,
   "metadata": {},
   "outputs": [],
   "source": [
    "its_list = np.array(its_list)\n",
    "energy_list = np.array(energy_list)\n",
    "# print(its_list)\n",
    "# print(energy_list)\n",
    "np.save('./SU_Heisenberg/4x4/its_list.npy', its_list)\n",
    "np.save('./SU_Heisenberg/4x4/energy_list.npy', energy_list)"
   ]
  },
  {
   "cell_type": "code",
   "execution_count": 3,
   "metadata": {},
   "outputs": [
    {
     "data": {
      "text/plain": [
       "-0.5366333070821335"
      ]
     },
     "execution_count": 3,
     "metadata": {},
     "output_type": "execute_result"
    }
   ],
   "source": [
    "import quimb as qu\n",
    "\n",
    "energy_exact = qu.groundenergy(qu.ham_heis_2D(Lx, Ly, sparse=True)) / (Lx * Ly)\n",
    "energy_exact"
   ]
  },
  {
   "cell_type": "code",
   "execution_count": 29,
   "metadata": {},
   "outputs": [
    {
     "data": {
      "image/png": "[encoded data removed]",
      "text/plain": [
       "<Figure size 1400x400 with 2 Axes>"
      ]
     },
     "metadata": {},
     "output_type": "display_data"
    }
   ],
   "source": [
    "its = np.array(su.its)\n",
    "\n",
    "fig, ax = plt.subplots(1, 2, figsize=(14, 4))\n",
    "for D in D_list:\n",
    "    ax[0].plot(its_list[D_list.index(D)],\n",
    "               energy_list[D_list.index(D)],\n",
    "               '.-',\n",
    "               label='SU (D=%d)' % D)\n",
    "    relative_error = np.abs(energy_list[D_list.index(D)] -\n",
    "                            energy_exact) / np.abs(energy_exact)\n",
    "    # ax[1].plot(its_list[D_list.index(D)], energy_exact * np.ones_like(its_list[D_list.index(D)]), '--', label='Exact')\n",
    "    ax[1].plot(its_list[D_list.index(D)],\n",
    "               relative_error,\n",
    "               'o-',\n",
    "               label='SU (D=%d)' % D)\n",
    "ax[0].plot(its, energy_exact * np.ones_like(its), '-', label='Exact')\n",
    "ax[0].set_xlabel('Iteration')\n",
    "ax[0].set_ylabel('Energy')\n",
    "ax[0].set_title('SU Energy Convergence')\n",
    "# ax[0].set_yscale('log')\n",
    "# ax[1].plot(its, relative_error, 'o-', label='SU (D=%d)' % D)\n",
    "ax[1].set_xlabel('Iteration')\n",
    "ax[1].set_ylabel('Relative Error')\n",
    "ax[1].set_title('SU Relative Error')\n",
    "ax[1].set_yscale('log')\n",
    "plt.legend()\n",
    "plt.show()"
   ]
  },
  {
   "cell_type": "markdown",
   "metadata": {},
   "source": [
    "### Plot the SU energy - 1/D relation"
   ]
  },
  {
   "cell_type": "code",
   "execution_count": null,
   "metadata": {},
   "outputs": [],
   "source": [
    "energy_list = np.load('./SU_Heisenberg/4x2/energy_list.npy')\n",
    "its_list = np.load('./SU_Heisenberg/4x2/its_list.npy')\n"
   ]
  },
  {
   "cell_type": "code",
   "execution_count": 4,
   "metadata": {},
   "outputs": [],
   "source": [
    "# use the best SU state as the starting point for FU\n",
    "psi0 = su.best['state'].copy()\n",
    "\n",
    "\n",
    "def to_backend(x):\n",
    "    import torch\n",
    "    return torch.tensor(x, dtype=torch.float64)\n",
    "\n",
    "\n",
    "psi0.apply_to_arrays(to_backend)\n",
    "ham.apply_to_arrays(to_backend)\n",
    "\n",
    "fu = qtn.FullUpdate(\n",
    "    psi0=psi0,\n",
    "    ham=ham,\n",
    "    # chi again is the boundary contraction max_bond\n",
    "    # now used for the envs as well as any energy calc\n",
    "    chi=32,\n",
    "    # we thus can cheaply compute the energy at every step\n",
    "    compute_energy_every=5,\n",
    "    compute_energy_per_site=True,\n",
    "    keep_best=True,\n",
    "    D=D,\n",
    ")"
   ]
  },
  {
   "cell_type": "code",
   "execution_count": 5,
   "metadata": {},
   "outputs": [
    {
     "name": "stderr",
     "output_type": "stream",
     "text": [
      "n=100, tau=0.0100, energy~-0.535366: 100%|##########| 100/100 [00:16<00:00,  6.20it/s]\n"
     ]
    }
   ],
   "source": [
    "fu.evolve(100, tau=0.01)"
   ]
  },
  {
   "cell_type": "code",
   "execution_count": 6,
   "metadata": {},
   "outputs": [
    {
     "name": "stderr",
     "output_type": "stream",
     "text": [
      "n=200, tau=0.0100, energy~-0.536086: 100%|##########| 100/100 [00:21<00:00,  4.76it/s]\n"
     ]
    }
   ],
   "source": [
    "fu.evolve(100, tau=0.01)"
   ]
  },
  {
   "cell_type": "code",
   "execution_count": 7,
   "metadata": {},
   "outputs": [
    {
     "name": "stderr",
     "output_type": "stream",
     "text": [
      "n=300, tau=0.0100, energy~-0.534720: 100%|##########| 100/100 [00:22<00:00,  4.52it/s]\n"
     ]
    }
   ],
   "source": [
    "fu.evolve(100, tau=0.01)"
   ]
  },
  {
   "cell_type": "code",
   "execution_count": 8,
   "metadata": {},
   "outputs": [
    {
     "data": {
      "image/png": "[encoded data removed]",
      "text/plain": [
       "<Figure size 640x480 with 1 Axes>"
      ]
     },
     "metadata": {
      "needs_background": "light"
     },
     "output_type": "display_data"
    }
   ],
   "source": [
    "with plt.style.context(qu.NEUTRAL_STYLE):\n",
    "    plt.plot(fu.its, fu.energies, color='green')\n",
    "    plt.axhline(energy_exact, color='black')\n",
    "    plt.title('Full Update Convergence')\n",
    "    plt.ylabel('Energy')\n",
    "    plt.xlabel('Iteration')"
   ]
  },
  {
   "cell_type": "code",
   "execution_count": null,
   "metadata": {},
   "outputs": [],
   "source": [
    "Lx = 4\n",
    "Ly = 2\n",
    "psi0 = qtn.PEPS.rand(Lx, Ly, bond_dim=4)\n",
    "ham = qtn.LocalHam2D(Lx, Ly, H2=qu.ham_heis(2))\n",
    "\n",
    "\n",
    "def loss(psi, terms):\n",
    "    # the following functions simply scale the various tensors\n",
    "    #     for the sake of numerical stability\n",
    "    psi.balance_bonds_()\n",
    "    psi.equalize_norms_(1.0)\n",
    "\n",
    "    # then we just compute the energy of all the terms\n",
    "    return psi.compute_local_expectation(\n",
    "        terms, max_bond=32, cutoff=0.0, normalized=True) / (Lx * Ly)\n",
    "\n",
    "\n",
    "# def from_torch(x):\n",
    "#     return x.detach().cpu().numpy()\n",
    "# psi0 = fu.best['state'].copy()\n",
    "# psi0.apply_to_arrays(from_torch)\n"
   ]
  },
  {
   "cell_type": "code",
   "execution_count": null,
   "metadata": {},
   "outputs": [],
   "source": [
    "tnopt = qtn.TNOptimizer(\n",
    "    # initial TN to optimize\n",
    "    psi0,\n",
    "    # the function to minimize\n",
    "    loss_fn=loss,\n",
    "    # constant TNs, tensors, arrays\n",
    "    loss_constants={'terms': ham.terms},\n",
    "    # the library that computes the gradient\n",
    "    autodiff_backend='torch',\n",
    "    # the scipy optimizer that makes use of the gradient\n",
    "    optimizer='L-BFGS-B',\n",
    ")"
   ]
  }
 ],
 "metadata": {
  "kernelspec": {
   "display_name": "BPSU",
   "language": "python",
   "name": "python3"
  },
  "language_info": {
   "codemirror_mode": {
    "name": "ipython",
    "version": 3
   },
   "file_extension": ".py",
   "mimetype": "text/x-python",
   "name": "python",
   "nbconvert_exporter": "python",
   "pygments_lexer": "ipython3",
   "version": "3.11.6"
  }
 },
 "nbformat": 4,
 "nbformat_minor": 2
}
